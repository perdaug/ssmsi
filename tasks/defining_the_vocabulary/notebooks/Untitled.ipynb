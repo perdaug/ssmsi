{
 "cells": [
  {
   "cell_type": "markdown",
   "metadata": {},
   "source": [
    "# A demonstration on defining the vocabulary."
   ]
  },
  {
   "cell_type": "markdown",
   "metadata": {},
   "source": [
    "## Preliminaries"
   ]
  },
  {
   "cell_type": "markdown",
   "metadata": {},
   "source": [
    "Setting the classification tolerance in ppm; dismissing entities below the intensity floor in <?>."
   ]
  },
  {
   "cell_type": "code",
   "execution_count": 1,
   "metadata": {
    "collapsed": true
   },
   "outputs": [],
   "source": [
    "import json\n",
    "import pymzml\n",
    "import numpy as np\n",
    "\n",
    "INTENSITY_FLOOR = 10\n",
    "TOLERANCE_FACTOR = 7\n",
    "DATA_PATH = \"../data/\"\n",
    "DATA_FILENAME = \"abcdefgh_1.mzML\""
   ]
  },
  {
   "cell_type": "markdown",
   "metadata": {},
   "source": [
    "Auxiliary method for classification with the certain range."
   ]
  },
  {
   "cell_type": "code",
   "execution_count": 2,
   "metadata": {
    "collapsed": true
   },
   "outputs": [],
   "source": [
    "def classify(classes, feature):\n",
    "    for class_ in classes:\n",
    "        if feature >= class_[0] and feature <= class_[1]:\n",
    "            return str(class_)"
   ]
  },
  {
   "cell_type": "markdown",
   "metadata": {},
   "source": [
    "## Initialisation"
   ]
  },
  {
   "cell_type": "markdown",
   "metadata": {},
   "source": [
    "Running the data."
   ]
  },
  {
   "cell_type": "code",
   "execution_count": 3,
   "metadata": {
    "collapsed": false,
    "scrolled": true
   },
   "outputs": [],
   "source": [
    "run = pymzml.run.Reader(DATA_PATH + DATA_FILENAME)"
   ]
  },
  {
   "cell_type": "markdown",
   "metadata": {},
   "source": [
    "Reading entities in a form of (mass, intensity) tuples."
   ]
  },
  {
   "cell_type": "code",
   "execution_count": 4,
   "metadata": {
    "collapsed": false
   },
   "outputs": [],
   "source": [
    "preprocessed_mnis = []  \n",
    "for spectrum in run:\n",
    "    for mass, intensity in spectrum.peaks:\n",
    "        if intensity > INTENSITY_FLOOR:\n",
    "            preprocessed_mnis.append((mass, intensity, spectrum['id']))\n",
    "mnis_dtype = [('mass', float), ('intensity', float), ('id', int)]"
   ]
  },
  {
   "cell_type": "markdown",
   "metadata": {},
   "source": [
    "Using numpy to sort the tuples in ascending mass order."
   ]
  },
  {
   "cell_type": "code",
   "execution_count": 5,
   "metadata": {
    "collapsed": true
   },
   "outputs": [],
   "source": [
    "mnis = np.array(preprocessed_mnis, dtype=mnis_dtype)\n",
    "mnis.sort(order='mass') "
   ]
  },
  {
   "cell_type": "markdown",
   "metadata": {},
   "source": [
    "## Classification"
   ]
  },
  {
   "cell_type": "markdown",
   "metadata": {},
   "source": [
    "Extracting the words."
   ]
  },
  {
   "cell_type": "code",
   "execution_count": 6,
   "metadata": {
    "collapsed": true
   },
   "outputs": [],
   "source": [
    "words = []\n",
    "starting_class_mass = mnis[0][0]\n",
    "previous_mass = mnis[0][0]\n",
    "for entity in mnis:\n",
    "    mass = entity[0]\n",
    "    tolerance = (previous_mass / 1000000) * TOLERANCE_FACTOR\n",
    "    if mass - previous_mass > tolerance:\n",
    "        words.append((starting_class_mass, previous_mass))\n",
    "        starting_class_mass = mass\n",
    "    previous_mass = mass \n",
    "words.append((starting_class_mass, previous_mass))"
   ]
  },
  {
   "cell_type": "markdown",
   "metadata": {},
   "source": [
    "Building the vocabulary."
   ]
  },
  {
   "cell_type": "code",
   "execution_count": null,
   "metadata": {
    "collapsed": true
   },
   "outputs": [],
   "source": [
    "vocabulary = {}\n",
    "for entity in mnis:\n",
    "    key = str(entity[2])\n",
    "    if key not in vocabulary:\n",
    "        vocabulary[key] = {}\n",
    "    class_ = classify(words, entity[0])\n",
    "    if class_ not in vocabulary[key]:\n",
    "        vocabulary[key][class_] = 0\n",
    "    vocabulary[key][class_] += entity[1]"
   ]
  }
 ],
 "metadata": {
  "kernelspec": {
   "display_name": "Python 3",
   "language": "python",
   "name": "python3"
  },
  "language_info": {
   "codemirror_mode": {
    "name": "ipython",
    "version": 3
   },
   "file_extension": ".py",
   "mimetype": "text/x-python",
   "name": "python",
   "nbconvert_exporter": "python",
   "pygments_lexer": "ipython3",
   "version": "3.5.2"
  }
 },
 "nbformat": 4,
 "nbformat_minor": 1
}
