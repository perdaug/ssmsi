{
 "cells": [
  {
   "cell_type": "markdown",
   "metadata": {},
   "source": [
    "## Preliminaries"
   ]
  },
  {
   "cell_type": "code",
   "execution_count": 1,
   "metadata": {
    "collapsed": false
   },
   "outputs": [],
   "source": [
    "import sys\n",
    "import os\n",
    "import pandas as pd\n",
    "\n",
    "HOME_PATH = os.path.expanduser('~')"
   ]
  },
  {
   "cell_type": "markdown",
   "metadata": {},
   "source": [
    "Loading the corpus pickle."
   ]
  },
  {
   "cell_type": "code",
   "execution_count": 2,
   "metadata": {
    "collapsed": false
   },
   "outputs": [],
   "source": [
    "corpus_series = pd.read_pickle('../heavy_pickles/corpus.pickle')\n",
    "corpus = corpus_series.to_dict()"
   ]
  },
  {
   "cell_type": "markdown",
   "metadata": {},
   "source": [
    "## LDA"
   ]
  },
  {
   "cell_type": "markdown",
   "metadata": {},
   "source": [
    "Importing the LDA."
   ]
  },
  {
   "cell_type": "code",
   "execution_count": 3,
   "metadata": {
    "collapsed": true
   },
   "outputs": [],
   "source": [
    "sys.path.append(HOME_PATH + '/Projects/lda/code')\n",
    "from lda import VariationalLDA"
   ]
  },
  {
   "cell_type": "markdown",
   "metadata": {},
   "source": [
    "Initialising the LDA."
   ]
  },
  {
   "cell_type": "code",
   "execution_count": 4,
   "metadata": {
    "collapsed": false
   },
   "outputs": [
    {
     "name": "stdout",
     "output_type": "stream",
     "text": [
      "Found 2442 unique words\n",
      "Object created with 6327 documents\n"
     ]
    }
   ],
   "source": [
    "v_lda = VariationalLDA(corpus=corpus, K=10)"
   ]
  },
  {
   "cell_type": "markdown",
   "metadata": {},
   "source": [
    "Running the LDA."
   ]
  },
  {
   "cell_type": "code",
   "execution_count": 5,
   "metadata": {
    "collapsed": false
   },
   "outputs": [
    {
     "name": "stdout",
     "output_type": "stream",
     "text": [
      "Initialising\n",
      "Starting iterations\n",
      "Iteration 0 (change = 12.2579799406) (13.211432 seconds, I think I'll finish in 22.0190533333 minutes)\n",
      "Iteration 1 (change = 0.13082629118) (12.502778 seconds, I think I'll finish in 20.6295837 minutes)\n",
      "Iteration 2 (change = 0.24756349217) (12.428997 seconds, I think I'll finish in 20.3006951 minutes)\n",
      "Iteration 3 (change = 0.365745737165) (12.399058 seconds, I think I'll finish in 20.0451437667 minutes)\n",
      "Iteration 4 (change = 0.488275950399) (12.524904 seconds, I think I'll finish in 20.0398464 minutes)\n",
      "Iteration 5 (change = 0.60944565865) (12.445687 seconds, I think I'll finish in 19.7056710833 minutes)\n",
      "Iteration 6 (change = 0.711295397316) (12.388494 seconds, I think I'll finish in 19.4086406 minutes)\n",
      "Iteration 7 (change = 0.770378390773) (12.452026 seconds, I think I'll finish in 19.3006403 minutes)\n",
      "Iteration 8 (change = 0.774135846291) (12.549363 seconds, I think I'll finish in 19.2423566 minutes)\n",
      "Iteration 9 (change = 0.72462246729) (12.422027 seconds, I think I'll finish in 18.8400742833 minutes)\n",
      "Iteration 10 (change = 0.639982312946) (12.48432 seconds, I think I'll finish in 18.72648 minutes)\n",
      "Iteration 11 (change = 0.545783062067) (12.580645 seconds, I think I'll finish in 18.6612900833 minutes)\n",
      "Iteration 12 (change = 0.459937640695) (12.549024 seconds, I think I'll finish in 18.4052352 minutes)\n",
      "Iteration 13 (change = 0.392714030852) (12.560393 seconds, I think I'll finish in 18.21256985 minutes)\n",
      "Iteration 14 (change = 0.342399989391) (12.702843 seconds, I think I'll finish in 18.2074083 minutes)\n",
      "Iteration 15 (change = 0.307093310543) (12.608205 seconds, I think I'll finish in 17.86162375 minutes)\n",
      "Iteration 16 (change = 0.284860940893) (12.828912 seconds, I think I'll finish in 17.9604768 minutes)\n",
      "Iteration 17 (change = 0.272308947761) (12.803248 seconds, I think I'll finish in 17.7111597333 minutes)\n",
      "Iteration 18 (change = 0.264201043581) (13.249056 seconds, I think I'll finish in 18.1070432 minutes)\n",
      "Iteration 19 (change = 0.256538796787) (13.12133 seconds, I think I'll finish in 17.7137955 minutes)\n",
      "Iteration 20 (change = 0.248205368265) (13.13043 seconds, I think I'll finish in 17.50724 minutes)\n",
      "Iteration 21 (change = 0.239432783616) (13.170493 seconds, I think I'll finish in 17.3411491167 minutes)\n",
      "Iteration 22 (change = 0.229930372937) (13.479769 seconds, I think I'll finish in 17.5236997 minutes)\n",
      "Iteration 23 (change = 0.219837329396) (13.303008 seconds, I think I'll finish in 17.0721936 minutes)\n",
      "Iteration 24 (change = 0.208710811691) (13.419217 seconds, I think I'll finish in 16.9976748667 minutes)\n",
      "Iteration 25 (change = 0.196850628063) (13.507754 seconds, I think I'll finish in 16.8846925 minutes)\n",
      "Iteration 26 (change = 0.185327808759) (13.374241 seconds, I think I'll finish in 16.4948972333 minutes)\n",
      "Iteration 27 (change = 0.174303626061) (13.288795 seconds, I think I'll finish in 16.1680339167 minutes)\n",
      "Iteration 28 (change = 0.164118413965) (13.241339 seconds, I think I'll finish in 15.8896068 minutes)\n",
      "Iteration 29 (change = 0.154572970579) (13.555948 seconds, I think I'll finish in 16.0412051333 minutes)\n",
      "Iteration 30 (change = 0.145329958074) (13.315257 seconds, I think I'll finish in 15.5344665 minutes)\n",
      "Iteration 31 (change = 0.136677441759) (13.406375 seconds, I think I'll finish in 15.41733125 minutes)\n",
      "Iteration 32 (change = 0.128637027973) (13.358102 seconds, I think I'll finish in 15.1391822667 minutes)\n",
      "Iteration 33 (change = 0.121385647733) (13.429528 seconds, I think I'll finish in 14.9963062667 minutes)\n",
      "Iteration 34 (change = 0.114918559129) (13.409683 seconds, I think I'll finish in 14.7506513 minutes)\n",
      "Iteration 35 (change = 0.108924571214) (13.651795 seconds, I think I'll finish in 14.7894445833 minutes)\n",
      "Iteration 36 (change = 0.103383006978) (13.423758 seconds, I think I'll finish in 14.3186752 minutes)\n",
      "Iteration 37 (change = 0.0983313308296) (13.598317 seconds, I think I'll finish in 14.27823285 minutes)\n",
      "Iteration 38 (change = 0.0937310923644) (13.683124 seconds, I think I'll finish in 14.1392281333 minutes)\n",
      "Iteration 39 (change = 0.0894272822244) (13.615328 seconds, I think I'll finish in 13.8422501333 minutes)\n",
      "Iteration 40 (change = 0.0853959544636) (13.605842 seconds, I think I'll finish in 13.605842 minutes)\n",
      "Iteration 41 (change = 0.081746960915) (13.550219 seconds, I think I'll finish in 13.3243820167 minutes)\n",
      "Iteration 42 (change = 0.0784184136916) (13.760695 seconds, I think I'll finish in 13.3020051667 minutes)\n",
      "Iteration 43 (change = 0.0753385539041) (13.900796 seconds, I think I'll finish in 13.2057562 minutes)\n",
      "Iteration 44 (change = 0.0724821778578) (13.979843 seconds, I think I'll finish in 13.0478534667 minutes)\n",
      "Iteration 45 (change = 0.0698859574401) (13.555275 seconds, I think I'll finish in 12.42566875 minutes)\n",
      "Iteration 46 (change = 0.0674839413205) (13.822718 seconds, I think I'll finish in 12.4404462 minutes)\n",
      "Iteration 47 (change = 0.0652426912575) (13.726425 seconds, I think I'll finish in 12.12500875 minutes)\n",
      "Iteration 48 (change = 0.0631313259891) (13.631407 seconds, I think I'll finish in 11.8138860667 minutes)\n",
      "Iteration 49 (change = 0.0611525723789) (13.610976 seconds, I think I'll finish in 11.5693296 minutes)\n",
      "Iteration 50 (change = 0.0592955087014) (13.733885 seconds, I think I'll finish in 11.4449041667 minutes)\n",
      "Iteration 51 (change = 0.0575400263349) (13.767342 seconds, I think I'll finish in 11.2433293 minutes)\n",
      "Iteration 52 (change = 0.0558875351115) (13.609946 seconds, I think I'll finish in 10.8879568 minutes)\n",
      "Iteration 53 (change = 0.054338214413) (13.812773 seconds, I think I'll finish in 10.8200055167 minutes)\n",
      "Iteration 54 (change = 0.0528703314578) (13.794679 seconds, I think I'll finish in 10.5759205667 minutes)\n",
      "Iteration 55 (change = 0.0514804784206) (13.724126 seconds, I think I'll finish in 10.2930945 minutes)\n",
      "Iteration 56 (change = 0.0501526586573) (13.851601 seconds, I think I'll finish in 10.1578407333 minutes)\n",
      "Iteration 57 (change = 0.0488820694592) (14.078241 seconds, I think I'll finish in 10.08940605 minutes)\n",
      "Iteration 58 (change = 0.0476659406909) (13.692239 seconds, I think I'll finish in 9.5845673 minutes)\n",
      "Iteration 59 (change = 0.0465247941834) (13.848359 seconds, I think I'll finish in 9.46304531667 minutes)\n",
      "Iteration 60 (change = 0.0454495610352) (13.683348 seconds, I think I'll finish in 9.122232 minutes)\n",
      "Iteration 61 (change = 0.0444337315434) (13.798934 seconds, I think I'll finish in 8.9693071 minutes)\n",
      "Iteration 62 (change = 0.0434657408822) (13.892861 seconds, I think I'll finish in 8.79881196667 minutes)\n",
      "Iteration 63 (change = 0.0425370496807) (13.99717 seconds, I think I'll finish in 8.63158816667 minutes)\n",
      "Iteration 64 (change = 0.0416534124786) (13.96439 seconds, I think I'll finish in 8.378634 minutes)\n",
      "Iteration 65 (change = 0.0407942068408) (13.914899 seconds, I think I'll finish in 8.11702441667 minutes)\n",
      "Iteration 66 (change = 0.0399586660026) (13.791784 seconds, I think I'll finish in 7.81534426667 minutes)\n",
      "Iteration 67 (change = 0.0391507401763) (13.620659 seconds, I think I'll finish in 7.49136245 minutes)\n",
      "Iteration 68 (change = 0.0383803983858) (13.636824 seconds, I think I'll finish in 7.2729728 minutes)\n",
      "Iteration 69 (change = 0.0376416811859) (13.676866 seconds, I think I'll finish in 7.06638076667 minutes)\n",
      "Iteration 70 (change = 0.0369326547338) (13.492718 seconds, I think I'll finish in 6.746359 minutes)\n",
      "Iteration 71 (change = 0.0362549421276) (13.693738 seconds, I think I'll finish in 6.61864003333 minutes)\n",
      "Iteration 72 (change = 0.0356138064202) (13.97979 seconds, I think I'll finish in 6.523902 minutes)\n",
      "Iteration 73 (change = 0.0350055002144) (13.795553 seconds, I think I'll finish in 6.20799885 minutes)\n",
      "Iteration 74 (change = 0.0344289254971) (13.652973 seconds, I think I'll finish in 5.9162883 minutes)\n",
      "Iteration 75 (change = 0.0338735017982) (13.572585 seconds, I think I'll finish in 5.65524375 minutes)\n",
      "Iteration 76 (change = 0.0333367346936) (13.825339 seconds, I think I'll finish in 5.5301356 minutes)\n",
      "Iteration 77 (change = 0.03281746202) (13.768326 seconds, I think I'll finish in 5.2778583 minutes)\n",
      "Iteration 78 (change = 0.0323218018956) (13.790967 seconds, I think I'll finish in 5.0566879 minutes)\n",
      "Iteration 79 (change = 0.0318475157679) (13.571197 seconds, I think I'll finish in 4.74991895 minutes)\n",
      "Iteration 80 (change = 0.0313879856744) (13.68075 seconds, I think I'll finish in 4.56025 minutes)\n",
      "Iteration 81 (change = 0.0309404076895) (13.562671 seconds, I think I'll finish in 4.29484581667 minutes)\n",
      "Iteration 82 (change = 0.0305040996499) (13.612655 seconds, I think I'll finish in 4.0837965 minutes)\n",
      "Iteration 83 (change = 0.0300857135577) (13.586387 seconds, I think I'll finish in 3.84947631667 minutes)\n",
      "Iteration 84 (change = 0.0296857045083) (13.780328 seconds, I think I'll finish in 3.67475413333 minutes)\n",
      "Iteration 85 (change = 0.0292959193551) (13.873695 seconds, I think I'll finish in 3.46842375 minutes)\n",
      "Iteration 86 (change = 0.0289150439185) (13.799103 seconds, I think I'll finish in 3.2197907 minutes)\n",
      "Iteration 87 (change = 0.0285419170168) (13.571112 seconds, I think I'll finish in 2.9404076 minutes)\n",
      "Iteration 88 (change = 0.0281761005461) (13.784905 seconds, I think I'll finish in 2.756981 minutes)\n",
      "Iteration 89 (change = 0.0278159436593) (13.744255 seconds, I think I'll finish in 2.51978008333 minutes)\n",
      "Iteration 90 (change = 0.0274638489365) (13.797011 seconds, I think I'll finish in 2.29950183333 minutes)\n",
      "Iteration 91 (change = 0.027119184168) (13.886142 seconds, I think I'll finish in 2.0829213 minutes)\n",
      "Iteration 92 (change = 0.0267827377076) (13.940572 seconds, I think I'll finish in 1.85874293333 minutes)\n",
      "Iteration 93 (change = 0.0264523022785) (13.811093 seconds, I think I'll finish in 1.61129418333 minutes)\n",
      "Iteration 94 (change = 0.0261261829625) (13.89243 seconds, I think I'll finish in 1.389243 minutes)\n",
      "Iteration 95 (change = 0.0258038232365) (13.746814 seconds, I think I'll finish in 1.14556783333 minutes)\n",
      "Iteration 96 (change = 0.0254874603976) (13.604472 seconds, I think I'll finish in 0.9069648 minutes)\n",
      "Iteration 97 (change = 0.0251756254655) (13.60561 seconds, I think I'll finish in 0.6802805 minutes)\n",
      "Iteration 98 (change = 0.0248688964537) (13.543441 seconds, I think I'll finish in 0.451448033333 minutes)\n",
      "Iteration 99 (change = 0.0245679435738) (13.594795 seconds, I think I'll finish in 0.226579916667 minutes)\n"
     ]
    }
   ],
   "source": [
    "v_lda.run_vb(n_its=100)"
   ]
  },
  {
   "cell_type": "markdown",
   "metadata": {},
   "source": [
    "Word probability distributions in a topic."
   ]
  },
  {
   "cell_type": "code",
   "execution_count": 8,
   "metadata": {
    "collapsed": false
   },
   "outputs": [],
   "source": [
    "topic_as_dict = v_lda.get_topic_as_dict(1)"
   ]
  },
  {
   "cell_type": "markdown",
   "metadata": {},
   "source": [
    "Topic probability distributions in documents."
   ]
  },
  {
   "cell_type": "code",
   "execution_count": 6,
   "metadata": {
    "collapsed": false
   },
   "outputs": [],
   "source": [
    "document_topic_probabilities = v_lda.get_expect_theta()\n",
    "document_topic_probabilities.dump(\"../pickles/document_topic_probabilities.pickle\")"
   ]
  },
  {
   "cell_type": "markdown",
   "metadata": {},
   "source": [
    "Document ids in the topic distribution."
   ]
  },
  {
   "cell_type": "code",
   "execution_count": 7,
   "metadata": {
    "collapsed": false,
    "scrolled": false
   },
   "outputs": [
    {
     "name": "stdout",
     "output_type": "stream",
     "text": [
      "Done 500\n",
      "Done 1000\n",
      "Done 1500\n",
      "Done 2000\n",
      "Done 2500\n",
      "Done 3000\n",
      "Done 3500\n",
      "Done 4000\n",
      "Done 4500\n",
      "Done 5000\n",
      "Done 5500\n",
      "Done 6000\n"
     ]
    }
   ],
   "source": [
    "topic_dict = v_lda.make_dictionary()\n",
    "doc_indices = pd.Series(topic_dict['doc_index'])\n",
    "doc_indices.to_pickle('../pickles/doc_id_mapping.pickle')"
   ]
  },
  {
   "cell_type": "code",
   "execution_count": null,
   "metadata": {
    "collapsed": true
   },
   "outputs": [],
   "source": []
  }
 ],
 "metadata": {
  "kernelspec": {
   "display_name": "Python 2",
   "language": "python",
   "name": "python2"
  },
  "language_info": {
   "codemirror_mode": {
    "name": "ipython",
    "version": 2
   },
   "file_extension": ".py",
   "mimetype": "text/x-python",
   "name": "python",
   "nbconvert_exporter": "python",
   "pygments_lexer": "ipython2",
   "version": "2.7.12"
  }
 },
 "nbformat": 4,
 "nbformat_minor": 1
}
