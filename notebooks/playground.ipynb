{
 "cells": [
  {
   "cell_type": "code",
   "execution_count": 29,
   "metadata": {
    "collapsed": false
   },
   "outputs": [
    {
     "data": {
      "text/html": [
       "<iframe id=\"igraph\" scrolling=\"no\" style=\"border:none;\" seamless=\"seamless\" src=\"https://plot.ly/~arip/24.embed\" height=\"525px\" width=\"100%\"></iframe>"
      ],
      "text/plain": [
       "<plotly.tools.PlotlyDisplay object>"
      ]
     },
     "execution_count": 29,
     "metadata": {},
     "output_type": "execute_result"
    }
   ],
   "source": [
    "import os\n",
    "import pandas as pd\n",
    "import numpy as np\n",
    "np.set_printoptions(suppress=True)\n",
    "HOME_PATH = os.path.expanduser('~')\n",
    "\n",
    "alphas_panda = pd.read_pickle(HOME_PATH + '/Projects/tminm/pickles/document_alphas_ari_gibbs.pickle')\n",
    "alphas = alphas_panda.tolist()\n",
    "thetas_panda = pd.read_pickle(HOME_PATH + '/Projects/tminm/pickles/document_topic_probabilities_ari_gibbs.pickle')\n",
    "thetas = alphas_panda.tolist()\n",
    "\n",
    "alphas_plot = []\n",
    "thetas_plot = []\n",
    "for i in range(9):\n",
    "    alphas_plot.append(alphas[i][0])\n",
    "    thetas_plot.append(alphas[i+1][0])\n",
    "\n",
    "import plotly.plotly as py\n",
    "import plotly.graph_objs as go\n",
    "\n",
    "# Create a trace\n",
    "trace = go.Scatter(\n",
    "    x = np.linspace(0, 8, 9),\n",
    "    y = alphas_plot\n",
    ")\n",
    "\n",
    "trace1 = go.Scatter(\n",
    "    x = np.linspace(0, 8, 9),\n",
    "    y = thetas_plot\n",
    ")\n",
    "\n",
    "data = [trace, trace1]\n",
    "\n",
    "# Plot and embed in ipython notebook!\n",
    "py.iplot(data, filename='basic-line')\n",
    "\n"
   ]
  },
  {
   "cell_type": "code",
   "execution_count": null,
   "metadata": {
    "collapsed": true
   },
   "outputs": [],
   "source": []
  }
 ],
 "metadata": {
  "kernelspec": {
   "display_name": "Python 2",
   "language": "python",
   "name": "python2"
  },
  "language_info": {
   "codemirror_mode": {
    "name": "ipython",
    "version": 2
   },
   "file_extension": ".py",
   "mimetype": "text/x-python",
   "name": "python",
   "nbconvert_exporter": "python",
   "pygments_lexer": "ipython2",
   "version": "2.7.12"
  }
 },
 "nbformat": 4,
 "nbformat_minor": 1
}
