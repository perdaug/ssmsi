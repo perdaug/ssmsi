{
 "cells": [
  {
   "cell_type": "code",
   "execution_count": 23,
   "metadata": {
    "collapsed": false
   },
   "outputs": [],
   "source": [
    "import os\n",
    "import pandas as pd\n",
    "import numpy as np\n",
    "\n",
    "HOME_PATH = os.path.expanduser('~')\n",
    "PICKLES_PATH = HOME_PATH + '/Projects/tminm/pickles/'\n",
    "HEAVY_PICKLES_PATH = HOME_PATH + '/Projects/tminm/heavy_pickles/'"
   ]
  },
  {
   "cell_type": "code",
   "execution_count": 24,
   "metadata": {
    "collapsed": false
   },
   "outputs": [],
   "source": [
    "vocab_pickle = pd.read_pickle(HEAVY_PICKLES_PATH + 'vocab.pickle')\n",
    "vocab = vocab_pickle.tolist()"
   ]
  },
  {
   "cell_type": "code",
   "execution_count": 25,
   "metadata": {
    "collapsed": false
   },
   "outputs": [],
   "source": [
    "K = 10\n",
    "V = len(vocab)\n",
    "# xi and D give a notion in relicating the 'b and e' corpus.\n",
    "xi = 200\n",
    "D = 6327\n",
    "\n",
    "alpha = np.random.rand(K)\n",
    "beta = np.zeros((K, V))\n",
    "\n",
    "for r, row in enumerate(beta):\n",
    "    beta[r] = np.random.dirichlet(np.full(V, 1./V))"
   ]
  },
  {
   "cell_type": "code",
   "execution_count": 26,
   "metadata": {
    "collapsed": true
   },
   "outputs": [],
   "source": [
    "def mean_parameter(arr):\n",
    "    return np.exp(arr) / np.sum(np.exp(arr))"
   ]
  },
  {
   "cell_type": "code",
   "execution_count": 29,
   "metadata": {
    "collapsed": false
   },
   "outputs": [
    {
     "name": "stdout",
     "output_type": "stream",
     "text": [
      "[ 0.13337925  0.00157562  0.16691397  0.16805026  0.15109834  0.01744935\n",
      "  0.16507376  0.00155755  0.1485754   0.04632649]\n"
     ]
    },
    {
     "ename": "ValueError",
     "evalue": "sum(pvals[:-1]) > 1.0",
     "output_type": "error",
     "traceback": [
      "\u001b[0;31m---------------------------------------------------------------------------\u001b[0m",
      "\u001b[0;31mValueError\u001b[0m                                Traceback (most recent call last)",
      "\u001b[0;32m<ipython-input-29-7d5e7b11f7ba>\u001b[0m in \u001b[0;36m<module>\u001b[0;34m()\u001b[0m\n\u001b[1;32m      8\u001b[0m         \u001b[0mtopic_distrib\u001b[0m \u001b[0;34m=\u001b[0m \u001b[0mnp\u001b[0m\u001b[0;34m.\u001b[0m\u001b[0mrandom\u001b[0m\u001b[0;34m.\u001b[0m\u001b[0mmultinomial\u001b[0m\u001b[0;34m(\u001b[0m\u001b[0;36m1\u001b[0m\u001b[0;34m,\u001b[0m \u001b[0mtheta\u001b[0m\u001b[0;34m)\u001b[0m\u001b[0;34m\u001b[0m\u001b[0m\n\u001b[1;32m      9\u001b[0m         \u001b[0mz\u001b[0m \u001b[0;34m=\u001b[0m \u001b[0mnp\u001b[0m\u001b[0;34m.\u001b[0m\u001b[0mwhere\u001b[0m\u001b[0;34m(\u001b[0m\u001b[0mtopic_distrib\u001b[0m \u001b[0;34m==\u001b[0m \u001b[0;36m1\u001b[0m\u001b[0;34m)\u001b[0m\u001b[0;34m[\u001b[0m\u001b[0;36m0\u001b[0m\u001b[0;34m]\u001b[0m\u001b[0;34m[\u001b[0m\u001b[0;36m0\u001b[0m\u001b[0;34m]\u001b[0m\u001b[0;34m\u001b[0m\u001b[0m\n\u001b[0;32m---> 10\u001b[0;31m         \u001b[0mword_distrib\u001b[0m \u001b[0;34m=\u001b[0m \u001b[0mnp\u001b[0m\u001b[0;34m.\u001b[0m\u001b[0mrandom\u001b[0m\u001b[0;34m.\u001b[0m\u001b[0mmultinomial\u001b[0m\u001b[0;34m(\u001b[0m\u001b[0;36m1\u001b[0m\u001b[0;34m,\u001b[0m \u001b[0mbeta\u001b[0m\u001b[0;34m[\u001b[0m\u001b[0mz\u001b[0m\u001b[0;34m]\u001b[0m\u001b[0;34m)\u001b[0m\u001b[0;34m\u001b[0m\u001b[0m\n\u001b[0m\u001b[1;32m     11\u001b[0m         \u001b[0mw\u001b[0m \u001b[0;34m=\u001b[0m \u001b[0mnp\u001b[0m\u001b[0;34m.\u001b[0m\u001b[0mwhere\u001b[0m\u001b[0;34m(\u001b[0m\u001b[0mword_distrib\u001b[0m \u001b[0;34m==\u001b[0m \u001b[0;36m1\u001b[0m\u001b[0;34m)\u001b[0m\u001b[0;34m[\u001b[0m\u001b[0;36m0\u001b[0m\u001b[0;34m]\u001b[0m\u001b[0;34m[\u001b[0m\u001b[0;36m0\u001b[0m\u001b[0;34m]\u001b[0m\u001b[0;34m\u001b[0m\u001b[0m\n\u001b[1;32m     12\u001b[0m         \u001b[0mw_key\u001b[0m \u001b[0;34m=\u001b[0m \u001b[0mvocab\u001b[0m\u001b[0;34m[\u001b[0m\u001b[0mw\u001b[0m\u001b[0;34m]\u001b[0m\u001b[0;34m\u001b[0m\u001b[0m\n",
      "\u001b[0;32mmtrand.pyx\u001b[0m in \u001b[0;36mmtrand.RandomState.multinomial (numpy/random/mtrand/mtrand.c:32793)\u001b[0;34m()\u001b[0m\n",
      "\u001b[0;31mValueError\u001b[0m: sum(pvals[:-1]) > 1.0"
     ]
    }
   ],
   "source": [
    "theta = np.random.dirichlet(alpha)\n",
    "generated_corpus = {}\n",
    "for i in range(D):\n",
    "    generated_corpus[i] = {}\n",
    "    N = np.random.poisson(xi)\n",
    "    for j in range(N):\n",
    "        topic_distrib = np.random.multinomial(1, theta)\n",
    "        z = np.where(topic_distrib == 1)[0][0]\n",
    "        word_distrib = np.random.multinomial(1, beta[z])\n",
    "        w = np.where(word_distrib == 1)[0][0]\n",
    "        w_key = vocab[w]\n",
    "        if w_key not in generated_corpus[i]:\n",
    "            generated_corpus[i][w_key] = 0\n",
    "        generated_corpus[i][w_key] += 1\n",
    "        \n",
    "corpus_panda = pd.Series(generated_corpus)\n",
    "corpus_panda.to_pickle(HEAVY_PICKLES_PATH + 'gen_corpus.pickle')"
   ]
  },
  {
   "cell_type": "code",
   "execution_count": 28,
   "metadata": {
    "collapsed": false
   },
   "outputs": [],
   "source": [
    "seq_generated_corpus = {}\n",
    "for i in range(D):\n",
    "    seq_generated_corpus[i] = {}\n",
    "    N = np.random.poisson(xi)\n",
    "    eta = np.random.normal(alpha)\n",
    "    for j in range(N):\n",
    "        mp_eta = mean_parameter(eta)\n",
    "        topic_distrib = np.random.multinomial(1, mp_eta)\n",
    "        z = np.where(topic_distrib == 1)[0][0]\n",
    "        mp_beta = mean_parameter(beta[z])\n",
    "        word_distrib = np.random.multinomial(1, mp_beta)\n",
    "        w = np.where(word_distrib == 1)[0][0]\n",
    "        w_key = vocab[w]\n",
    "        if w_key not in seq_generated_corpus[i]:\n",
    "            seq_generated_corpus[i][w_key] = 0\n",
    "        seq_generated_corpus[i][w_key] += 1\n",
    "    beta = np.random.normal(beta)\n",
    "    alpha = np.random.normal(alpha)\n",
    "    \n",
    "seq_corpus_panda = pd.Series(seq_generated_corpus)\n",
    "seq_corpus_panda.to_pickle(HEAVY_PICKLES_PATH + 'seq_gen_corpus.pickle')"
   ]
  },
  {
   "cell_type": "code",
   "execution_count": null,
   "metadata": {
    "collapsed": true
   },
   "outputs": [],
   "source": []
  }
 ],
 "metadata": {
  "kernelspec": {
   "display_name": "Python 2",
   "language": "python",
   "name": "python2"
  },
  "language_info": {
   "codemirror_mode": {
    "name": "ipython",
    "version": 2
   },
   "file_extension": ".py",
   "mimetype": "text/x-python",
   "name": "python",
   "nbconvert_exporter": "python",
   "pygments_lexer": "ipython2",
   "version": "2.7.12"
  }
 },
 "nbformat": 4,
 "nbformat_minor": 1
}
