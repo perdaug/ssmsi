{
 "cells": [
  {
   "cell_type": "code",
   "execution_count": 1,
   "metadata": {
    "collapsed": false
   },
   "outputs": [],
   "source": [
    "import plotly.plotly as py\n",
    "import plotly.graph_objs as go\n",
    "import pandas as pd\n",
    "import os\n",
    "\n",
    "HOME_PATH = os.path.expanduser('~')\n",
    "VOCABULARIES_PATH = '/Projects/mlinb/pickles/word_distributions/'"
   ]
  },
  {
   "cell_type": "code",
   "execution_count": 33,
   "metadata": {
    "collapsed": false
   },
   "outputs": [
    {
     "name": "stdout",
     "output_type": "stream",
     "text": [
      "{'start': 1981.3777345470671, 'end': 1999.9936958056519}\n"
     ]
    }
   ],
   "source": [
    "import ast\n",
    "\n",
    "topic_pickles = os.listdir(HOME_PATH + VOCABULARIES_PATH)\n",
    "topic_id = 0\n",
    "\n",
    "topic_pickle = pd.read_pickle(HOME_PATH + VOCABULARIES_PATH + topic_pickles[topic_id])\n",
    "topic_dict = topic_pickle.to_dict()\n",
    "\n",
    "# Enhancing dictionary for sorting purposes\n",
    "for key, val in topic_dict.iteritems():\n",
    "    key_as_dict = ast.literal_eval(key)\n",
    "    topic_dict[key] = {'intensity': val, 'mass': key_as_dict}\n",
    "\n",
    "topic_list = sorted(topic_dict, key=lambda k: topic_dict[k]['mass']['start'])\n"
   ]
  },
  {
   "cell_type": "code",
   "execution_count": 40,
   "metadata": {
    "collapsed": false
   },
   "outputs": [],
   "source": [
    "vocabulary = []\n",
    "intensities = []\n",
    "\n",
    "for key in topic_list:\n",
    "    vocabulary.append(key)\n",
    "    intensities.append(topic_dict[key]['intensity'])"
   ]
  },
  {
   "cell_type": "code",
   "execution_count": 41,
   "metadata": {
    "collapsed": false
   },
   "outputs": [
    {
     "data": {
      "text/html": [
       "<iframe id=\"igraph\" scrolling=\"no\" style=\"border:none;\" seamless=\"seamless\" src=\"https://plot.ly/~ArijusP/66.embed\" height=\"525px\" width=\"100%\"></iframe>"
      ],
      "text/plain": [
       "<plotly.tools.PlotlyDisplay object>"
      ]
     },
     "execution_count": 41,
     "metadata": {},
     "output_type": "execute_result"
    }
   ],
   "source": [
    "data = [\n",
    "    go.Bar(\n",
    "        x=vocabulary,\n",
    "        y=intensities\n",
    "    )\n",
    "]\n",
    "fig = go.Figure(data=data)\n",
    "    \n",
    "py.iplot(fig)"
   ]
  },
  {
   "cell_type": "code",
   "execution_count": null,
   "metadata": {
    "collapsed": true
   },
   "outputs": [],
   "source": []
  }
 ],
 "metadata": {
  "kernelspec": {
   "display_name": "Python 2",
   "language": "python",
   "name": "python2"
  },
  "language_info": {
   "codemirror_mode": {
    "name": "ipython",
    "version": 2
   },
   "file_extension": ".py",
   "mimetype": "text/x-python",
   "name": "python",
   "nbconvert_exporter": "python",
   "pygments_lexer": "ipython2",
   "version": "2.7.12"
  }
 },
 "nbformat": 4,
 "nbformat_minor": 1
}
