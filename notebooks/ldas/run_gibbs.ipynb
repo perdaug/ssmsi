{
 "cells": [
  {
   "cell_type": "code",
   "execution_count": 4,
   "metadata": {
    "collapsed": false
   },
   "outputs": [],
   "source": [
    "import sys\n",
    "import os\n",
    "import pandas as pd\n",
    "\n",
    "HOME_PATH = os.path.expanduser('~') + '/Projects/ssmsi/'\n",
    "DATA_PATH = HOME_PATH + 'pickles/corpora/a-to-h/'\n",
    "OUT_PATH = HOME_PATH + 'pickles/results/lda_gibbs/'\n",
    "LIBS_PATH = HOME_PATH + 'code/ldas/'\n",
    "sys.path.append(LIBS_PATH)\n",
    "\n",
    "from lda_gibbs import LDA_Gibbs"
   ]
  },
  {
   "cell_type": "code",
   "execution_count": 5,
   "metadata": {
    "collapsed": false
   },
   "outputs": [
    {
     "name": "stdout",
     "output_type": "stream",
     "text": [
      "Iteration 0:\n",
      "Current theta:\n",
      "[[  6.03862155e-028   2.15421980e-001   7.56901369e-001   2.67689115e-010\n",
      "    2.49841343e-002   1.18287675e-037   1.56005759e-007   0.00000000e+000\n",
      "    2.69236034e-003   0.00000000e+000]\n",
      " [  5.67243187e-008   2.99002488e-003   4.36030714e-002   2.65442216e-013\n",
      "    3.64015571e-001   8.43152104e-019   1.93596727e-006   1.03671389e-001\n",
      "    4.85717951e-001   1.56220068e-016]\n",
      " [  4.86075886e-003   1.86483860e-002   9.35027249e-004   7.89927016e-002\n",
      "    2.40592093e-004   5.49740406e-013   7.19824663e-016   1.39280189e-014\n",
      "    8.96322534e-001   4.01616915e-012]\n",
      " [  7.17122090e-008   4.31861134e-001   1.03366337e-005   4.66877439e-010\n",
      "    9.31593937e-010   8.07031244e-005   3.49591436e-004   3.41180099e-002\n",
      "    5.46640490e-022   5.33580151e-001]\n",
      " [  6.69928132e-002   2.69822104e-001   2.03316577e-029   1.39890948e-008\n",
      "    1.66375512e-001   8.79080987e-002   2.44259032e-044   3.80119663e-001\n",
      "    7.87330767e-015   2.87817961e-002]\n",
      " ..., \n",
      " [  3.42315136e-098   2.84055125e-023   2.49650861e-001   6.92562806e-004\n",
      "    1.38989622e-013   4.70408771e-020   5.88300555e-003   2.78580160e-006\n",
      "    3.35665180e-004   7.43435119e-001]\n",
      " [  4.89811268e-002   3.79104005e-012   1.86060052e-007   3.53159233e-007\n",
      "    5.26546456e-007   8.21249494e-017   5.74176900e-011   1.16479240e-001\n",
      "    8.47575690e-002   7.49780998e-001]\n",
      " [  5.91407059e-001   1.62017455e-092   2.37450153e-022   4.39635093e-002\n",
      "    2.88553142e-001   6.59972021e-003   6.49083011e-002   4.56826792e-003\n",
      "    1.02988198e-013   6.99104308e-015]\n",
      " [  3.32057897e-001   6.02014183e-003   3.64386352e-002   0.00000000e+000\n",
      "    6.22088256e-001   9.43239973e-212   3.15652378e-021   3.26370358e-006\n",
      "    5.57546226e-006   3.38623098e-003]\n",
      " [  8.70528344e-002   2.31941921e-002   1.84193300e-019   6.75405572e-007\n",
      "    2.37021319e-002   9.54968665e-012   1.37062160e-013   3.59379369e-001\n",
      "    2.51856378e-004   5.06418941e-001]]\n",
      "Iteration 1:\n"
     ]
    },
    {
     "ename": "KeyboardInterrupt",
     "evalue": "",
     "output_type": "error",
     "traceback": [
      "\u001b[0;31m---------------------------------------------------------------------------\u001b[0m",
      "\u001b[0;31mKeyboardInterrupt\u001b[0m                         Traceback (most recent call last)",
      "\u001b[0;32m<ipython-input-5-35067a618960>\u001b[0m in \u001b[0;36m<module>\u001b[0;34m()\u001b[0m\n\u001b[1;32m      2\u001b[0m \u001b[0;31m# To-do: Fix the main corpus (the number of col is arbitrary)\u001b[0m\u001b[0;34m\u001b[0m\u001b[0;34m\u001b[0m\u001b[0m\n\u001b[1;32m      3\u001b[0m \u001b[0mcorpus\u001b[0m \u001b[0;34m=\u001b[0m \u001b[0mpd\u001b[0m\u001b[0;34m.\u001b[0m\u001b[0mread_pickle\u001b[0m\u001b[0;34m(\u001b[0m\u001b[0mDATA_PATH\u001b[0m \u001b[0;34m+\u001b[0m \u001b[0;34m'a-to-h_corpus_r.pickle'\u001b[0m\u001b[0;34m)\u001b[0m\u001b[0;34m\u001b[0m\u001b[0m\n\u001b[0;32m----> 4\u001b[0;31m \u001b[0mlda_gibbs\u001b[0m\u001b[0;34m.\u001b[0m\u001b[0mfit\u001b[0m\u001b[0;34m(\u001b[0m\u001b[0mcorpus\u001b[0m\u001b[0;34m)\u001b[0m\u001b[0;34m\u001b[0m\u001b[0m\n\u001b[0m\u001b[1;32m      5\u001b[0m \u001b[0mlda_gibbs\u001b[0m\u001b[0;34m.\u001b[0m\u001b[0mdump_thetas\u001b[0m\u001b[0;34m(\u001b[0m\u001b[0mOUT_PATH\u001b[0m \u001b[0;34m+\u001b[0m \u001b[0;34m'gibbs_thetas.pickle'\u001b[0m\u001b[0;34m)\u001b[0m\u001b[0;34m\u001b[0m\u001b[0m\n",
      "\u001b[0;32m/home/prdgmzs/Projects/ssmsi/code/ldas/lda_gibbs.py\u001b[0m in \u001b[0;36mfit\u001b[0;34m(self, corpus)\u001b[0m\n\u001b[1;32m     17\u001b[0m \u001b[0;34m\u001b[0m\u001b[0m\n\u001b[1;32m     18\u001b[0m         \u001b[0;32mdef\u001b[0m \u001b[0mfit\u001b[0m\u001b[0;34m(\u001b[0m\u001b[0mself\u001b[0m\u001b[0;34m,\u001b[0m \u001b[0mcorpus\u001b[0m\u001b[0;34m)\u001b[0m\u001b[0;34m:\u001b[0m\u001b[0;34m\u001b[0m\u001b[0m\n\u001b[0;32m---> 19\u001b[0;31m                 \u001b[0mself\u001b[0m\u001b[0;34m.\u001b[0m\u001b[0m_fit\u001b[0m\u001b[0;34m(\u001b[0m\u001b[0mcorpus\u001b[0m\u001b[0;34m)\u001b[0m\u001b[0;34m\u001b[0m\u001b[0m\n\u001b[0m\u001b[1;32m     20\u001b[0m \u001b[0;34m\u001b[0m\u001b[0m\n\u001b[1;32m     21\u001b[0m         \u001b[0;32mdef\u001b[0m \u001b[0mdump_thetas\u001b[0m\u001b[0;34m(\u001b[0m\u001b[0mself\u001b[0m\u001b[0;34m,\u001b[0m \u001b[0mpath\u001b[0m\u001b[0;34m)\u001b[0m\u001b[0;34m:\u001b[0m\u001b[0;34m\u001b[0m\u001b[0m\n",
      "\u001b[0;32m/home/prdgmzs/Projects/ssmsi/code/ldas/lda_gibbs.py\u001b[0m in \u001b[0;36m_fit\u001b[0;34m(self, corpus)\u001b[0m\n\u001b[1;32m     28\u001b[0m                 \u001b[0;32mfor\u001b[0m \u001b[0mit\u001b[0m \u001b[0;32min\u001b[0m \u001b[0mrange\u001b[0m\u001b[0;34m(\u001b[0m\u001b[0mself\u001b[0m\u001b[0;34m.\u001b[0m\u001b[0miter_count\u001b[0m\u001b[0;34m)\u001b[0m\u001b[0;34m:\u001b[0m\u001b[0;34m\u001b[0m\u001b[0m\n\u001b[1;32m     29\u001b[0m                         \u001b[0;32mprint\u001b[0m\u001b[0;34m(\u001b[0m\u001b[0;34m\"Iteration %s:\"\u001b[0m \u001b[0;34m%\u001b[0m \u001b[0mit\u001b[0m\u001b[0;34m)\u001b[0m\u001b[0;34m\u001b[0m\u001b[0m\n\u001b[0;32m---> 30\u001b[0;31m                         \u001b[0mself\u001b[0m\u001b[0;34m.\u001b[0m\u001b[0m_sample_topics\u001b[0m\u001b[0;34m(\u001b[0m\u001b[0mcorpus\u001b[0m\u001b[0;34m)\u001b[0m\u001b[0;34m\u001b[0m\u001b[0m\n\u001b[0m\u001b[1;32m     31\u001b[0m                         \u001b[0mself\u001b[0m\u001b[0;34m.\u001b[0m\u001b[0m_store_theta\u001b[0m\u001b[0;34m(\u001b[0m\u001b[0;34m)\u001b[0m\u001b[0;34m\u001b[0m\u001b[0m\n\u001b[1;32m     32\u001b[0m                         \u001b[0;32mprint\u001b[0m\u001b[0;34m(\u001b[0m\u001b[0;34m\"Current theta:\"\u001b[0m\u001b[0;34m)\u001b[0m\u001b[0;34m\u001b[0m\u001b[0m\n",
      "\u001b[0;32m/home/prdgmzs/Projects/ssmsi/code/ldas/lda_gibbs.py\u001b[0m in \u001b[0;36m_sample_topics\u001b[0;34m(self, corpus)\u001b[0m\n\u001b[1;32m     69\u001b[0m                                                 \u001b[0;34m(\u001b[0m\u001b[0;34m(\u001b[0m\u001b[0mself\u001b[0m\u001b[0;34m.\u001b[0m\u001b[0m_dz_counts\u001b[0m\u001b[0;34m[\u001b[0m\u001b[0md\u001b[0m\u001b[0;34m,\u001b[0m \u001b[0;34m:\u001b[0m\u001b[0;34m]\u001b[0m \u001b[0;34m+\u001b[0m \u001b[0mself\u001b[0m\u001b[0;34m.\u001b[0m\u001b[0malpha\u001b[0m\u001b[0;34m)\u001b[0m\u001b[0;34m)\u001b[0m\u001b[0;34m\u001b[0m\u001b[0m\n\u001b[1;32m     70\u001b[0m                                         \u001b[0mp_topic\u001b[0m \u001b[0;34m=\u001b[0m \u001b[0mp_topic\u001b[0m \u001b[0;34m/\u001b[0m \u001b[0mp_topic\u001b[0m\u001b[0;34m.\u001b[0m\u001b[0msum\u001b[0m\u001b[0;34m(\u001b[0m\u001b[0;34m)\u001b[0m\u001b[0;34m\u001b[0m\u001b[0m\n\u001b[0;32m---> 71\u001b[0;31m                                         \u001b[0mz_new\u001b[0m \u001b[0;34m=\u001b[0m \u001b[0mnp\u001b[0m\u001b[0;34m.\u001b[0m\u001b[0mrandom\u001b[0m\u001b[0;34m.\u001b[0m\u001b[0mchoice\u001b[0m\u001b[0;34m(\u001b[0m\u001b[0mself\u001b[0m\u001b[0;34m.\u001b[0m\u001b[0mK\u001b[0m\u001b[0;34m,\u001b[0m \u001b[0mp\u001b[0m\u001b[0;34m=\u001b[0m\u001b[0mp_topic\u001b[0m\u001b[0;34m)\u001b[0m\u001b[0;34m\u001b[0m\u001b[0m\n\u001b[0m\u001b[1;32m     72\u001b[0m \u001b[0;34m\u001b[0m\u001b[0m\n\u001b[1;32m     73\u001b[0m                                         \u001b[0mself\u001b[0m\u001b[0;34m.\u001b[0m\u001b[0m_z_history\u001b[0m\u001b[0;34m[\u001b[0m\u001b[0md\u001b[0m\u001b[0;34m]\u001b[0m\u001b[0;34m[\u001b[0m\u001b[0mw\u001b[0m\u001b[0;34m]\u001b[0m\u001b[0;34m[\u001b[0m\u001b[0mit\u001b[0m\u001b[0;34m]\u001b[0m \u001b[0;34m=\u001b[0m \u001b[0mz_new\u001b[0m\u001b[0;34m\u001b[0m\u001b[0m\n",
      "\u001b[0;32mmtrand.pyx\u001b[0m in \u001b[0;36mmtrand.RandomState.choice (numpy/random/mtrand/mtrand.c:16731)\u001b[0;34m()\u001b[0m\n",
      "\u001b[0;32m/usr/local/lib/python2.7/dist-packages/numpy/core/numerictypes.pyc\u001b[0m in \u001b[0;36missubdtype\u001b[0;34m(arg1, arg2)\u001b[0m\n\u001b[1;32m    726\u001b[0m     \u001b[0;32mreturn\u001b[0m \u001b[0missubclass\u001b[0m\u001b[0;34m(\u001b[0m\u001b[0mobj2sctype\u001b[0m\u001b[0;34m(\u001b[0m\u001b[0marg1\u001b[0m\u001b[0;34m)\u001b[0m\u001b[0;34m,\u001b[0m \u001b[0mobj2sctype\u001b[0m\u001b[0;34m(\u001b[0m\u001b[0marg2\u001b[0m\u001b[0;34m)\u001b[0m\u001b[0;34m)\u001b[0m\u001b[0;34m\u001b[0m\u001b[0m\n\u001b[1;32m    727\u001b[0m \u001b[0;34m\u001b[0m\u001b[0m\n\u001b[0;32m--> 728\u001b[0;31m \u001b[0;32mdef\u001b[0m \u001b[0missubdtype\u001b[0m\u001b[0;34m(\u001b[0m\u001b[0marg1\u001b[0m\u001b[0;34m,\u001b[0m \u001b[0marg2\u001b[0m\u001b[0;34m)\u001b[0m\u001b[0;34m:\u001b[0m\u001b[0;34m\u001b[0m\u001b[0m\n\u001b[0m\u001b[1;32m    729\u001b[0m     \"\"\"\n\u001b[1;32m    730\u001b[0m     \u001b[0mReturns\u001b[0m \u001b[0mTrue\u001b[0m \u001b[0;32mif\u001b[0m \u001b[0mfirst\u001b[0m \u001b[0margument\u001b[0m \u001b[0;32mis\u001b[0m \u001b[0ma\u001b[0m \u001b[0mtypecode\u001b[0m \u001b[0mlower\u001b[0m\u001b[0;34m/\u001b[0m\u001b[0mequal\u001b[0m \u001b[0;32min\u001b[0m \u001b[0mtype\u001b[0m \u001b[0mhierarchy\u001b[0m\u001b[0;34m.\u001b[0m\u001b[0;34m\u001b[0m\u001b[0m\n",
      "\u001b[0;31mKeyboardInterrupt\u001b[0m: "
     ]
    }
   ],
   "source": [
    "lda_gibbs = LDA_Gibbs(K=10, iter_count=50)\n",
    "# To-do: Fix the main corpus (the number of col is arbitrary) \n",
    "corpus = pd.read_pickle(DATA_PATH + 'a-to-h_corpus_r.pickle')\n",
    "lda_gibbs.fit(corpus)\n",
    "lda_gibbs.dump_thetas(OUT_PATH + 'gibbs_thetas.pickle')"
   ]
  },
  {
   "cell_type": "code",
   "execution_count": null,
   "metadata": {
    "collapsed": true
   },
   "outputs": [],
   "source": []
  }
 ],
 "metadata": {
  "kernelspec": {
   "display_name": "Python 2",
   "language": "python",
   "name": "python2"
  },
  "language_info": {
   "codemirror_mode": {
    "name": "ipython",
    "version": 2
   },
   "file_extension": ".py",
   "mimetype": "text/x-python",
   "name": "python",
   "nbconvert_exporter": "python",
   "pygments_lexer": "ipython2",
   "version": "2.7.12"
  }
 },
 "nbformat": 4,
 "nbformat_minor": 2
}
