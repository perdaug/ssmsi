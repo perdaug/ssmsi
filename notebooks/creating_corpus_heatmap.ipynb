{
 "cells": [
  {
   "cell_type": "code",
   "execution_count": 1,
   "metadata": {
    "collapsed": false
   },
   "outputs": [],
   "source": [
    "import plotly.plotly as py\n",
    "import plotly.graph_objs as go\n",
    "import pandas as pd\n",
    "import math\n",
    "import numpy as np\n",
    "\n",
    "ROW_LENGTH = 62\n",
    "COLUMN_LENGTH = 1.25\n",
    "NUMBER_OF_ROWS = 8"
   ]
  },
  {
   "cell_type": "code",
   "execution_count": 2,
   "metadata": {
    "collapsed": false
   },
   "outputs": [
    {
     "name": "stdout",
     "output_type": "stream",
     "text": [
      "[[  1.05637098e-03   8.22522229e-08   5.94636994e-02   2.30939023e-01\n",
      "    4.13362834e-01   4.15827598e-04   2.03155486e-02   8.22538391e-08\n",
      "    2.55905672e-01   1.85408596e-02]\n",
      " [  9.74869374e-03   7.32608673e-08   8.61793606e-02   1.66405010e-01\n",
      "    4.75424632e-01   7.32606736e-08   1.79472062e-02   3.12553020e-03\n",
      "    2.07885688e-01   3.32837328e-02]\n",
      " [  1.03882003e-07   2.19149155e-06   1.55329877e-02   2.26153761e-01\n",
      "    4.32700507e-01   4.53022541e-03   2.15439441e-02   1.03887987e-07\n",
      "    2.46438373e-01   5.30978023e-02]\n",
      " [  9.10408958e-08   1.25065518e-04   2.68689394e-02   3.13624985e-01\n",
      "    3.31090755e-01   2.40107179e-02   1.79918658e-02   4.36032087e-04\n",
      "    2.65108922e-01   2.07426257e-02]\n",
      " [  1.64144633e-03   1.31606586e-02   2.98091602e-02   2.58642731e-01\n",
      "    3.57738204e-01   7.41416152e-02   1.43787716e-02   7.71439317e-04\n",
      "    2.04292394e-01   4.54235800e-02]\n",
      " [  1.10468429e-07   1.45276426e-02   1.91322418e-02   2.48353011e-01\n",
      "    4.03651789e-01   2.09628911e-02   9.68380760e-03   1.64588415e-07\n",
      "    2.45640805e-01   3.80475366e-02]\n",
      " [  1.48110245e-06   1.45963764e-03   5.75023234e-02   2.60271856e-01\n",
      "    4.05554128e-01   8.35701294e-08   1.70450400e-02   4.50973959e-04\n",
      "    2.51429427e-01   6.28504956e-03]\n",
      " [  1.54868289e-02   8.40918159e-08   4.46619018e-02   2.62993979e-01\n",
      "    4.28714517e-01   8.40944284e-08   3.09371750e-02   8.40945125e-08\n",
      "    1.93972978e-01   2.32323676e-02]\n",
      " [  3.54967097e-03   1.84257442e-03   3.50790198e-02   2.93247662e-01\n",
      "    3.48110787e-01   3.29242357e-03   8.90467094e-03   1.63094553e-02\n",
      "    2.32640621e-01   5.70231152e-02]\n",
      " [  7.95630336e-08   1.72884605e-02   7.11195456e-02   2.63400048e-01\n",
      "    3.48842052e-01   9.13948391e-05   3.65739896e-02   7.95637272e-08\n",
      "    2.52815424e-01   9.86892675e-03]]\n"
     ]
    }
   ],
   "source": [
    "document_topic_probabilities = pd.read_pickle('../pickles/document_topic_probabilities.pickle')\n",
    "document_topic_probabilities = pd.read_pickle('../pickles/document_topic_probabilities_temp.pickle')\n",
    "print document_topic_probabilities[0:10]\n",
    "document_ids_map = pd.read_pickle('../pickles/doc_id_mapping.pickle').to_dict()\n",
    "inverted_document_ids_map = {v: int(k) for k, v in document_ids_map.iteritems()}"
   ]
  },
  {
   "cell_type": "code",
   "execution_count": 3,
   "metadata": {
    "collapsed": true
   },
   "outputs": [],
   "source": [
    "def calculate_the_sizes(data, number_of_rows, row_length, column_length):\n",
    "    data_size = len(data)\n",
    "    single_scan_size = (data_size + 1) / number_of_rows\n",
    "    column_size = int(math.floor(single_scan_size \\\n",
    "    * (column_length / (row_length + column_length))))\n",
    "    row_size = single_scan_size - column_size \n",
    "    return data_size, single_scan_size, column_size, row_size"
   ]
  },
  {
   "cell_type": "code",
   "execution_count": 4,
   "metadata": {
    "collapsed": true
   },
   "outputs": [],
   "source": [
    "def generate_coordinates(data_size, column_size, row_size):    \n",
    "    x_coord = 0\n",
    "    y_coord = NUMBER_OF_ROWS - 1\n",
    "    row_scan = True\n",
    "    scanning_right = True\n",
    "    coordinates = {}\n",
    "    for j in range(0, NUMBER_OF_ROWS):\n",
    "        for i in range(0, row_size):\n",
    "            doc_id = i + column_size * j + row_size * j\n",
    "            coordinates[doc_id] = {'x': x_coord, 'y': y_coord}\n",
    "            # Switching horizontal scanning to vertical.\n",
    "            if (i % (row_size - 1) == 0 and i != 0):\n",
    "                y_coord -= 1\n",
    "                continue\n",
    "            if scanning_right:\n",
    "                x_coord += 1\n",
    "            else:\n",
    "                x_coord -= 1         \n",
    "        # Reversing the scanner's direction.\n",
    "        scanning_right = not scanning_right\n",
    "    return coordinates"
   ]
  },
  {
   "cell_type": "code",
   "execution_count": 5,
   "metadata": {
    "collapsed": false
   },
   "outputs": [],
   "source": [
    "data_size, single_scan_size, column_size, row_size = \\\n",
    "    calculate_the_sizes(inverted_document_ids_map, NUMBER_OF_ROWS, ROW_LENGTH, COLUMN_LENGTH)\n",
    "coordinates_mapping = generate_coordinates(data_size, column_size, row_size)"
   ]
  },
  {
   "cell_type": "code",
   "execution_count": 38,
   "metadata": {
    "collapsed": true
   },
   "outputs": [],
   "source": [
    "topic_id = 4\n",
    "\n",
    "probability_matrix = np.zeros(shape=(NUMBER_OF_ROWS, row_size))\n",
    "for i, doc in enumerate(document_topic_probabilities):\n",
    "    doc_id = inverted_document_ids_map[i]\n",
    "#     doc_id = i\n",
    "    if doc_id in coordinates_mapping:\n",
    "        doc_coord = coordinates_mapping[doc_id]\n",
    "        probability_matrix[doc_coord['y']][doc_coord['x']] = doc[topic_id]"
   ]
  },
  {
   "cell_type": "code",
   "execution_count": 39,
   "metadata": {
    "collapsed": false
   },
   "outputs": [
    {
     "data": {
      "text/html": [
       "<iframe id=\"igraph\" scrolling=\"no\" style=\"border:none;\" seamless=\"seamless\" src=\"https://plot.ly/~arip/18.embed\" height=\"350px\" width=\"100%\"></iframe>"
      ],
      "text/plain": [
       "<plotly.tools.PlotlyDisplay object>"
      ]
     },
     "execution_count": 39,
     "metadata": {},
     "output_type": "execute_result"
    }
   ],
   "source": [
    "import plotly.plotly as py\n",
    "import plotly.graph_objs as go\n",
    "\n",
    "x_vector = np.zeros(shape=(row_size, 1))\n",
    "for i in range(0, row_size):\n",
    "    x_vector[i] = i\n",
    "y_vector = np.zeros(shape=(NUMBER_OF_ROWS, 1))\n",
    "for i in range(0, NUMBER_OF_ROWS):\n",
    "    y_vector[i] = i\n",
    "\n",
    "layout = go.Layout(\n",
    "    title='\\'Topic %s\\' probability distribution.' % topic_id,\n",
    "    height=350,\n",
    "    xaxis=dict(title='x'),\n",
    "    yaxis=dict(title='y')\n",
    ")\n",
    "data = [\n",
    "    go.Heatmap(\n",
    "        z=probability_matrix,\n",
    "        x=x_vector,\n",
    "        y=y_vector,\n",
    "        colorscale='Electric',\n",
    "        colorbar=dict(title='Likelihood')\n",
    "    )\n",
    "]\n",
    "fig = go.Figure(data=data, layout=layout)\n",
    "\n",
    "py.iplot(fig, filename='topic_%s' % topic_id)"
   ]
  },
  {
   "cell_type": "code",
   "execution_count": null,
   "metadata": {
    "collapsed": true
   },
   "outputs": [],
   "source": []
  }
 ],
 "metadata": {
  "kernelspec": {
   "display_name": "Python 2",
   "language": "python",
   "name": "python2"
  },
  "language_info": {
   "codemirror_mode": {
    "name": "ipython",
    "version": 2
   },
   "file_extension": ".py",
   "mimetype": "text/x-python",
   "name": "python",
   "nbconvert_exporter": "python",
   "pygments_lexer": "ipython2",
   "version": "2.7.12"
  }
 },
 "nbformat": 4,
 "nbformat_minor": 1
}
