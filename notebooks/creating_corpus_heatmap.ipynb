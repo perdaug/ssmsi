{
 "cells": [
  {
   "cell_type": "code",
   "execution_count": 1,
   "metadata": {
    "collapsed": false
   },
   "outputs": [],
   "source": [
    "import plotly.plotly as py\n",
    "import plotly.graph_objs as go\n",
    "import pandas as pd\n",
    "import math\n",
    "import numpy as np\n",
    "\n",
    "ROW_LENGTH = 62\n",
    "COLUMN_LENGTH = 1.25\n",
    "NUMBER_OF_ROWS = 8"
   ]
  },
  {
   "cell_type": "code",
   "execution_count": 29,
   "metadata": {
    "collapsed": false
   },
   "outputs": [
    {
     "name": "stdout",
     "output_type": "stream",
     "text": [
      "[[ 0.06951477  0.0821296   0.00760522  0.00839239  0.12710193  0.01200466\n",
      "   0.46163393  0.11903793  0.10223329  0.01034628]\n",
      " [ 0.04971136  0.00719967  0.0270566   0.09296363  0.05168708  0.03894821\n",
      "   0.50748466  0.11175278  0.09732881  0.01586719]\n",
      " [ 0.10102388  0.11611909  0.10189036  0.02189078  0.06064545  0.03825396\n",
      "   0.3885993   0.04913467  0.11354673  0.00889578]\n",
      " [ 0.01345141  0.18813587  0.01256721  0.03433533  0.108316    0.05722907\n",
      "   0.4147093   0.02525826  0.13236243  0.01363511]\n",
      " [ 0.05973156  0.26300891  0.06237113  0.07662923  0.00882524  0.06603765\n",
      "   0.40908672  0.03011002  0.01447522  0.00972432]\n",
      " [ 0.04524031  0.39036386  0.04544088  0.09424122  0.0172517   0.00633087\n",
      "   0.33656193  0.04175996  0.01208446  0.01072482]\n",
      " [ 0.03766381  0.45366962  0.00922486  0.03381754  0.04987094  0.01006593\n",
      "   0.28520188  0.02299884  0.07798584  0.01950076]\n",
      " [ 0.0472025   0.46428786  0.01167305  0.05519252  0.00630885  0.01709037\n",
      "   0.28127743  0.02389198  0.07262659  0.02044884]\n",
      " [ 0.04995018  0.46588799  0.06389447  0.08538312  0.01506052  0.01437389\n",
      "   0.25908326  0.02944358  0.00854304  0.00837995]\n",
      " [ 0.10300148  0.56002957  0.01130158  0.05464773  0.05595048  0.01082833\n",
      "   0.15309431  0.01690353  0.01683872  0.01740426]]\n"
     ]
    }
   ],
   "source": [
    "document_topic_probabilities = pd.read_pickle('../pickles/document_topic_probabilities.pickle')\n",
    "document_topic_probabilities = pd.read_pickle('../pickles/document_topic_probabilities_temp.pickle')\n",
    "document_topic_probabilities = pd.read_pickle('../pickles/document_topic_probabilities_rogers_gibbs.pickle')\n",
    "document_topic_probabilities = pd.read_pickle('../pickles/document_topic_probabilities_python.pickle')\n",
    "document_topic_probabilities = pd.read_pickle('../pickles/document_topic_probabilities_ari_gibbs.pickle')\n",
    "print document_topic_probabilities[0:10]\n",
    "document_ids_map = pd.read_pickle('../pickles/doc_id_mapping.pickle').to_dict()\n",
    "inverted_document_ids_map = {v: int(k) for k, v in document_ids_map.iteritems()}"
   ]
  },
  {
   "cell_type": "code",
   "execution_count": 30,
   "metadata": {
    "collapsed": true
   },
   "outputs": [],
   "source": [
    "def calculate_the_sizes(data, number_of_rows, row_length, column_length):\n",
    "    data_size = len(data)\n",
    "    single_scan_size = (data_size + 1) / number_of_rows\n",
    "    column_size = int(math.floor(single_scan_size \\\n",
    "    * (column_length / (row_length + column_length))))\n",
    "    row_size = single_scan_size - column_size \n",
    "    return data_size, single_scan_size, column_size, row_size"
   ]
  },
  {
   "cell_type": "code",
   "execution_count": 31,
   "metadata": {
    "collapsed": true
   },
   "outputs": [],
   "source": [
    "def generate_coordinates(data_size, column_size, row_size):    \n",
    "    x_coord = 0\n",
    "    y_coord = NUMBER_OF_ROWS - 1\n",
    "    row_scan = True\n",
    "    scanning_right = True\n",
    "    coordinates = {}\n",
    "    for j in range(0, NUMBER_OF_ROWS):\n",
    "        for i in range(0, row_size):\n",
    "            doc_id = i + column_size * j + row_size * j\n",
    "            coordinates[doc_id] = {'x': x_coord, 'y': y_coord}\n",
    "            # Switching horizontal scanning to vertical.\n",
    "            if (i % (row_size - 1) == 0 and i != 0):\n",
    "                y_coord -= 1\n",
    "                continue\n",
    "            if scanning_right:\n",
    "                x_coord += 1\n",
    "            else:\n",
    "                x_coord -= 1         \n",
    "        # Reversing the scanner's direction.\n",
    "        scanning_right = not scanning_right\n",
    "    return coordinates"
   ]
  },
  {
   "cell_type": "code",
   "execution_count": 32,
   "metadata": {
    "collapsed": false
   },
   "outputs": [],
   "source": [
    "data_size, single_scan_size, column_size, row_size = \\\n",
    "    calculate_the_sizes(inverted_document_ids_map, NUMBER_OF_ROWS, ROW_LENGTH, COLUMN_LENGTH)\n",
    "coordinates_mapping = generate_coordinates(data_size, column_size, row_size)"
   ]
  },
  {
   "cell_type": "code",
   "execution_count": 45,
   "metadata": {
    "collapsed": true
   },
   "outputs": [],
   "source": [
    "topic_id = 4\n",
    "\n",
    "probability_matrix = np.zeros(shape=(NUMBER_OF_ROWS, row_size))\n",
    "for i, doc in enumerate(document_topic_probabilities):\n",
    "    doc_id = inverted_document_ids_map[i]\n",
    "    doc_id = i\n",
    "    if doc_id in coordinates_mapping:\n",
    "        doc_coord = coordinates_mapping[doc_id]\n",
    "        probability_matrix[doc_coord['y']][doc_coord['x']] = doc[topic_id]"
   ]
  },
  {
   "cell_type": "code",
   "execution_count": 46,
   "metadata": {
    "collapsed": false
   },
   "outputs": [
    {
     "data": {
      "text/html": [
       "<iframe id=\"igraph\" scrolling=\"no\" style=\"border:none;\" seamless=\"seamless\" src=\"https://plot.ly/~arip/18.embed\" height=\"350px\" width=\"100%\"></iframe>"
      ],
      "text/plain": [
       "<plotly.tools.PlotlyDisplay object>"
      ]
     },
     "execution_count": 46,
     "metadata": {},
     "output_type": "execute_result"
    }
   ],
   "source": [
    "import plotly.plotly as py\n",
    "import plotly.graph_objs as go\n",
    "\n",
    "x_vector = np.zeros(shape=(row_size, 1))\n",
    "for i in range(0, row_size):\n",
    "    x_vector[i] = i\n",
    "y_vector = np.zeros(shape=(NUMBER_OF_ROWS, 1))\n",
    "for i in range(0, NUMBER_OF_ROWS):\n",
    "    y_vector[i] = i\n",
    "\n",
    "layout = go.Layout(\n",
    "    title='\\'Topic %s\\' probability distribution.' % topic_id,\n",
    "    height=350,\n",
    "    xaxis=dict(title='x'),\n",
    "    yaxis=dict(title='y')\n",
    ")\n",
    "data = [\n",
    "    go.Heatmap(\n",
    "        z=probability_matrix,\n",
    "        x=x_vector,\n",
    "        y=y_vector,\n",
    "        colorscale='Electric',\n",
    "        colorbar=dict(title='Likelihood')\n",
    "    )\n",
    "]\n",
    "fig = go.Figure(data=data, layout=layout)\n",
    "\n",
    "py.iplot(fig, filename='topic_%s' % topic_id)"
   ]
  },
  {
   "cell_type": "code",
   "execution_count": null,
   "metadata": {
    "collapsed": true
   },
   "outputs": [],
   "source": []
  }
 ],
 "metadata": {
  "kernelspec": {
   "display_name": "Python 2",
   "language": "python",
   "name": "python2"
  },
  "language_info": {
   "codemirror_mode": {
    "name": "ipython",
    "version": 2
   },
   "file_extension": ".py",
   "mimetype": "text/x-python",
   "name": "python",
   "nbconvert_exporter": "python",
   "pygments_lexer": "ipython2",
   "version": "2.7.12"
  }
 },
 "nbformat": 4,
 "nbformat_minor": 1
}
