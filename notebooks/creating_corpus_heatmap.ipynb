{
 "cells": [
  {
   "cell_type": "code",
   "execution_count": 20,
   "metadata": {
    "collapsed": false
   },
   "outputs": [],
   "source": [
    "import plotly.plotly as py\n",
    "import plotly.graph_objs as go\n",
    "import pandas as pd\n",
    "import math\n",
    "import numpy as np\n",
    "\n",
    "ROW_LENGTH = 62\n",
    "COLUMN_LENGTH = 1.25\n",
    "NUMBER_OF_ROWS = 8"
   ]
  },
  {
   "cell_type": "code",
   "execution_count": 21,
   "metadata": {
    "collapsed": false
   },
   "outputs": [
    {
     "name": "stdout",
     "output_type": "stream",
     "text": [
      "[[ 0.04117647  0.00196078  0.00196078  0.57058824  0.02156863  0.08039216\n",
      "   0.02156863  0.00196078  0.19803922  0.06078431]\n",
      " [ 0.00625     0.00625     0.00625     0.00625     0.00625     0.00625\n",
      "   0.56875     0.00625     0.38125     0.00625   ]\n",
      " [ 0.00666667  0.07333333  0.00666667  0.00666667  0.00666667  0.00666667\n",
      "   0.74        0.00666667  0.14        0.00666667]\n",
      " [ 0.00714286  0.00714286  0.00714286  0.00714286  0.00714286  0.00714286\n",
      "   0.00714286  0.00714286  0.93571429  0.00714286]\n",
      " [ 0.00666667  0.00666667  0.00666667  0.00666667  0.00666667  0.07333333\n",
      "   0.80666667  0.00666667  0.07333333  0.00666667]\n",
      " [ 0.00666667  0.00666667  0.00666667  0.00666667  0.00666667  0.00666667\n",
      "   0.00666667  0.00666667  0.94        0.00666667]\n",
      " [ 0.00714286  0.00714286  0.00714286  0.00714286  0.15        0.00714286\n",
      "   0.07857143  0.00714286  0.72142857  0.00714286]\n",
      " [ 0.00666667  0.00666667  0.00666667  0.00666667  0.00666667  0.00666667\n",
      "   0.14        0.00666667  0.80666667  0.00666667]\n",
      " [ 0.00714286  0.00714286  0.00714286  0.00714286  0.00714286  0.00714286\n",
      "   0.07857143  0.00714286  0.86428571  0.00714286]\n",
      " [ 0.00714286  0.00714286  0.00714286  0.00714286  0.00714286  0.00714286\n",
      "   0.93571429  0.00714286  0.00714286  0.00714286]]\n"
     ]
    }
   ],
   "source": [
    "document_topic_probabilities = pd.read_pickle('../pickles/document_topic_probabilities.pickle')\n",
    "document_topic_probabilities = pd.read_pickle('../pickles/document_topic_probabilities_temp.pickle')\n",
    "document_topic_probabilities = pd.read_pickle('../pickles/document_topic_probabilities_rogers_gibbs.pickle')\n",
    "document_topic_probabilities = pd.read_pickle('../pickles/document_topic_probabilities_python.pickle')\n",
    "print document_topic_probabilities[0:10]\n",
    "document_ids_map = pd.read_pickle('../pickles/doc_id_mapping.pickle').to_dict()\n",
    "inverted_document_ids_map = {v: int(k) for k, v in document_ids_map.iteritems()}"
   ]
  },
  {
   "cell_type": "code",
   "execution_count": 22,
   "metadata": {
    "collapsed": true
   },
   "outputs": [],
   "source": [
    "def calculate_the_sizes(data, number_of_rows, row_length, column_length):\n",
    "    data_size = len(data)\n",
    "    single_scan_size = (data_size + 1) / number_of_rows\n",
    "    column_size = int(math.floor(single_scan_size \\\n",
    "    * (column_length / (row_length + column_length))))\n",
    "    row_size = single_scan_size - column_size \n",
    "    return data_size, single_scan_size, column_size, row_size"
   ]
  },
  {
   "cell_type": "code",
   "execution_count": 23,
   "metadata": {
    "collapsed": true
   },
   "outputs": [],
   "source": [
    "def generate_coordinates(data_size, column_size, row_size):    \n",
    "    x_coord = 0\n",
    "    y_coord = NUMBER_OF_ROWS - 1\n",
    "    row_scan = True\n",
    "    scanning_right = True\n",
    "    coordinates = {}\n",
    "    for j in range(0, NUMBER_OF_ROWS):\n",
    "        for i in range(0, row_size):\n",
    "            doc_id = i + column_size * j + row_size * j\n",
    "            coordinates[doc_id] = {'x': x_coord, 'y': y_coord}\n",
    "            # Switching horizontal scanning to vertical.\n",
    "            if (i % (row_size - 1) == 0 and i != 0):\n",
    "                y_coord -= 1\n",
    "                continue\n",
    "            if scanning_right:\n",
    "                x_coord += 1\n",
    "            else:\n",
    "                x_coord -= 1         \n",
    "        # Reversing the scanner's direction.\n",
    "        scanning_right = not scanning_right\n",
    "    return coordinates"
   ]
  },
  {
   "cell_type": "code",
   "execution_count": 24,
   "metadata": {
    "collapsed": false
   },
   "outputs": [],
   "source": [
    "data_size, single_scan_size, column_size, row_size = \\\n",
    "    calculate_the_sizes(inverted_document_ids_map, NUMBER_OF_ROWS, ROW_LENGTH, COLUMN_LENGTH)\n",
    "coordinates_mapping = generate_coordinates(data_size, column_size, row_size)"
   ]
  },
  {
   "cell_type": "code",
   "execution_count": 25,
   "metadata": {
    "collapsed": true
   },
   "outputs": [],
   "source": [
    "topic_id = 3\n",
    "\n",
    "probability_matrix = np.zeros(shape=(NUMBER_OF_ROWS, row_size))\n",
    "for i, doc in enumerate(document_topic_probabilities):\n",
    "    doc_id = inverted_document_ids_map[i]\n",
    "#     doc_id = i\n",
    "    if doc_id in coordinates_mapping:\n",
    "        doc_coord = coordinates_mapping[doc_id]\n",
    "        probability_matrix[doc_coord['y']][doc_coord['x']] = doc[topic_id]"
   ]
  },
  {
   "cell_type": "code",
   "execution_count": 26,
   "metadata": {
    "collapsed": false
   },
   "outputs": [
    {
     "data": {
      "text/html": [
       "<iframe id=\"igraph\" scrolling=\"no\" style=\"border:none;\" seamless=\"seamless\" src=\"https://plot.ly/~arip/16.embed\" height=\"350px\" width=\"100%\"></iframe>"
      ],
      "text/plain": [
       "<plotly.tools.PlotlyDisplay object>"
      ]
     },
     "execution_count": 26,
     "metadata": {},
     "output_type": "execute_result"
    }
   ],
   "source": [
    "import plotly.plotly as py\n",
    "import plotly.graph_objs as go\n",
    "\n",
    "x_vector = np.zeros(shape=(row_size, 1))\n",
    "for i in range(0, row_size):\n",
    "    x_vector[i] = i\n",
    "y_vector = np.zeros(shape=(NUMBER_OF_ROWS, 1))\n",
    "for i in range(0, NUMBER_OF_ROWS):\n",
    "    y_vector[i] = i\n",
    "\n",
    "layout = go.Layout(\n",
    "    title='\\'Topic %s\\' probability distribution.' % topic_id,\n",
    "    height=350,\n",
    "    xaxis=dict(title='x'),\n",
    "    yaxis=dict(title='y')\n",
    ")\n",
    "data = [\n",
    "    go.Heatmap(\n",
    "        z=probability_matrix,\n",
    "        x=x_vector,\n",
    "        y=y_vector,\n",
    "        colorscale='Electric',\n",
    "        colorbar=dict(title='Likelihood')\n",
    "    )\n",
    "]\n",
    "fig = go.Figure(data=data, layout=layout)\n",
    "\n",
    "py.iplot(fig, filename='topic_%s' % topic_id)"
   ]
  },
  {
   "cell_type": "code",
   "execution_count": null,
   "metadata": {
    "collapsed": true
   },
   "outputs": [],
   "source": []
  }
 ],
 "metadata": {
  "kernelspec": {
   "display_name": "Python 2",
   "language": "python",
   "name": "python2"
  },
  "language_info": {
   "codemirror_mode": {
    "name": "ipython",
    "version": 2
   },
   "file_extension": ".py",
   "mimetype": "text/x-python",
   "name": "python",
   "nbconvert_exporter": "python",
   "pygments_lexer": "ipython2",
   "version": "2.7.12"
  }
 },
 "nbformat": 4,
 "nbformat_minor": 1
}
