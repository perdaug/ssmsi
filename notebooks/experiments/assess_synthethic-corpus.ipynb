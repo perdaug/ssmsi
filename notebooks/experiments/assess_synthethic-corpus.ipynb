{
 "cells": [
  {
   "cell_type": "markdown",
   "metadata": {},
   "source": [
    "# STRUCTURE:\n",
    "## - Experiment settings\n",
    "#### -- Initialise the models\n",
    "#### -- Fit the AR model\n",
    "#### -- Fit the non-AR model\n",
    "#### -- Save the models\n",
    "## - Experiment results observation\n",
    "#### --  Compare the models' performance\n",
    "#### -- Plot the latent $\\alpha$s\n",
    "#### -- Plot the latent $\\theta$s\n",
    "#### -- Plot the latent $\\phi$s\n",
    "#### -- Visualise the init $\\beta$s\n",
    "#### -- Visualise the init $\\theta$s\n",
    "## - Initialisation\n",
    "#### -- Define parameters\n",
    "#### -- Generate or load corpus\n",
    "## - Backlog\n",
    "#### -- Random $\\beta$s\n",
    "#### -- Plotting $\\alpha$s in 3-D\n",
    "#### -- Load, fit, and dump\n",
    "#### -- Plot the latent $\\alpha$s (2plots)"
   ]
  },
  {
   "cell_type": "markdown",
   "metadata": {},
   "source": [
    "# EXPERIMENT SETTINGS"
   ]
  },
  {
   "cell_type": "markdown",
   "metadata": {},
   "source": [
    "### Initialise the models"
   ]
  },
  {
   "cell_type": "code",
   "execution_count": 4,
   "metadata": {
    "collapsed": false
   },
   "outputs": [
    {
     "ename": "NameError",
     "evalue": "name 'no_corpus' is not defined",
     "output_type": "error",
     "traceback": [
      "\u001b[0;31m---------------------------------------------------------------------------\u001b[0m",
      "\u001b[0;31mNameError\u001b[0m                                 Traceback (most recent call last)",
      "\u001b[0;32m<ipython-input-4-69c3a9870ffb>\u001b[0m in \u001b[0;36m<module>\u001b[0;34m()\u001b[0m\n\u001b[1;32m     17\u001b[0m \u001b[0mn_it_add\u001b[0m \u001b[0;34m=\u001b[0m \u001b[0;36m0\u001b[0m\u001b[0;34m\u001b[0m\u001b[0m\n\u001b[1;32m     18\u001b[0m \u001b[0mn_burn_it\u001b[0m \u001b[0;34m=\u001b[0m \u001b[0;36m1000\u001b[0m\u001b[0;34m\u001b[0m\u001b[0m\n\u001b[0;32m---> 19\u001b[0;31m \u001b[0mPATH_OUT_PLOTS\u001b[0m \u001b[0;34m=\u001b[0m \u001b[0mPATH_HOME\u001b[0m \u001b[0;34m+\u001b[0m \u001b[0;34m'data/models/{}/plots/dataset-{}/it-{}/'\u001b[0m\u001b[0;34m.\u001b[0m\u001b[0mformat\u001b[0m\u001b[0;34m(\u001b[0m\u001b[0mname_corpus\u001b[0m\u001b[0;34m,\u001b[0m \u001b[0mno_corpus\u001b[0m\u001b[0;34m,\u001b[0m \u001b[0mn_it\u001b[0m \u001b[0;34m+\u001b[0m \u001b[0mn_it_add\u001b[0m\u001b[0;34m)\u001b[0m\u001b[0;34m\u001b[0m\u001b[0m\n\u001b[0m\u001b[1;32m     20\u001b[0m \u001b[0mPATH_OUT_MODEL\u001b[0m \u001b[0;34m=\u001b[0m \u001b[0mPATH_HOME\u001b[0m \u001b[0;34m+\u001b[0m \u001b[0;34m'data/models/{}/prefit-models/'\u001b[0m\u001b[0;34m.\u001b[0m\u001b[0mformat\u001b[0m\u001b[0;34m(\u001b[0m\u001b[0mname_corpus\u001b[0m\u001b[0;34m)\u001b[0m\u001b[0;34m\u001b[0m\u001b[0m\n\u001b[1;32m     21\u001b[0m \u001b[0mPATH_OUT_PERF\u001b[0m \u001b[0;34m=\u001b[0m \u001b[0mPATH_HOME\u001b[0m \u001b[0;34m+\u001b[0m \u001b[0;34m'data/models/{}/performance/'\u001b[0m\u001b[0;34m.\u001b[0m\u001b[0mformat\u001b[0m\u001b[0;34m(\u001b[0m\u001b[0mname_corpus\u001b[0m\u001b[0;34m)\u001b[0m\u001b[0;34m\u001b[0m\u001b[0m\n",
      "\u001b[0;31mNameError\u001b[0m: name 'no_corpus' is not defined"
     ]
    }
   ],
   "source": [
    "'''\n",
    "Initialising the topic model\n",
    "'''\n",
    "from dtm_alpha import DTM_Alpha\n",
    "var_init = 1\n",
    "var_basic = 0.1\n",
    "var_prop = 0.3\n",
    "beta = 1./V\n",
    "clf_ar = DTM_Alpha(K=K, beta=beta, sigma_0_sq=var_init, sigma_sq=var_basic, \n",
    "                delta_sq=var_prop, autoreg=True)\n",
    "clf_nonar = DTM_Alpha(K=K, beta=beta, sigma_0_sq=var_init, sigma_sq=var_basic, \n",
    "                delta_sq=var_prop, autoreg=False)\n",
    "'''\n",
    "Defining the fitting parameters\n",
    "'''\n",
    "n_it = 5000\n",
    "n_it_add = 0\n",
    "n_burn_it = 1000\n",
    "PATH_OUT_PLOTS = PATH_HOME + 'data/models/{}/plots/dataset-{}/it-{}/'.format(name_corpus, no_corpus, n_it + n_it_add)\n",
    "PATH_OUT_MODEL = PATH_HOME + 'data/models/{}/prefit-models/'.format(name_corpus)\n",
    "PATH_OUT_PERF = PATH_HOME + 'data/models/{}/performance/'.format(name_corpus) \n",
    "'''\n",
    "Initialising the visualisation factory\n",
    "'''\n",
    "l_row = 62\n",
    "l_column = 1.25\n",
    "n_rows = 8\n",
    "visualiser_corpus = Visualiser_Corpus(corpus_pp, vocab, n_rows, l_row, l_column, PATH_OUT_PLOTS, no_corpus, name_corpus)\n",
    "'''\n",
    "Initialising the experiment helper\n",
    "'''\n",
    "helper_experiment = Helper_Experiment()"
   ]
  },
  {
   "cell_type": "markdown",
   "metadata": {},
   "source": [
    "### Fit the AR model"
   ]
  },
  {
   "cell_type": "code",
   "execution_count": 32,
   "metadata": {
    "collapsed": false,
    "scrolled": true
   },
   "outputs": [
    {
     "name": "stdout",
     "output_type": "stream",
     "text": [
      "DTM_Alpha has started.\n",
      "DTM_Alpha has finished.\n"
     ]
    }
   ],
   "source": [
    "name_ar = 'corpus_{}_dataset-{}_it-{}_ar-{}.pkl'.format(name_corpus, no_corpus, n_it, str(True))\n",
    "name_ar_loaded = 'corpus_{}_dataset-{}_it-{}_ar-{}.pkl'.format(name_corpus, no_corpus, n_it + n_it_add, str(True))\n",
    "''' \n",
    "Fit\n",
    "'''\n",
    "# clf_ar.fit(corpus=corpus_pp, n_it=n_it, n_burn_it=n_burn_it)\n",
    "'''\n",
    "Load and fit\n",
    "'''\n",
    "clf_ar.load_fit(PATH_OUT_MODEL + name_ar, n_it_add=n_it_add)"
   ]
  },
  {
   "cell_type": "markdown",
   "metadata": {},
   "source": [
    "### Fit the non-AR model"
   ]
  },
  {
   "cell_type": "code",
   "execution_count": 33,
   "metadata": {
    "collapsed": false,
    "scrolled": true
   },
   "outputs": [
    {
     "name": "stdout",
     "output_type": "stream",
     "text": [
      "DTM_Alpha has started.\n",
      "DTM_Alpha has finished.\n"
     ]
    }
   ],
   "source": [
    "name_nonar = 'corpus_{}_dataset-{}_it-{}_ar-{}.pkl'.format(name_corpus, no_corpus, n_it, str(False))\n",
    "name_nonar_loaded = 'corpus_{}_dataset-{}_it-{}_ar-{}.pkl'.format(name_corpus, no_corpus, n_it + n_it_add, str(False))\n",
    "'''\n",
    "Fit\n",
    "'''\n",
    "# clf_nonar.fit(corpus=corpus_pp, n_it=n_it, n_burn_it=n_burn_it)\n",
    "'''\n",
    "Load and fit\n",
    "'''\n",
    "clf_nonar.load_fit(PATH_OUT_MODEL + name_nonar, n_it_add=n_it_add)"
   ]
  },
  {
   "cell_type": "markdown",
   "metadata": {},
   "source": [
    "# EXPERIMENT OBSERVATION"
   ]
  },
  {
   "cell_type": "markdown",
   "metadata": {},
   "source": [
    "### Compare the models' performance"
   ]
  },
  {
   "cell_type": "code",
   "execution_count": 34,
   "metadata": {
    "collapsed": false
   },
   "outputs": [
    {
     "data": {
      "image/png": "[encoded data removed]",
      "text/plain": [
       "<matplotlib.figure.Figure at 0x11c01b438>"
      ]
     },
     "metadata": {},
     "output_type": "display_data"
    },
    {
     "data": {
      "image/png": "[encoded data removed]",
      "text/plain": [
       "<matplotlib.figure.Figure at 0x118444b00>"
      ]
     },
     "metadata": {},
     "output_type": "display_data"
    }
   ],
   "source": [
    "s_batch = 100\n",
    "performance_ar = helper_experiment.calculate_performance(alpha_init=alpha_init, beta_init=beta_init,\n",
    "                                                         theta_init=theta_init, clf=clf_ar, s_batch=s_batch)\n",
    "performance_nonar = helper_experiment.calculate_performance(alpha_init=alpha_init, beta_init=beta_init, \n",
    "                                                            theta_init=theta_init, clf=clf_nonar, s_batch=s_batch)\n",
    "import os\n",
    "if not os.path.exists(PATH_OUT_PERF):\n",
    "    os.makedirs(PATH_OUT_PERF)\n",
    "\n",
    "name_ar_file = 'performance_dataset-{}_it-{}_ar-True.pkl'.format(no_corpus, n_it)\n",
    "name_nonar_file = 'performance_dataset-{}_it-{}_ar-False.pkl'.format(no_corpus, n_it)\n",
    "\n",
    "pkl.dump(performance_ar, open(PATH_OUT_PERF + name_ar_file, 'wb'))\n",
    "pkl.dump(performance_nonar, open(PATH_OUT_PERF + name_nonar_file, 'wb'))\n",
    "\n",
    "visualiser_corpus.compare_performances(performance_ar, performance_nonar, s_batch)"
   ]
  },
  {
   "cell_type": "markdown",
   "metadata": {},
   "source": [
    "### Plot the latent $\\theta$s"
   ]
  },
  {
   "cell_type": "code",
   "execution_count": 81,
   "metadata": {
    "collapsed": false
   },
   "outputs": [
    {
     "data": {
      "image/png": "[encoded data removed]",
      "text/plain": [
       "<matplotlib.figure.Figure at 0x11d89eba8>"
      ]
     },
     "metadata": {},
     "output_type": "display_data"
    },
    {
     "data": {
      "image/png": "[encoded data removed]",
      "text/plain": [
       "<matplotlib.figure.Figure at 0x11c047e48>"
      ]
     },
     "metadata": {},
     "output_type": "display_data"
    }
   ],
   "source": [
    "thetas_ar = np.array(clf_ar.hist_theta)\n",
    "theta_ar_average = np.average(thetas_ar, axis=0)\n",
    "visualiser_corpus.plot_latent_thetas(theta_ar_average, title='AR')\n",
    "\n",
    "thetas_nonar = np.array(clf_nonar.hist_theta)\n",
    "theta_nonar_average = np.average(thetas_nonar, axis=0)\n",
    "visualiser_corpus.plot_latent_thetas(theta_nonar_average, title='Non-AR')"
   ]
  },
  {
   "cell_type": "markdown",
   "metadata": {},
   "source": [
    "### Plot the latent $\\phi$s"
   ]
  },
  {
   "cell_type": "code",
   "execution_count": 15,
   "metadata": {
    "collapsed": false
   },
   "outputs": [
    {
     "data": {
      "image/png": "[encoded data removed]",
      "text/plain": [
       "<matplotlib.figure.Figure at 0x10f910390>"
      ]
     },
     "metadata": {},
     "output_type": "display_data"
    },
    {
     "data": {
      "image/png": "[encoded data removed]",
      "text/plain": [
       "<matplotlib.figure.Figure at 0x1101a00f0>"
      ]
     },
     "metadata": {},
     "output_type": "display_data"
    }
   ],
   "source": [
    "phis_ar = np.array(clf_ar.hist_phi)\n",
    "phi_ar_average = np.average(phis_ar, axis=0)\n",
    "visualiser_corpus.plot_latent_phis(phi_ar_average, title='AR')\n",
    "\n",
    "phis_nonar = np.array(clf_nonar.hist_phi)\n",
    "phi_nonar_average = np.average(phis_nonar, axis=0)\n",
    "visualiser_corpus.plot_latent_phis(phi_nonar_average, title='Non-AR')"
   ]
  },
  {
   "cell_type": "markdown",
   "metadata": {},
   "source": [
    "### Visualise the init $\\phi$s"
   ]
  },
  {
   "cell_type": "code",
   "execution_count": 3,
   "metadata": {
    "collapsed": false
   },
   "outputs": [
    {
     "ename": "NameError",
     "evalue": "name 'visualiser_corpus' is not defined",
     "output_type": "error",
     "traceback": [
      "\u001b[0;31m---------------------------------------------------------------------------\u001b[0m",
      "\u001b[0;31mNameError\u001b[0m                                 Traceback (most recent call last)",
      "\u001b[0;32m<ipython-input-3-80a9c0d3ff27>\u001b[0m in \u001b[0;36m<module>\u001b[0;34m()\u001b[0m\n\u001b[0;32m----> 1\u001b[0;31m \u001b[0mvisualiser_corpus\u001b[0m\u001b[0;34m.\u001b[0m\u001b[0mplot_init_phi\u001b[0m\u001b[0;34m(\u001b[0m\u001b[0mbeta_init\u001b[0m\u001b[0;34m)\u001b[0m\u001b[0;34m\u001b[0m\u001b[0m\n\u001b[0m",
      "\u001b[0;31mNameError\u001b[0m: name 'visualiser_corpus' is not defined"
     ]
    }
   ],
   "source": [
    "visualiser_corpus.plot_init_phi(beta_init)"
   ]
  },
  {
   "cell_type": "markdown",
   "metadata": {},
   "source": [
    "### Visualise the init $\\theta$s"
   ]
  },
  {
   "cell_type": "code",
   "execution_count": 91,
   "metadata": {
    "collapsed": false
   },
   "outputs": [
    {
     "data": {
      "image/png": "[encoded data removed]",
      "text/plain": [
       "<matplotlib.figure.Figure at 0x1184d1b00>"
      ]
     },
     "metadata": {},
     "output_type": "display_data"
    }
   ],
   "source": [
    "visualiser_corpus.plot_init_thetas(alphas=alpha_init, thetas=theta_init)\n",
    "# plt.savefig('alphas-init.png')"
   ]
  },
  {
   "cell_type": "markdown",
   "metadata": {},
   "source": [
    "### Visualise the init $\\alpha$s"
   ]
  },
  {
   "cell_type": "code",
   "execution_count": 32,
   "metadata": {
    "collapsed": false
   },
   "outputs": [
    {
     "name": "stdout",
     "output_type": "stream",
     "text": [
      "No alphas used.\n"
     ]
    }
   ],
   "source": [
    "visualiser_corpus.plot_init_alphas(alpha_init)\n",
    "# plt.savefig('alphas-init.png')"
   ]
  },
  {
   "cell_type": "markdown",
   "metadata": {},
   "source": [
    "### Unfinished: Extract the values for the t-test"
   ]
  },
  {
   "cell_type": "code",
   "execution_count": 11,
   "metadata": {
    "collapsed": false
   },
   "outputs": [
    {
     "name": "stdout",
     "output_type": "stream",
     "text": [
      "-0.880560896024\n",
      "0.390856054747\n",
      "-1.01166719908\n",
      "0.327503987273\n",
      "\n",
      "-0.854047318095\n",
      "0.415231792967\n",
      "-0.949232391277\n",
      "0.367293535435\n"
     ]
    }
   ],
   "source": [
    "no_experiment = '4'\n",
    "slice_topic = \"_topic-nonol\"\n",
    "slice_terms = \"_terms-ol\"\n",
    "slice_error = \"_error-ol\"\n",
    "it_experiment = '5000'\n",
    "\n",
    "type_corpus = 'exp-{}{}{}{}'.format(no_experiment, slice_topic, slice_terms, slice_error)\n",
    "type_file = '*it-{}*'.format(it_experiment)\n",
    "\n",
    "path_experiment = PATH_HOME + 'data/models/{}/performance/'.format(type_corpus)\n",
    "\n",
    "import glob\n",
    "ar_list = glob.glob(path_experiment + type_file + 'ar-True*')\n",
    "ar_list = np.array(ar_list)\n",
    "nonar_list = glob.glob(path_experiment + type_file + 'ar-False*')\n",
    "nonar_list = np.array(nonar_list)\n",
    "\n",
    "'''\n",
    "Read the phis\n",
    "'''\n",
    "thetas_ar = []\n",
    "phis_ar = []\n",
    "thetas_nonar = []\n",
    "phis_nonar = []\n",
    "for ar_model, nonar_model in zip(ar_list, nonar_list):                         \n",
    "    perf_ar = pd.read_pickle(ar_model)\n",
    "    theta_ar, phi_ar = perf_ar\n",
    "    theta_ar = theta_ar[-1]\n",
    "    phi_ar = phi_ar[-1]\n",
    "    thetas_ar.append(theta_ar)\n",
    "    phis_ar.append(phi_ar)\n",
    "#     print('Phi AR: {}'.format(phi_ar))\n",
    "    perf_nonar = pd.read_pickle(nonar_model)\n",
    "    theta_nonar, phi_nonar = perf_nonar\n",
    "    theta_nonar = theta_nonar[-1]\n",
    "    phi_nonar = phi_nonar[-1]\n",
    "    thetas_nonar.append(theta_nonar)\n",
    "    phis_nonar.append(phi_nonar)\n",
    "#     print('Phi Non-AR: {}'.format(phi_nonar))\n",
    "    \n",
    "'''\n",
    "Perform the t-test\n",
    "'''  \n",
    "import scipy.stats as stats\n",
    "t_stat_phi, p_val_phi = stats.ttest_ind(phis_ar, phis_nonar, equal_var=False)\n",
    "t_stat_theta, p_val_theta = stats.ttest_ind(thetas_ar, thetas_nonar, equal_var=False)\n",
    "print(t_stat_phi)\n",
    "print(p_val_phi)\n",
    "print(t_stat_theta)\n",
    "print(p_val_theta)\n",
    "\n",
    "print()\n",
    "t_stat_rel_phi, p_val_rel_phi = stats.ttest_rel(phis_ar, phis_nonar)\n",
    "print(t_stat_rel_phi)\n",
    "print(p_val_rel_phi)\n",
    "t_stat_rel_theta, p_val_rel_theta = stats.ttest_rel(thetas_ar, thetas_nonar)\n",
    "print(t_stat_rel_theta)\n",
    "print(p_val_rel_theta)\n"
   ]
  },
  {
   "cell_type": "markdown",
   "metadata": {},
   "source": [
    "# INITIALISATION"
   ]
  },
  {
   "cell_type": "markdown",
   "metadata": {
    "collapsed": true
   },
   "source": [
    "### Set the parameters"
   ]
  },
  {
   "cell_type": "code",
   "execution_count": 1,
   "metadata": {
    "collapsed": false
   },
   "outputs": [],
   "source": [
    "import os\n",
    "import sys\n",
    "import pandas as pd\n",
    "import numpy as np\n",
    "import pickle as pkl\n",
    "np.set_printoptions(threshold=np.nan)\n",
    "import matplotlib.pyplot as plt\n",
    "%matplotlib inline\n",
    "%load_ext autoreload\n",
    "%autoreload 2\n",
    "\n",
    "PATH_HOME = os.path.expanduser('~') + '/Projects/ssmsi/'\n",
    "PATH_SRC_MODEL = PATH_HOME + 'code/models/'\n",
    "PATH_SRC_AUXILIARY = PATH_HOME + 'code/pre-processing/'\n",
    "PATH_DATA = PATH_HOME + 'data/corpora_processed/'\n",
    "sys.path.append(PATH_SRC_MODEL)\n",
    "sys.path.append(PATH_SRC_AUXILIARY)\n",
    "\n",
    "V = 10\n",
    "vocab = pd.read_pickle(PATH_DATA + 'vocab_synthetic.pkl')\n",
    "\n",
    "from visualiser_corpus import Visualiser_Corpus\n",
    "from processor_corpus import Processor_Corpus\n",
    "from generator_corpus import Generator_Corpus\n",
    "from helper_experiment import Helper_Experiment"
   ]
  },
  {
   "cell_type": "markdown",
   "metadata": {},
   "source": [
    "### Choose a corpus"
   ]
  },
  {
   "cell_type": "markdown",
   "metadata": {},
   "source": [
    "#### experiment-1: {sin,cos}"
   ]
  },
  {
   "cell_type": "code",
   "execution_count": 143,
   "metadata": {
    "collapsed": false
   },
   "outputs": [],
   "source": [
    "name_corpus = 'experiment-1'\n",
    "K = 2\n",
    "T = 20\n",
    "xi = 1000\n",
    "\n",
    "linspace_4pi = np.linspace(0, 4 * np.pi, num=T)\n",
    "alpha_init = np.zeros((T, K))\n",
    "\n",
    "alpha_init[:, 0] = np.sin(linspace_4pi)\n",
    "alpha_init[:, 1] = np.cos(linspace_4pi)\n",
    "theta_init = None\n",
    "name_corpus += \"|overlapping-yes\"\n",
    "beta_init = np.array([[0, 0, 0, 0.5, 0.5, 0, 0, 0, 0, 0],\n",
    "                      [0, 0, 0.5, 0.5, 0, 0, 0, 0, 0, 0]])"
   ]
  },
  {
   "cell_type": "markdown",
   "metadata": {},
   "source": [
    "#### experiment-2: = {1/2*sinx+1/2, -1/2*sinx+1/2, 1/2}"
   ]
  },
  {
   "cell_type": "code",
   "execution_count": 2,
   "metadata": {
    "collapsed": false
   },
   "outputs": [],
   "source": [
    "name_corpus = 'experiment-2'\n",
    "K = 3\n",
    "T = 20\n",
    "xi = 100\n",
    "\n",
    "alpha_init = np.zeros((T, K))\n",
    "beta_init = np.zeros((K, V))\n",
    "linspace_4pi = np.linspace(0, 4 * np.pi, num=T)\n",
    "\n",
    "alpha_init[:, 0] = 1./2 * np.sin(linspace_4pi) + 1/2\n",
    "alpha_init[:, 1] = -1./2 * np.sin(linspace_4pi) + 1/2\n",
    "alpha_init[:, 2] = np.linspace(0.5, 0.5, num=T)\n",
    "theta_init = alpha_init / alpha_init.sum(1)[:, None]\n",
    "alpha_init = None\n",
    "'''\n",
    "Non-overlapping betas\n",
    "'''\n",
    "name_corpus += \"|overlapping-no\"\n",
    "beta_init[0, :] = [0.5, 0.5, 0, 0, 0, 0, 0, 0, 0, 0]\n",
    "beta_init[1, :] = [0, 0, 0.5, 0.5, 0, 0, 0, 0, 0, 0]\n",
    "beta_init[2, :] = [0, 0, 0, 0, 0.5, 0.5, 0, 0, 0, 0]"
   ]
  },
  {
   "cell_type": "markdown",
   "metadata": {},
   "source": [
    "#### experiment-2: = {1/2*sinx+1/2, -1/2*sinx+1/2, 1/2}\n",
    "#### overlapping"
   ]
  },
  {
   "cell_type": "code",
   "execution_count": 22,
   "metadata": {
    "collapsed": false
   },
   "outputs": [],
   "source": [
    "name_corpus = 'experiment-2'\n",
    "K = 3\n",
    "T = 20\n",
    "xi = 100\n",
    "\n",
    "alpha_init = np.zeros((T, K))\n",
    "beta_init = np.zeros((K, V))\n",
    "linspace_4pi = np.linspace(0, 4 * np.pi, num=T)\n",
    "\n",
    "alpha_init[:, 0] = 1./2 * np.sin(linspace_4pi) + 1/2\n",
    "alpha_init[:, 1] = -1./2 * np.sin(linspace_4pi) + 1/2\n",
    "alpha_init[:, 2] = np.linspace(0.3, 0.3, num=T)\n",
    "theta_init = alpha_init / alpha_init.sum(1)[:, None]\n",
    "alpha_init = None\n",
    "'''\n",
    "Overlapping betas\n",
    "'''\n",
    "name_corpus += \"|overlapping-yes\"\n",
    "beta_init[0, :] = [0.5, 0.5, 0, 0, 0, 0, 0, 0, 0, 0]\n",
    "beta_init[1, :] = [0, 0, 0.5, 0.5, 0, 0, 0, 0, 0, 0]\n",
    "beta_init[2, :] = [0.5, 0, 0, 0.5, 0, 0, 0, 0, 0, 0]"
   ]
  },
  {
   "cell_type": "markdown",
   "metadata": {},
   "source": [
    "#### experiment-3: = {1/2*sinx+1/2, -1/2*sinx+1/2, 1/2}\n",
    "#### overlapping"
   ]
  },
  {
   "cell_type": "code",
   "execution_count": 83,
   "metadata": {
    "collapsed": false
   },
   "outputs": [],
   "source": [
    "name_corpus = 'experiment-3'\n",
    "K = 3\n",
    "T = 20\n",
    "xi = 100\n",
    "\n",
    "alpha_init = np.zeros((T, K))\n",
    "beta_init = np.zeros((K, V))\n",
    "linspace_4pi = np.linspace(0, 4 * np.pi, num=T)\n",
    "\n",
    "linspace_t = np.linspace(-T/2, T/2, num=T)\n",
    "alpha_init[:, 0] = 1 / (1 + np.exp(-linspace_t))\n",
    "alpha_init[:, 1] = alpha_init[:, 0][::-1]\n",
    "alpha_init[:, 2] = np.linspace(0.35, 0.35, num=T)\n",
    "\n",
    "theta_init = alpha_init / alpha_init.sum(1)[:, None]\n",
    "alpha_init = None\n",
    "'''\n",
    "Overlapping betas\n",
    "'''\n",
    "name_corpus += \"|overlapping-yes\"\n",
    "beta_init[0, :] = [0.5, 0.5, 0, 0, 0, 0, 0, 0, 0, 0]\n",
    "beta_init[1, :] = [0, 0, 0.5, 0.5, 0, 0, 0, 0, 0, 0]\n",
    "beta_init[2, :] = [0, 0, 0, 0, 0, 0.5, 0.5, 0, 0, 0]"
   ]
  },
  {
   "cell_type": "markdown",
   "metadata": {},
   "source": [
    "#### Experiment 4: Realistic MSI data settings"
   ]
  },
  {
   "cell_type": "markdown",
   "metadata": {},
   "source": [
    "#### 4.1.1"
   ]
  },
  {
   "cell_type": "code",
   "execution_count": 2,
   "metadata": {
    "collapsed": true
   },
   "outputs": [],
   "source": [
    "name_corpus = 'exp-4'\n",
    "name_corpus += \"_topic-ol\"\n",
    "name_corpus += \"_terms-nonol\"\n",
    "name_corpus += \"_error-nonol\"\n",
    "K = 3\n",
    "T = 50\n",
    "xi = 100\n",
    "size_instance = int(T/2)\n",
    "\n",
    "alpha_init = np.zeros((T, K))\n",
    "beta_init = np.zeros((K, V))\n",
    "linspace_pi = np.linspace(0, np.pi, num=size_instance)\n",
    "\n",
    "alpha_init[0:size_instance, 0] = np.sin(linspace_pi)\n",
    "alpha_init[int(0.5*size_instance):int(1.5*size_instance), 1] = np.sin(linspace_pi)\n",
    "alpha_init[:, 2] = np.linspace(10**-1, 10**-1, num=T)\n",
    "\n",
    "theta_init = alpha_init / alpha_init.sum(1)[:, None]\n",
    "alpha_init = None\n",
    "\n",
    "beta_init[0, :] = [0.5, 0.5, 0, 0, 0, 0, 0, 0, 0, 0]\n",
    "beta_init[1, :] = [0, 0, 0.5, 0.5, 0, 0, 0, 0, 0, 0]\n",
    "beta_init[2, :] = [0, 0, 0, 0, 0, 0.2, 0.2, 0.2, 0.2, 0.2]"
   ]
  },
  {
   "cell_type": "markdown",
   "metadata": {},
   "source": [
    "#### 4.1.2"
   ]
  },
  {
   "cell_type": "code",
   "execution_count": 85,
   "metadata": {
    "collapsed": true
   },
   "outputs": [],
   "source": [
    "name_corpus = 'exp-4'\n",
    "name_corpus += \"_topic-ol\"\n",
    "name_corpus += \"_terms-nonol\"\n",
    "name_corpus += \"_error-ol\"\n",
    "K = 3\n",
    "T = 50\n",
    "xi = 100\n",
    "size_instance = int(T/2)\n",
    "\n",
    "alpha_init = np.zeros((T, K))\n",
    "beta_init = np.zeros((K, V))\n",
    "linspace_pi = np.linspace(0, np.pi, num=size_instance)\n",
    "\n",
    "alpha_init[0:size_instance, 0] = np.sin(linspace_pi)\n",
    "alpha_init[int(0.5*size_instance):int(1.5*size_instance), 1] = np.sin(linspace_pi)\n",
    "alpha_init[:, 2] = np.linspace(10**-1, 10**-1, num=T)\n",
    "\n",
    "theta_init = alpha_init / alpha_init.sum(1)[:, None]\n",
    "alpha_init = None\n",
    "\n",
    "beta_init[0, :] = [0.5, 0.5, 0, 0, 0, 0, 0, 0, 0, 0]\n",
    "beta_init[1, :] = [0, 0, 0.5, 0.5, 0, 0, 0, 0, 0, 0]\n",
    "beta_init[2, :] = [0.1, 0.1, 0.1, 0.1, 0.1, 0.1, 0.1, 0.1, 0.1, 0.1]"
   ]
  },
  {
   "cell_type": "markdown",
   "metadata": {},
   "source": [
    "#### 4.1.3"
   ]
  },
  {
   "cell_type": "code",
   "execution_count": 85,
   "metadata": {
    "collapsed": true
   },
   "outputs": [],
   "source": [
    "name_corpus = 'exp-4'\n",
    "name_corpus += \"_topic-ol\"\n",
    "name_corpus += \"_terms-ol\"\n",
    "name_corpus += \"_error-nonol\"\n",
    "K = 3\n",
    "T = 50\n",
    "xi = 100\n",
    "size_instance = int(T/2)\n",
    "\n",
    "alpha_init = np.zeros((T, K))\n",
    "beta_init = np.zeros((K, V))\n",
    "linspace_pi = np.linspace(0, np.pi, num=size_instance)\n",
    "\n",
    "alpha_init[0:size_instance, 0] = np.sin(linspace_pi)\n",
    "alpha_init[int(0.5*size_instance):int(1.5*size_instance), 1] = np.sin(linspace_pi)\n",
    "alpha_init[:, 2] = np.linspace(10**-1, 10**-1, num=T)\n",
    "\n",
    "theta_init = alpha_init / alpha_init.sum(1)[:, None]\n",
    "alpha_init = None\n",
    "\n",
    "beta_init[0, :] = [0.5, 0.5, 0, 0, 0, 0, 0, 0, 0, 0]\n",
    "beta_init[1, :] = [0, 0.5, 0.5, 0, 0, 0, 0, 0, 0, 0]\n",
    "beta_init[2, :] = [0, 0, 0, 0, 0, 0.2, 0.2, 0.2, 0.2, 0.2]"
   ]
  },
  {
   "cell_type": "markdown",
   "metadata": {},
   "source": [
    "#### 4.1.4"
   ]
  },
  {
   "cell_type": "code",
   "execution_count": 85,
   "metadata": {
    "collapsed": true
   },
   "outputs": [],
   "source": [
    "name_corpus = 'exp-4'\n",
    "name_corpus += \"_topic-ol\"\n",
    "name_corpus += \"_terms-ol\"\n",
    "name_corpus += \"_error-ol\"\n",
    "K = 3\n",
    "T = 50\n",
    "xi = 100\n",
    "size_instance = int(T/2)\n",
    "\n",
    "alpha_init = np.zeros((T, K))\n",
    "beta_init = np.zeros((K, V))\n",
    "linspace_pi = np.linspace(0, np.pi, num=size_instance)\n",
    "\n",
    "alpha_init[0:size_instance, 0] = np.sin(linspace_pi)\n",
    "alpha_init[int(0.5*size_instance):int(1.5*size_instance), 1] = np.sin(linspace_pi)\n",
    "alpha_init[:, 2] = np.linspace(10**-1, 10**-1, num=T)\n",
    "\n",
    "theta_init = alpha_init / alpha_init.sum(1)[:, None]\n",
    "alpha_init = None\n",
    "\n",
    "beta_init[0, :] = [0.5, 0.5, 0, 0, 0, 0, 0, 0, 0, 0]\n",
    "beta_init[1, :] = [0, 0.5, 0.5, 0, 0, 0, 0, 0, 0, 0]\n",
    "beta_init[2, :] = [0.1, 0.1, 0.1, 0.1, 0.1, 0.1, 0.1, 0.1, 0.1, 0.1]"
   ]
  },
  {
   "cell_type": "markdown",
   "metadata": {},
   "source": [
    "#### 4.2.1"
   ]
  },
  {
   "cell_type": "code",
   "execution_count": 85,
   "metadata": {
    "collapsed": true
   },
   "outputs": [],
   "source": [
    "name_corpus = 'exp-4'\n",
    "name_corpus += \"_topic-nonol\"\n",
    "name_corpus += \"_terms-nonol\"\n",
    "name_corpus += \"_error-nonol\"\n",
    "K = 3\n",
    "T = 50\n",
    "xi = 100\n",
    "size_instance = int(T/2)\n",
    "\n",
    "alpha_init = np.zeros((T, K))\n",
    "beta_init = np.zeros((K, V))\n",
    "linspace_pi = np.linspace(0, np.pi, num=size_instance)\n",
    "\n",
    "alpha_init[0:size_instance, 0] = np.sin(linspace_pi)\n",
    "alpha_init[size_instance:2*size_instance, 1] = np.sin(linspace_pi)\n",
    "alpha_init[:, 2] = np.linspace(10**-1, 10**-1, num=T)\n",
    "\n",
    "theta_init = alpha_init / alpha_init.sum(1)[:, None]\n",
    "alpha_init = None\n",
    "\n",
    "beta_init[0, :] = [0.5, 0.5, 0, 0, 0, 0, 0, 0, 0, 0]\n",
    "beta_init[1, :] = [0, 0, 0.5, 0.5, 0, 0, 0, 0, 0, 0]\n",
    "beta_init[2, :] = [0, 0, 0, 0, 0, 0.2, 0.2, 0.2, 0.2, 0.2]"
   ]
  },
  {
   "cell_type": "markdown",
   "metadata": {},
   "source": [
    "#### 4.2.2"
   ]
  },
  {
   "cell_type": "code",
   "execution_count": 85,
   "metadata": {
    "collapsed": true
   },
   "outputs": [],
   "source": [
    "name_corpus = 'exp-4'\n",
    "name_corpus += \"_topic-nonol\"\n",
    "name_corpus += \"_terms-nonol\"\n",
    "name_corpus += \"_error-ol\"\n",
    "K = 3\n",
    "T = 50\n",
    "xi = 100\n",
    "size_instance = int(T/2)\n",
    "\n",
    "alpha_init = np.zeros((T, K))\n",
    "beta_init = np.zeros((K, V))\n",
    "linspace_pi = np.linspace(0, np.pi, num=size_instance)\n",
    "\n",
    "alpha_init[0:size_instance, 0] = np.sin(linspace_pi)\n",
    "alpha_init[size_instance:2*size_instance, 1] = np.sin(linspace_pi)\n",
    "alpha_init[:, 2] = np.linspace(10**-1, 10**-1, num=T)\n",
    "\n",
    "theta_init = alpha_init / alpha_init.sum(1)[:, None]\n",
    "alpha_init = None\n",
    "\n",
    "beta_init[0, :] = [0.5, 0.5, 0, 0, 0, 0, 0, 0, 0, 0]\n",
    "beta_init[1, :] = [0, 0, 0.5, 0.5, 0, 0, 0, 0, 0, 0]\n",
    "beta_init[2, :] = [0.1, 0.1, 0.1, 0.1, 0.1, 0.1, 0.1, 0.1, 0.1, 0.1]"
   ]
  },
  {
   "cell_type": "markdown",
   "metadata": {},
   "source": [
    "#### 4.2.3"
   ]
  },
  {
   "cell_type": "code",
   "execution_count": 85,
   "metadata": {
    "collapsed": true
   },
   "outputs": [],
   "source": [
    "name_corpus = 'exp-4'\n",
    "name_corpus += \"_topic-nonol\"\n",
    "name_corpus += \"_terms-ol\"\n",
    "name_corpus += \"_error-nonol\"\n",
    "K = 3\n",
    "T = 50\n",
    "xi = 100\n",
    "size_instance = int(T/2)\n",
    "\n",
    "alpha_init = np.zeros((T, K))\n",
    "beta_init = np.zeros((K, V))\n",
    "linspace_pi = np.linspace(0, np.pi, num=size_instance)\n",
    "\n",
    "alpha_init[0:size_instance, 0] = np.sin(linspace_pi)\n",
    "alpha_init[size_instance:2*size_instance, 1] = np.sin(linspace_pi)\n",
    "alpha_init[:, 2] = np.linspace(10**-1, 10**-1, num=T)\n",
    "\n",
    "theta_init = alpha_init / alpha_init.sum(1)[:, None]\n",
    "alpha_init = None\n",
    "\n",
    "beta_init[0, :] = [0.5, 0.5, 0, 0, 0, 0, 0, 0, 0, 0]\n",
    "beta_init[1, :] = [0, 0.5, 0.5, 0, 0, 0, 0, 0, 0, 0]\n",
    "beta_init[2, :] = [0, 0, 0, 0, 0, 0.2, 0.2, 0.2, 0.2, 0.2]"
   ]
  },
  {
   "cell_type": "markdown",
   "metadata": {},
   "source": [
    "#### 4.2.4"
   ]
  },
  {
   "cell_type": "code",
   "execution_count": 90,
   "metadata": {
    "collapsed": true
   },
   "outputs": [],
   "source": [
    "name_corpus = 'exp-4'\n",
    "name_corpus += \"_topic-nonol\"\n",
    "name_corpus += \"_terms-ol\"\n",
    "name_corpus += \"_error-ol\"\n",
    "K = 3\n",
    "T = 50\n",
    "xi = 100\n",
    "size_instance = int(T/2)\n",
    "\n",
    "alpha_init = np.zeros((T, K))\n",
    "beta_init = np.zeros((K, V))\n",
    "linspace_pi = np.linspace(0, np.pi, num=size_instance)\n",
    "\n",
    "alpha_init[0:size_instance, 0] = np.sin(linspace_pi)\n",
    "alpha_init[size_instance:2*size_instance, 1] = np.sin(linspace_pi)\n",
    "alpha_init[:, 2] = np.linspace(10**-1, 10**-1, num=T)\n",
    "\n",
    "theta_init = alpha_init / alpha_init.sum(1)[:, None]\n",
    "alpha_init = None\n",
    "\n",
    "beta_init[0, :] = [0.5, 0.5, 0, 0, 0, 0, 0, 0, 0, 0]\n",
    "beta_init[1, :] = [0, 0.5, 0.5, 0, 0, 0, 0, 0, 0, 0]\n",
    "beta_init[2, :] = [0.1, 0.1, 0.1, 0.1, 0.1, 0.1, 0.1, 0.1, 0.1, 0.1]"
   ]
  },
  {
   "cell_type": "markdown",
   "metadata": {},
   "source": [
    "### Generate the corpus and initialise the helpers"
   ]
  },
  {
   "cell_type": "code",
   "execution_count": 30,
   "metadata": {
    "collapsed": false
   },
   "outputs": [
    {
     "data": {
      "text/plain": [
       "'\\nOption 2: Generate and pre-process a corpus\\n'"
      ]
     },
     "execution_count": 30,
     "metadata": {},
     "output_type": "execute_result"
    }
   ],
   "source": [
    "no_corpus = 6\n",
    "'''\n",
    "Option 1: Load a corpus\n",
    "'''\n",
    "name_corpus_in = 'corpus_{}_dataset-{}_nparray.pkl'.format(name_corpus, no_corpus)\n",
    "corpus_pp = pd.read_pickle(PATH_DATA + name_corpus_in)\n",
    "'''\n",
    "Option 2: Generate and pre-process a corpus\n",
    "'''\n",
    "# generator_corpus = Generator_Corpus(alpha_init=alpha_init, theta_init=theta_init, beta_init=beta_init, xi=xi, T=T)\n",
    "# corpus = generator_corpus.generate_corpus()\n",
    "# processor_corpus = Processor_Corpus(corpus=corpus, vocab=vocab)\n",
    "# count_max = 50\n",
    "# normalise = True\n",
    "# corpus_pp = processor_corpus.process_corpus(threshold=count_max, normalise=normalise)"
   ]
  },
  {
   "cell_type": "markdown",
   "metadata": {},
   "source": [
    "# BACKLOG"
   ]
  },
  {
   "cell_type": "markdown",
   "metadata": {},
   "source": [
    "### Plotting the alphas in 3D"
   ]
  },
  {
   "cell_type": "code",
   "execution_count": 74,
   "metadata": {
    "collapsed": false,
    "scrolled": true
   },
   "outputs": [
    {
     "data": {
      "text/html": [
       "<iframe id=\"igraph\" scrolling=\"no\" style=\"border:none;\" seamless=\"seamless\" src=\"https://plot.ly/~perdaugmazas/360.embed\" height=\"525px\" width=\"100%\"></iframe>"
      ],
      "text/plain": [
       "<plotly.tools.PlotlyDisplay object>"
      ]
     },
     "execution_count": 74,
     "metadata": {},
     "output_type": "execute_result"
    }
   ],
   "source": [
    "import plotly.plotly as py\n",
    "from plotly.graph_objs import Surface\n",
    "import plotly.graph_objs as go\n",
    "\n",
    "history_alpha = np.array(history_alpha)\n",
    "\n",
    "alphas_softmax_proposed = np.zeros(shape=history_alpha.shape)\n",
    "for it, alpha_it in enumerate(history_alpha):\n",
    "    for t, alpha_proposed_t in enumerate(alpha_it):\n",
    "        alphas_softmax_proposed[it][t] = softmax(alpha_proposed_t)\n",
    "    \n",
    "n_alphas = alphas_softmax_proposed.shape[2]\n",
    "list_alphas = []\n",
    "for i in range(n_alphas):\n",
    "    alpha = dict(z = alphas_softmax_proposed[:, :, i], type='surface')\n",
    "    list_alphas.append(alpha)\n",
    "fig = go.Figure(data=list_alphas)\n",
    "\n",
    "py.iplot(fig)"
   ]
  },
  {
   "cell_type": "markdown",
   "metadata": {},
   "source": [
    "### Load, fit, and dump"
   ]
  },
  {
   "cell_type": "code",
   "execution_count": 32,
   "metadata": {
    "collapsed": false,
    "scrolled": true
   },
   "outputs": [
    {
     "name": "stdout",
     "output_type": "stream",
     "text": [
      "DTM_Alpha has started.\n",
      "Iteration: 1050\n",
      "Alpha update rate: 0.48\n",
      "DTM_Alpha has finished.\n"
     ]
    }
   ],
   "source": [
    "n_it = 1005\n",
    "n_it_add = 50\n",
    "var_init = 0.1\n",
    "var_basic = 0.01\n",
    "var_prop = 0.1\n",
    "autoreg = True\n",
    "name_model_in = 'init_%.0E|basic_%.0E|prop_%.0E|it_%d|autoreg_%s.pkl' \\\n",
    "        % (var_init, var_basic, var_prop, n_it, str(autoreg))\n",
    "name_model_out = 'init_%.0E|basic_%.0E|prop_%.0E|it_%d|autoreg_%s.pkl' \\\n",
    "        % (var_init, var_basic, var_prop, n_it + n_it_add, str(autoreg))\n",
    "\n",
    "dtm_alpha = DTM_Alpha()\n",
    "dtm_alpha.load_fit(PATH_OUT_MODEL + name_model_in, n_it=n_it_add)\n",
    "\n",
    "# '''\n",
    "# Plot\n",
    "# '''\n",
    "# history_alpha = dtm_alpha.hist_alpha\n",
    "# alphas_last_proposed = history_alpha[n_it-1]\n",
    "# alphas_softmax_last_proposed = np.zeros(shape=alphas_last_proposed.shape)\n",
    "# for t, alphas_last_proposed_t in enumerate(alphas_last_proposed):\n",
    "#     alphas_softmax_last_proposed[t] = softmax(alphas_last_proposed_t)\n",
    "\n",
    "# plt.plot(linspace_t, alphas_softmax_last_proposed, linewidth=2)\n",
    "\n",
    "# '''\n",
    "# Save the results\n",
    "# '''\n",
    "# plt.savefig('results/' + name_model_out + '.png')\n",
    "# vars_dtm = vars(dtm_alpha)\n",
    "# with open('models/' + name_model_out + '.pkl', 'wb') as f:\n",
    "#         pkl.dump(vars_dtm, f)"
   ]
  },
  {
   "cell_type": "markdown",
   "metadata": {},
   "source": [
    "### Plot the latent $\\alpha$s (2plots)"
   ]
  },
  {
   "cell_type": "code",
   "execution_count": 25,
   "metadata": {
    "collapsed": false
   },
   "outputs": [
    {
     "data": {
      "image/png": "[encoded data removed]",
      "text/plain": [
       "<matplotlib.figure.Figure at 0x11be045c0>"
      ]
     },
     "metadata": {},
     "output_type": "display_data"
    }
   ],
   "source": [
    "history_alpha = clf_ar.hist_alpha\n",
    "visualiser_corpus.plot_latent_alpha2(history_alpha, n_it, var_init=var_init,\n",
    "                                    var_basic=var_basic, var_prop=var_prop)\n",
    "# plt.savefig(PATH_OUT_RESULTS + name_model_out + '.png', dpi=300)"
   ]
  },
  {
   "cell_type": "code",
   "execution_count": null,
   "metadata": {
    "collapsed": true
   },
   "outputs": [],
   "source": []
  }
 ],
 "metadata": {
  "anaconda-cloud": {},
  "kernelspec": {
   "display_name": "py27",
   "language": "python",
   "name": "py27"
  },
  "language_info": {
   "codemirror_mode": {
    "name": "ipython",
    "version": 3
   },
   "file_extension": ".py",
   "mimetype": "text/x-python",
   "name": "python",
   "nbconvert_exporter": "python",
   "pygments_lexer": "ipython3",
   "version": "3.6.0"
  }
 },
 "nbformat": 4,
 "nbformat_minor": 1
}
