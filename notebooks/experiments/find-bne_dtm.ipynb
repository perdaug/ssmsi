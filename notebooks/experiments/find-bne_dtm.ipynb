{
 "cells": [
  {
   "cell_type": "markdown",
   "metadata": {},
   "source": [
    "# GUIDELINES\n",
    "### - Experiment Execution\n",
    "### - Experiment Assessment\n",
    "### - Initialisation"
   ]
  },
  {
   "cell_type": "markdown",
   "metadata": {},
   "source": [
    "# Experiment Execution"
   ]
  },
  {
   "cell_type": "markdown",
   "metadata": {},
   "source": [
    "### Fit"
   ]
  },
  {
   "cell_type": "code",
   "execution_count": 3,
   "metadata": {
    "collapsed": false,
    "scrolled": true
   },
   "outputs": [
    {
     "name": "stdout",
     "output_type": "stream",
     "text": [
      "LDA_Gibbs has started.\n",
      "Initialisation run-time: 19.39\n",
      "Iteration 0:\n",
      "Gibbs sampling run-time: 24.10\n",
      "Iteration 5:\n",
      "Iteration 10:\n",
      "Iteration 15:\n",
      "Iteration 20:\n",
      "Iteration 25:\n",
      "Iteration 30:\n",
      "Iteration 35:\n",
      "Iteration 40:\n",
      "Iteration 45:\n",
      "Iteration 50:\n",
      "Iteration 55:\n",
      "Iteration 60:\n",
      "Iteration 65:\n",
      "Iteration 70:\n",
      "Iteration 75:\n",
      "Iteration 80:\n",
      "Iteration 85:\n",
      "Iteration 90:\n",
      "Iteration 95:\n"
     ]
    }
   ],
   "source": [
    "n_it = 100\n",
    "n_it_refit = 0\n",
    "clf.fit(corpus=corpus_pp, n_it=n_it)"
   ]
  },
  {
   "cell_type": "markdown",
   "metadata": {},
   "source": [
    "### Save a fit model"
   ]
  },
  {
   "cell_type": "code",
   "execution_count": 4,
   "metadata": {
    "collapsed": false
   },
   "outputs": [],
   "source": [
    "name_model_out = 'K_{}|it_{}.pkl'.format(K, n_it + n_it_refit)\n",
    "vars_clf = vars(clf)\n",
    "pkl.dump(vars_clf, open(PATH_OUT_MODEL + name_model_out, 'wb'))"
   ]
  },
  {
   "cell_type": "markdown",
   "metadata": {},
   "source": [
    "### Load and fit "
   ]
  },
  {
   "cell_type": "code",
   "execution_count": 13,
   "metadata": {
    "collapsed": false,
    "scrolled": true
   },
   "outputs": [
    {
     "name": "stdout",
     "output_type": "stream",
     "text": [
      "Iteration 50:\n",
      "Iteration 55:\n",
      "Iteration 60:\n",
      "Iteration 65:\n",
      "Iteration 70:\n",
      "Iteration 75:\n",
      "Iteration 80:\n",
      "Iteration 85:\n",
      "Iteration 90:\n",
      "Iteration 95:\n"
     ]
    }
   ],
   "source": [
    "name_model_in = 'K_{}|it_{}.pkl'.format(K, n_it)\n",
    "# name_model_in = 'K_{}|it_{}.pkl'.format(K, 150)\n",
    "path_model = PATH_OUT_MODEL + name_model_in\n",
    "n_it_refit = 50\n",
    "clf.load_fit(path_file=path_model, n_it=n_it_refit)"
   ]
  },
  {
   "cell_type": "markdown",
   "metadata": {},
   "source": [
    "# Experiment Assessment"
   ]
  },
  {
   "cell_type": "markdown",
   "metadata": {},
   "source": [
    "### 1. Plot a topic's ocurrences"
   ]
  },
  {
   "cell_type": "code",
   "execution_count": 7,
   "metadata": {
    "collapsed": false
   },
   "outputs": [
    {
     "data": {
      "text/html": [
       "<iframe id=\"igraph\" scrolling=\"no\" style=\"border:none;\" seamless=\"seamless\" src=\"https://plot.ly/~perdaugmazas/594.embed\" height=\"350px\" width=\"100%\"></iframe>"
      ],
      "text/plain": [
       "<plotly.tools.PlotlyDisplay object>"
      ]
     },
     "execution_count": 7,
     "metadata": {},
     "output_type": "execute_result"
    }
   ],
   "source": [
    "thetas = np.array(clf.hist_thetas)\n",
    "# thetas = np.array(clf.hist_theta)\n",
    "topic = 2\n",
    "figure_topic_occurrences = visualiser_corpus.locate_topic(topic, thetas)\n",
    "py.iplot(figure_topic_occurrences)"
   ]
  },
  {
   "cell_type": "markdown",
   "metadata": {},
   "source": [
    "## Initialisation"
   ]
  },
  {
   "cell_type": "markdown",
   "metadata": {},
   "source": [
    "### Instance initialisation\n",
    "#### - Select the model (DTM or LDA)"
   ]
  },
  {
   "cell_type": "code",
   "execution_count": 1,
   "metadata": {
    "collapsed": false
   },
   "outputs": [],
   "source": [
    "import sys\n",
    "import pandas as pd\n",
    "import numpy as np\n",
    "import plotly.plotly as py\n",
    "import os\n",
    "import pickle as pkl\n",
    "%load_ext autoreload\n",
    "%autoreload 2\n",
    "\n",
    "PATH_HOME = os.path.expanduser('~') + '/Projects/ssmsi/'\n",
    "PATH_DATA = PATH_HOME + 'data/corpora_processed/'\n",
    "PATH_SRC_MODEL = PATH_HOME + 'code/models/'\n",
    "PATH_SRC_AUX = PATH_HOME + 'code/pre-processing/'\n",
    "sys.path.append(PATH_SRC_MODEL)\n",
    "sys.path.append(PATH_SRC_AUX)\n",
    "'''\n",
    "Select the classifier (uncomment the choice)\n",
    "'''\n",
    "K = 10\n",
    "from dtm_alpha import DTM_Alpha\n",
    "var_init = 0.1\n",
    "var_basic = 0.01\n",
    "var_prop = 0.1\n",
    "autoreg = False\n",
    "beta = 0.1\n",
    "clf = DTM_Alpha(K=K, beta=beta, sigma_0_sq=var_init, sigma_sq=var_basic, \n",
    "                delta_sq=var_prop, autoreg=autoreg)\n",
    "# from lda_gibbs import LDA_Gibbs\n",
    "# clf = LDA_Gibbs(K=K)\n",
    "name_clf = clf.__class__.__name__.lower()\n",
    "PATH_OUT_RESULTS = PATH_HOME + 'data/models/{}/results/'.format(name_clf)\n",
    "PATH_OUT_MODEL = PATH_HOME + 'data/models/{}/prefit-models/'.format(name_clf)\n",
    "\n",
    "from visualiser_corpus import Visualiser_Corpus\n",
    "from processor_corpus import Processor_Corpus"
   ]
  },
  {
   "cell_type": "markdown",
   "metadata": {},
   "source": [
    "### Data pre-processing\n",
    "#### - Select the normalisation limit (count_max)\n",
    "#### - Select corpus pre-processing or loading"
   ]
  },
  {
   "cell_type": "code",
   "execution_count": 2,
   "metadata": {
    "collapsed": false
   },
   "outputs": [],
   "source": [
    "'''\n",
    "Option 1: Corpus loading\n",
    "'''\n",
    "# corpus_pp = pd.read_pickle(PATH_DATA + 'corpus_bne_nparray.pkl')\n",
    "# vocab = pd.read_pickle(PATH_DATA + 'vocab_bne.pkl')\n",
    "'''\n",
    "Option 2: Corpus pre-processing\n",
    "'''\n",
    "corpus = pd.read_pickle(PATH_DATA + 'corpus_bne_dict.pkl')\n",
    "processor_corpus = Processor_Corpus(corpus=corpus)\n",
    "count_max = 10\n",
    "normalise = True\n",
    "corpus_pp = processor_corpus.process_corpus(threshold=count_max, normalise=normalise)\n",
    "vocab = processor_corpus.vocab\n",
    "'''\n",
    "Initialising the visualisation factory\n",
    "'''\n",
    "l_row = 62\n",
    "l_column = 1.25\n",
    "n_rows = 8\n",
    "visualiser_corpus = Visualiser_Corpus(corpus_pp, vocab, n_rows, l_row, l_column)\n",
    "'''\n",
    "Dump\n",
    "'''\n",
    "vocab.dump(PATH_DATA + 'vocab_bne.pkl')\n",
    "corpus_pp.dump(PATH_DATA + 'corpus_bne_nparray.pkl')"
   ]
  },
  {
   "cell_type": "code",
   "execution_count": 8,
   "metadata": {
    "collapsed": false
   },
   "outputs": [],
   "source": [
    "# print((corpus_pp[0]))"
   ]
  },
  {
   "cell_type": "markdown",
   "metadata": {},
   "source": [
    "# BACKLOG"
   ]
  },
  {
   "cell_type": "markdown",
   "metadata": {},
   "source": [
    "### 1. Plot a word's ocurrences"
   ]
  },
  {
   "cell_type": "code",
   "execution_count": 10,
   "metadata": {
    "collapsed": false
   },
   "outputs": [
    {
     "data": {
      "text/html": [
       "<iframe id=\"igraph\" scrolling=\"no\" style=\"border:none;\" seamless=\"seamless\" src=\"https://plot.ly/~perdaugmazas/598.embed\" height=\"350px\" width=\"100%\"></iframe>"
      ],
      "text/plain": [
       "<plotly.tools.PlotlyDisplay object>"
      ]
     },
     "execution_count": 10,
     "metadata": {},
     "output_type": "execute_result"
    }
   ],
   "source": [
    "word = '(374.97097984961994, 375.22268528175505)'\n",
    "figure_word_occurrences = visualiser_corpus.locate_word(word)\n",
    "\n",
    "py.iplot(figure_word_occurrences)"
   ]
  },
  {
   "cell_type": "code",
   "execution_count": null,
   "metadata": {
    "collapsed": true
   },
   "outputs": [],
   "source": []
  }
 ],
 "metadata": {
  "kernelspec": {
   "display_name": "py27",
   "language": "python",
   "name": "py27"
  },
  "language_info": {
   "codemirror_mode": {
    "name": "ipython",
    "version": 3
   },
   "file_extension": ".py",
   "mimetype": "text/x-python",
   "name": "python",
   "nbconvert_exporter": "python",
   "pygments_lexer": "ipython3",
   "version": "3.6.0"
  }
 },
 "nbformat": 4,
 "nbformat_minor": 2
}
