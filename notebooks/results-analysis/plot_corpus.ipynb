{
 "cells": [
  {
   "cell_type": "code",
   "execution_count": 21,
   "metadata": {
    "collapsed": false
   },
   "outputs": [],
   "source": [
    "import os\n",
    "import plotly.plotly as py\n",
    "import plotly.graph_objs as go\n",
    "import pandas as pd\n",
    "import math\n",
    "import numpy as np\n",
    "\n",
    "HOME_PATH = os.path.expanduser('~')\n",
    "PICKLES_PATH = HOME_PATH + '/Projects/tminm/pickles/'\n",
    "HEAVY_PICKLES_PATH = HOME_PATH + '/Projects/tminm/heavy_pickles/'\n",
    "\n",
    "ROW_LENGTH = 62\n",
    "COLUMN_LENGTH = 1.25\n",
    "NUMBER_OF_ROWS = 8"
   ]
  },
  {
   "cell_type": "code",
   "execution_count": 22,
   "metadata": {
    "collapsed": false
   },
   "outputs": [],
   "source": [
    "# docs = pd.read_pickle(HEAVY_PICKLES_PATH + 'gen_corpus.pickle').to_dict()\n",
    "# docs = pd.read_pickle(HEAVY_PICKLES_PATH + 'seq_gen_corpus.pickle').to_dict()\n",
    "docs = pd.read_pickle(HEAVY_PICKLES_PATH + 'corpus.pickle').to_dict()\n",
    "document_ids_map = pd.read_pickle(PICKLES_PATH + 'doc_id_mapping.pickle').to_dict()\n",
    "vocab = pd.read_pickle(HEAVY_PICKLES_PATH + 'vocab.pickle').tolist()\n",
    "inverted_document_ids_map = {v: int(k) for k, v in document_ids_map.iteritems()}"
   ]
  },
  {
   "cell_type": "code",
   "execution_count": 23,
   "metadata": {
    "collapsed": false
   },
   "outputs": [],
   "source": [
    "def generate_coordinates(data_size, column_size, row_size):    \n",
    "    x_coord = 0\n",
    "    y_coord = NUMBER_OF_ROWS - 1\n",
    "    row_scan = True\n",
    "    scanning_right = True\n",
    "    coordinates = {}\n",
    "    for j in range(0, NUMBER_OF_ROWS):\n",
    "        for i in range(0, row_size):\n",
    "            doc_id = i + column_size * j + row_size * j\n",
    "            coordinates[doc_id] = {'x': x_coord, 'y': y_coord}\n",
    "            # Switching horizontal scanning to vertical.\n",
    "            if (i % (row_size - 1) == 0 and i != 0):\n",
    "                y_coord -= 1\n",
    "                continue\n",
    "            if scanning_right:\n",
    "                x_coord += 1\n",
    "            else:\n",
    "                x_coord -= 1         \n",
    "        # Reversing the scanner's direction.\n",
    "        scanning_right = not scanning_right\n",
    "    return coordinates\n",
    "\n",
    "def calculate_the_sizes(data, number_of_rows, row_length, column_length):\n",
    "    data_size = len(data)\n",
    "    single_scan_size = (data_size + 1) / number_of_rows\n",
    "    column_size = int(math.floor(single_scan_size \\\n",
    "    * (column_length / (row_length + column_length))))\n",
    "    row_size = single_scan_size - column_size \n",
    "    return data_size, single_scan_size, column_size, row_size\n",
    "\n",
    "data_size, single_scan_size, column_size, row_size = \\\n",
    "    calculate_the_sizes(docs, NUMBER_OF_ROWS, ROW_LENGTH, COLUMN_LENGTH)\n",
    "coordinates_mapping = generate_coordinates(data_size, column_size, row_size)\n",
    "\n",
    "# word_key = \"{'start': 374.97097984961994, 'end': 375.22268528175505}\"\n",
    "word_key = \"{'start': 706.97473682118107, 'end': 709.47398627680934}\"\n",
    "# word_key = \"{'start': 849.5159026964642, 'end': 852.00502121877867}\"\n",
    "\n",
    "z_matrix = np.zeros(shape=(NUMBER_OF_ROWS, row_size)) \n",
    "for i, doc in docs.iteritems():\n",
    "    if i in coordinates_mapping and word_key in doc:\n",
    "        doc_coord = coordinates_mapping[i]\n",
    "        z_matrix[doc_coord['y']][doc_coord['x']] = doc[word_key]\n"
   ]
  },
  {
   "cell_type": "code",
   "execution_count": 30,
   "metadata": {
    "collapsed": false
   },
   "outputs": [],
   "source": [
    "word_key = \"{'start': 374.97097984961994, 'end': 375.22268528175505}\"\n",
    "\n",
    "z_matrix = np.zeros(shape=(NUMBER_OF_ROWS, row_size)) \n",
    "for i, doc in docs.iteritems():\n",
    "    if word_key in doc and int(i) in coordinates_mapping:\n",
    "        doc_coord = coordinates_mapping[int(i)]\n",
    "        z_matrix[doc_coord['y']][doc_coord['x']] = doc[word_key]"
   ]
  },
  {
   "cell_type": "code",
   "execution_count": 32,
   "metadata": {
    "collapsed": false
   },
   "outputs": [
    {
     "data": {
      "text/html": [
       "<iframe id=\"igraph\" scrolling=\"no\" style=\"border:none;\" seamless=\"seamless\" src=\"https://plot.ly/~perdaugmazas/98.embed\" height=\"350px\" width=\"100%\"></iframe>"
      ],
      "text/plain": [
       "<plotly.tools.PlotlyDisplay object>"
      ]
     },
     "execution_count": 32,
     "metadata": {},
     "output_type": "execute_result"
    }
   ],
   "source": [
    "import plotly.plotly as py\n",
    "import plotly.graph_objs as go\n",
    "\n",
    "x_vector = np.zeros(shape=(row_size, 1))\n",
    "for i in range(0, row_size):\n",
    "    x_vector[i] = i\n",
    "y_vector = np.zeros(shape=(NUMBER_OF_ROWS, 1))\n",
    "for i in range(0, NUMBER_OF_ROWS):\n",
    "    y_vector[i] = i\n",
    "\n",
    "layout = go.Layout(\n",
    "    height=350,\n",
    "    xaxis=dict(title='x'),\n",
    "    yaxis=dict(title='y')\n",
    ")\n",
    "data = [\n",
    "    go.Heatmap(\n",
    "        z=z_matrix,\n",
    "        x=x_vector,\n",
    "        y=y_vector,\n",
    "        colorscale='Electric',\n",
    "        colorbar=dict(title='Total Intensity')\n",
    "    )\n",
    "]\n",
    "fig = go.Figure(data=data, layout=layout)\n",
    "\n",
    "py.iplot(fig)"
   ]
  },
  {
   "cell_type": "code",
   "execution_count": null,
   "metadata": {
    "collapsed": true
   },
   "outputs": [],
   "source": []
  }
 ],
 "metadata": {
  "kernelspec": {
   "display_name": "Python 2",
   "language": "python",
   "name": "python2"
  },
  "language_info": {
   "codemirror_mode": {
    "name": "ipython",
    "version": 2
   },
   "file_extension": ".py",
   "mimetype": "text/x-python",
   "name": "python",
   "nbconvert_exporter": "python",
   "pygments_lexer": "ipython2",
   "version": "2.7.12"
  }
 },
 "nbformat": 4,
 "nbformat_minor": 1
}
