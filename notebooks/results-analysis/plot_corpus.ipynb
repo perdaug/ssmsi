{
 "cells": [
  {
   "cell_type": "code",
   "execution_count": 1,
   "metadata": {
    "collapsed": false
   },
   "outputs": [],
   "source": [
    "import os\n",
    "import plotly.plotly as py\n",
    "import plotly.graph_objs as go\n",
    "import pandas as pd\n",
    "import math\n",
    "import numpy as np\n",
    "\n",
    "HOME_PATH = os.path.expanduser('~')\n",
    "DATA_PATH = HOME_PATH + '/Projects/ssmsi/pickles/corpora/generated-corpora/'\n",
    "AUX_DATA_PATH = HOME_PATH + '/Projects/ssmsi/pickles/corpora/a-to-h/'\n",
    "\n",
    "ROW_LENGTH = 62\n",
    "COLUMN_LENGTH = 1.25\n",
    "NUMBER_OF_ROWS = 8\n",
    "\n",
    "vocab = pd.read_pickle(AUX_DATA_PATH + 'a-to-h_vocab.pickle').tolist()"
   ]
  },
  {
   "cell_type": "markdown",
   "metadata": {},
   "source": [
    "### Option: A-to-h corpus "
   ]
  },
  {
   "cell_type": "code",
   "execution_count": 2,
   "metadata": {
    "collapsed": false
   },
   "outputs": [],
   "source": [
    "docs = pd.read_pickle(AUX_DATA_PATH + 'a-to-h_corpus.pickle').to_dict()\n",
    "word_key = '(374.97097984961994, 375.22268528175505)'"
   ]
  },
  {
   "cell_type": "markdown",
   "metadata": {},
   "source": [
    "### Option: Naivelly generated corpus"
   ]
  },
  {
   "cell_type": "code",
   "execution_count": 2,
   "metadata": {
    "collapsed": false
   },
   "outputs": [],
   "source": [
    "docs = pd.read_pickle(DATA_PATH + 'naive_corpus.pickle').to_dict()\n",
    "word_key = \"{'start': 764.02336015008007, 'end': 764.1950241267549}\""
   ]
  },
  {
   "cell_type": "markdown",
   "metadata": {},
   "source": [
    "### Option: Dynamically generated corpus"
   ]
  },
  {
   "cell_type": "code",
   "execution_count": 2,
   "metadata": {
    "collapsed": true
   },
   "outputs": [],
   "source": [
    "docs = pd.read_pickle(DATA_PATH + 'seq_corpus.pickle').to_dict()\n",
    "word_key = \"{'start': 638.58361506523988, 'end': 638.66990759572423}\""
   ]
  },
  {
   "cell_type": "markdown",
   "metadata": {},
   "source": [
    "### Creating the coordinate map"
   ]
  },
  {
   "cell_type": "code",
   "execution_count": 3,
   "metadata": {
    "collapsed": false
   },
   "outputs": [],
   "source": [
    "def calculate_the_sizes(data, number_of_rows, row_length, column_length):\n",
    "    data_size = len(data)\n",
    "    single_scan_size = (data_size + 1) / number_of_rows\n",
    "    column_size = int(math.floor(single_scan_size \\\n",
    "    * (column_length / (row_length + column_length))))\n",
    "    row_size = single_scan_size - column_size \n",
    "    return data_size, single_scan_size, column_size, row_size\n",
    "\n",
    "data_size, \\\n",
    "single_scan_size, \\\n",
    "column_size, \\\n",
    "row_size = calculate_the_sizes(docs, NUMBER_OF_ROWS, ROW_LENGTH, COLUMN_LENGTH)"
   ]
  },
  {
   "cell_type": "code",
   "execution_count": 4,
   "metadata": {
    "collapsed": true
   },
   "outputs": [],
   "source": [
    "def generate_coordinates(data_size, column_size, row_size):    \n",
    "    x_coord = 0\n",
    "    y_coord = NUMBER_OF_ROWS - 1\n",
    "    row_scan = True\n",
    "    scanning_right = True\n",
    "    coordinates = {}\n",
    "    for j in range(0, NUMBER_OF_ROWS):\n",
    "        for i in range(0, row_size):\n",
    "            doc_id = i + column_size * j + row_size * j\n",
    "            coordinates[doc_id] = {'x': x_coord, 'y': y_coord}\n",
    "            # Switching horizontal scanning to vertical.\n",
    "            if (i % (row_size - 1) == 0 and i != 0):\n",
    "                y_coord -= 1\n",
    "                continue\n",
    "            if scanning_right:\n",
    "                x_coord += 1\n",
    "            else:\n",
    "                x_coord -= 1         \n",
    "        # Reversing the scanner's direction.\n",
    "        scanning_right = not scanning_right\n",
    "    return coordinates\n",
    "\n",
    "coordinates_mapping = generate_coordinates(data_size, column_size, row_size)"
   ]
  },
  {
   "cell_type": "markdown",
   "metadata": {},
   "source": [
    "### Mapping the documents to the coordinates"
   ]
  },
  {
   "cell_type": "code",
   "execution_count": 5,
   "metadata": {
    "collapsed": false
   },
   "outputs": [],
   "source": [
    "# Mapping to the z values.\n",
    "z_matrix = np.zeros(shape=(NUMBER_OF_ROWS, row_size)) \n",
    "for i, doc in docs.iteritems():\n",
    "    if word_key in doc and int(i) in coordinates_mapping:\n",
    "        doc_coord = coordinates_mapping[int(i)]\n",
    "        z_matrix[doc_coord['y']][doc_coord['x']] = doc[word_key]\n",
    "\n",
    "# Creating the x and y axes.         \n",
    "x_vector = np.zeros(shape=(row_size, 1))\n",
    "for i in range(0, row_size):\n",
    "    x_vector[i] = i\n",
    "y_vector = np.zeros(shape=(NUMBER_OF_ROWS, 1))\n",
    "for i in range(0, NUMBER_OF_ROWS):\n",
    "    y_vector[i] = i"
   ]
  },
  {
   "cell_type": "code",
   "execution_count": 6,
   "metadata": {
    "collapsed": false
   },
   "outputs": [
    {
     "data": {
      "text/html": [
       "<iframe id=\"igraph\" scrolling=\"no\" style=\"border:none;\" seamless=\"seamless\" src=\"https://plot.ly/~perdaugmazas/142.embed\" height=\"350px\" width=\"100%\"></iframe>"
      ],
      "text/plain": [
       "<plotly.tools.PlotlyDisplay object>"
      ]
     },
     "execution_count": 6,
     "metadata": {},
     "output_type": "execute_result"
    }
   ],
   "source": [
    "import plotly.plotly as py\n",
    "import plotly.graph_objs as go\n",
    "\n",
    "layout = go.Layout(\n",
    "    height=350,\n",
    "    xaxis=dict(title='x'),\n",
    "    yaxis=dict(title='y')\n",
    ")\n",
    "data = [\n",
    "    go.Heatmap(\n",
    "        z=z_matrix,\n",
    "        x=x_vector,\n",
    "        y=y_vector,\n",
    "        colorscale='Electric',\n",
    "        colorbar=dict(title='Total Intensity')\n",
    "    )\n",
    "]\n",
    "fig = go.Figure(data=data, layout=layout)\n",
    "\n",
    "py.iplot(fig)"
   ]
  },
  {
   "cell_type": "code",
   "execution_count": null,
   "metadata": {
    "collapsed": true
   },
   "outputs": [],
   "source": []
  }
 ],
 "metadata": {
  "kernelspec": {
   "display_name": "Python 2",
   "language": "python",
   "name": "python2"
  },
  "language_info": {
   "codemirror_mode": {
    "name": "ipython",
    "version": 2
   },
   "file_extension": ".py",
   "mimetype": "text/x-python",
   "name": "python",
   "nbconvert_exporter": "python",
   "pygments_lexer": "ipython2",
   "version": "2.7.12"
  }
 },
 "nbformat": 4,
 "nbformat_minor": 1
}
