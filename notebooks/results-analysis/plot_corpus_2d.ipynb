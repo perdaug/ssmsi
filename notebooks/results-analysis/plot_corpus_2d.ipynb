{
 "cells": [
  {
   "cell_type": "markdown",
   "metadata": {},
   "source": [
    "## Raw corpus"
   ]
  },
  {
   "cell_type": "code",
   "execution_count": 10,
   "metadata": {
    "collapsed": false
   },
   "outputs": [],
   "source": [
    "import os\n",
    "import pandas as pd\n",
    "import numpy as np\n",
    "\n",
    "HOME_PATH = os.path.expanduser('~') + '/Projects/ssmsi/'\n",
    "DATA_PATH = HOME_PATH + 'pickles/corpora/synthetic/'\n",
    "AUX_DATA_PATH = HOME_PATH + 'pickles/corpora/a-to-h/'\n",
    "\n",
    "docs = pd.read_pickle(DATA_PATH + 'd-corpus_50.pkl')\n",
    "D = len(docs)\n",
    "keys_to_plot = docs[D-20].keys()"
   ]
  },
  {
   "cell_type": "code",
   "execution_count": 11,
   "metadata": {
    "collapsed": false
   },
   "outputs": [],
   "source": [
    "matrix_z = np.zeros(shape=(len(keys_to_plot), D)) \n",
    "for idx_doc, doc in docs.iteritems():\n",
    "    for idx_key, key_word in enumerate(keys_to_plot):\n",
    "        if key_word in doc:\n",
    "            matrix_z[idx_key][idx_doc] = doc[key_word]\n",
    "            \n",
    "vector_doc = np.zeros(shape=(D, 1))\n",
    "for i in range(0, D):\n",
    "    vector_doc[i] = i\n",
    "    \n",
    "vector_keys = np.zeros(shape=(len(keys_to_plot), 1))\n",
    "for i in range(0, len(keys_to_plot)):\n",
    "    vector_keys[i] = i"
   ]
  },
  {
   "cell_type": "markdown",
   "metadata": {},
   "source": [
    "## Pre-processed corpus"
   ]
  },
  {
   "cell_type": "code",
   "execution_count": 19,
   "metadata": {
    "collapsed": false
   },
   "outputs": [],
   "source": [
    "import os\n",
    "import pandas as pd\n",
    "import numpy as np\n",
    "\n",
    "HOME_PATH = os.path.expanduser('~') + '/Projects/ssmsi/'\n",
    "DATA_PATH = HOME_PATH + 'pickles/corpora/synthetic/'\n",
    "AUX_DATA_PATH = HOME_PATH + 'pickles/corpora/a-to-h/'\n",
    "\n",
    "vocab = pd.read_pickle(AUX_DATA_PATH + 'a-to-h_vocab.pkl').tolist()\n",
    "vocab = np.array(vocab)\n",
    "docs = pd.read_pickle(DATA_PATH + 'pp_d-corpus_50.pkl')\n",
    "D = docs.shape[0]\n",
    "idxs = np.where(docs[D-20] > 0)[0]\n",
    "\n",
    "keys_to_plot = vocab[idxs]"
   ]
  },
  {
   "cell_type": "code",
   "execution_count": 20,
   "metadata": {
    "collapsed": false
   },
   "outputs": [],
   "source": [
    "matrix_z = np.zeros(shape=(len(keys_to_plot), D)) \n",
    "for idx_doc, doc in enumerate(docs):\n",
    "    for idx_key, key_word in enumerate(keys_to_plot):\n",
    "        idx_word = idxs[idx_key]\n",
    "        matrix_z[idx_key][idx_doc] = doc[idx_word]\n",
    "            \n",
    "vector_doc = np.zeros(shape=(D, 1))\n",
    "for i in range(0, D):\n",
    "    vector_doc[i] = i\n",
    "    \n",
    "vector_keys = np.zeros(shape=(len(keys_to_plot), 1))\n",
    "for i in range(0, len(keys_to_plot)):\n",
    "    vector_keys[i] = i"
   ]
  },
  {
   "cell_type": "markdown",
   "metadata": {},
   "source": [
    "## Plotting"
   ]
  },
  {
   "cell_type": "code",
   "execution_count": 21,
   "metadata": {
    "collapsed": false
   },
   "outputs": [
    {
     "data": {
      "text/html": [
       "<iframe id=\"igraph\" scrolling=\"no\" style=\"border:none;\" seamless=\"seamless\" src=\"https://plot.ly/~perdaugmazas/198.embed\" height=\"350px\" width=\"100%\"></iframe>"
      ],
      "text/plain": [
       "<plotly.tools.PlotlyDisplay object>"
      ]
     },
     "execution_count": 21,
     "metadata": {},
     "output_type": "execute_result"
    }
   ],
   "source": [
    "import plotly.plotly as py\n",
    "import plotly.graph_objs as go\n",
    "\n",
    "layout = go.Layout(height=350,\n",
    "                   xaxis=dict(title='time slice (doc)'),\n",
    "                   yaxis=dict(title='word id'))\n",
    "data = [go.Heatmap(z=matrix_z,\n",
    "                   x=vector_doc,\n",
    "                   y=vector_keys,\n",
    "                   colorscale='Electric',\n",
    "                   colorbar=dict(title='Total Intensity'))]\n",
    "fig = go.Figure(data=data, layout=layout)\n",
    "\n",
    "py.iplot(fig)"
   ]
  },
  {
   "cell_type": "code",
   "execution_count": null,
   "metadata": {
    "collapsed": true
   },
   "outputs": [],
   "source": []
  }
 ],
 "metadata": {
  "anaconda-cloud": {},
  "kernelspec": {
   "display_name": "Python [conda env:py27]",
   "language": "python",
   "name": "conda-env-py27-py"
  },
  "language_info": {
   "codemirror_mode": {
    "name": "ipython",
    "version": 2
   },
   "file_extension": ".py",
   "mimetype": "text/x-python",
   "name": "python",
   "nbconvert_exporter": "python",
   "pygments_lexer": "ipython2",
   "version": "2.7.13"
  }
 },
 "nbformat": 4,
 "nbformat_minor": 1
}
