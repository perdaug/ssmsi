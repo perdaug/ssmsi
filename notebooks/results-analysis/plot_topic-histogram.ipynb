{
 "cells": [
  {
   "cell_type": "code",
   "execution_count": 1,
   "metadata": {
    "collapsed": false
   },
   "outputs": [],
   "source": [
    "import plotly.plotly as py\n",
    "import plotly.graph_objs as go\n",
    "import pandas as pd\n",
    "import os\n",
    "\n",
    "HOME_PATH = os.path.expanduser('~')\n",
    "VOCABULARIES_PATH = '/Projects/ssmsi/pickles/word_distributions/'"
   ]
  },
  {
   "cell_type": "code",
   "execution_count": 40,
   "metadata": {
    "collapsed": false
   },
   "outputs": [],
   "source": [
    "import ast\n",
    "\n",
    "topic_pickles = os.listdir(HOME_PATH + VOCABULARIES_PATH)\n",
    "topic_id = 9\n",
    "\n",
    "topic_pickle = pd.read_pickle(HOME_PATH + VOCABULARIES_PATH + topic_pickles[topic_id])\n",
    "topic_dict = topic_pickle.to_dict()\n",
    "\n",
    "# Enhancing dictionary for sorting purposes\n",
    "for key, val in topic_dict.iteritems():\n",
    "    key_as_dict = ast.literal_eval(key)\n",
    "    topic_dict[key] = {'likelihood': val, 'mass': key_as_dict}\n",
    "\n",
    "topic_list = sorted(topic_dict, key=lambda k: topic_dict[k]['mass']['start'])\n"
   ]
  },
  {
   "cell_type": "code",
   "execution_count": 41,
   "metadata": {
    "collapsed": false
   },
   "outputs": [],
   "source": [
    "vocabulary = []\n",
    "likelihoods = []\n",
    "for key in topic_list:\n",
    "    vocabulary.append(key)\n",
    "    likelihoods.append(topic_dict[key]['likelihood'])"
   ]
  },
  {
   "cell_type": "code",
   "execution_count": 42,
   "metadata": {
    "collapsed": false
   },
   "outputs": [
    {
     "data": {
      "text/html": [
       "<iframe id=\"igraph\" scrolling=\"no\" style=\"border:none;\" seamless=\"seamless\" src=\"https://plot.ly/~perdaugmazas/74.embed\" height=\"525px\" width=\"100%\"></iframe>"
      ],
      "text/plain": [
       "<plotly.tools.PlotlyDisplay object>"
      ]
     },
     "execution_count": 42,
     "metadata": {},
     "output_type": "execute_result"
    }
   ],
   "source": [
    "layout = go.Layout(\n",
    "    title='\\'Topic %s\\' vocabulary histogram.' % topic_id,\n",
    "    xaxis=dict(\n",
    "        title=\"Mass range\",\n",
    "        tickfont=dict(size=10),\n",
    "        nticks=3,\n",
    "        tickangle=15\n",
    "    ),\n",
    "    yaxis=dict(\n",
    "        title=\"Likelihood\"\n",
    "    )\n",
    ")\n",
    "data = [\n",
    "    go.Bar(\n",
    "        x=vocabulary,\n",
    "        y=likelihoods\n",
    "    )\n",
    "]\n",
    "fig = go.Figure(data=data, layout=layout)\n",
    "    \n",
    "py.iplot(fig)"
   ]
  },
  {
   "cell_type": "code",
   "execution_count": null,
   "metadata": {
    "collapsed": true
   },
   "outputs": [],
   "source": []
  }
 ],
 "metadata": {
  "kernelspec": {
   "display_name": "Python 2",
   "language": "python",
   "name": "python2"
  },
  "language_info": {
   "codemirror_mode": {
    "name": "ipython",
    "version": 2
   },
   "file_extension": ".py",
   "mimetype": "text/x-python",
   "name": "python",
   "nbconvert_exporter": "python",
   "pygments_lexer": "ipython2",
   "version": "2.7.12"
  }
 },
 "nbformat": 4,
 "nbformat_minor": 1
}
