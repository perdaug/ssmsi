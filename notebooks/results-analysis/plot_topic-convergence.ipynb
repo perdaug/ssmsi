{
 "cells": [
  {
   "cell_type": "code",
   "execution_count": 70,
   "metadata": {
    "collapsed": true
   },
   "outputs": [],
   "source": [
    "import plotly.plotly as py\n",
    "import plotly.graph_objs as go\n",
    "import pandas as pd\n",
    "import numpy as np\n",
    "import os\n",
    "\n",
    "HOME_PATH = os.path.expanduser('~')\n",
    "THETAS_PATH = '/Projects/tminm/heavy_pickles/thetas_over_time.pickle'"
   ]
  },
  {
   "cell_type": "code",
   "execution_count": 71,
   "metadata": {
    "collapsed": false
   },
   "outputs": [],
   "source": [
    "thetas = pd.read_pickle(HOME_PATH + THETAS_PATH)\n",
    "N = thetas.shape[0]\n",
    "K = 10\n",
    "\n",
    "error = []\n",
    "\n",
    "for iteration in xrange(N):\n",
    "    if iteration != 0:\n",
    "        error.append(abs(thetas[iteration, :, :] - thetas[iteration - 1, :, :]))\n",
    "\n",
    "        \n",
    "        \n",
    "for iteration in xrange(N-1):\n",
    "    error[iteration] = np.sum(error[iteration], axis=0)\n",
    "    \n",
    "abs_error = np.array(error)\n"
   ]
  },
  {
   "cell_type": "code",
   "execution_count": 72,
   "metadata": {
    "collapsed": false
   },
   "outputs": [
    {
     "data": {
      "text/html": [
       "<iframe id=\"igraph\" scrolling=\"no\" style=\"border:none;\" seamless=\"seamless\" src=\"https://plot.ly/~arip/36.embed\" height=\"525px\" width=\"100%\"></iframe>"
      ],
      "text/plain": [
       "<plotly.tools.PlotlyDisplay object>"
      ]
     },
     "execution_count": 72,
     "metadata": {},
     "output_type": "execute_result"
    }
   ],
   "source": [
    "\n",
    "traces = []\n",
    "\n",
    "for topic in xrange(K):\n",
    "    trace = go.Scatter(\n",
    "        x = np.linspace(1, N-1, N-1),\n",
    "        y = abs_error[:, topic]\n",
    "    )\n",
    "    traces.append(trace)\n",
    "\n",
    "py.iplot(traces)"
   ]
  },
  {
   "cell_type": "code",
   "execution_count": null,
   "metadata": {
    "collapsed": true
   },
   "outputs": [],
   "source": []
  }
 ],
 "metadata": {
  "kernelspec": {
   "display_name": "Python 2",
   "language": "python",
   "name": "python2"
  },
  "language_info": {
   "codemirror_mode": {
    "name": "ipython",
    "version": 2
   },
   "file_extension": ".py",
   "mimetype": "text/x-python",
   "name": "python",
   "nbconvert_exporter": "python",
   "pygments_lexer": "ipython2",
   "version": "2.7.12"
  }
 },
 "nbformat": 4,
 "nbformat_minor": 1
}
