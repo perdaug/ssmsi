{
 "cells": [
  {
   "cell_type": "code",
   "execution_count": 52,
   "metadata": {
    "collapsed": false
   },
   "outputs": [
    {
     "name": "stdout",
     "output_type": "stream",
     "text": [
      "25\n"
     ]
    }
   ],
   "source": [
    "import os\n",
    "import pickle as pkl\n",
    "import numpy as np\n",
    "\n",
    "\n",
    "HOME_PATH = os.path.expanduser('~') + '/Projects/ssmsi/'\n",
    "DATA_PATH = HOME_PATH + 'pickles/topics/dtm_alpha/'\n",
    "\n",
    "history_alphas = pkl.load(open(DATA_PATH + 'history_alphas.pkl', 'rb'))\n",
    "print len(history_alphas)"
   ]
  },
  {
   "cell_type": "code",
   "execution_count": 74,
   "metadata": {
    "collapsed": false
   },
   "outputs": [
    {
     "name": "stdout",
     "output_type": "stream",
     "text": [
      "(25, 50, 10)\n"
     ]
    }
   ],
   "source": [
    "# import matplotlib.pyplot as plt\n",
    "# %matplotlib inline\n",
    "\n",
    "import plotly.plotly as py\n",
    "from plotly.graph_objs import Surface\n",
    "\n",
    "no_alphas = history_alphas.shape[2]\n",
    "list_alphas = []\n",
    "for i in range(no_alphas):\n",
    "    alpha = dict(z = history_alphas[:, :, i], type='surface')\n",
    "    list_alphas.append(alpha)\n",
    "    \n",
    "py.plot(list_alphas)\n",
    "\n",
    "\n",
    "\n",
    "# alphas_0 = history_alphas[0]\n",
    "# alphas_1 = history_alphas[3]\n",
    "# t = np.linspace(0, 49, num=50)\n",
    "# plt.plot(t, alphas_0, 'b-',linewidth=2)\n",
    "# plt.plot(t, alphas_1,'r-',linewidth=1)\n",
    "# plt.plot([3, 20], [5, 4],'ro')"
   ]
  },
  {
   "cell_type": "code",
   "execution_count": null,
   "metadata": {
    "collapsed": true
   },
   "outputs": [],
   "source": []
  }
 ],
 "metadata": {
  "anaconda-cloud": {},
  "kernelspec": {
   "display_name": "Python [conda env:py27]",
   "language": "python",
   "name": "conda-env-py27-py"
  },
  "language_info": {
   "codemirror_mode": {
    "name": "ipython",
    "version": 2
   },
   "file_extension": ".py",
   "mimetype": "text/x-python",
   "name": "python",
   "nbconvert_exporter": "python",
   "pygments_lexer": "ipython2",
   "version": "2.7.13"
  }
 },
 "nbformat": 4,
 "nbformat_minor": 1
}
