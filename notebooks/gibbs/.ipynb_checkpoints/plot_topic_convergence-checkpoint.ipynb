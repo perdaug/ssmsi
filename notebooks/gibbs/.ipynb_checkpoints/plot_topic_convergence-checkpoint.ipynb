{
 "cells": [
  {
   "cell_type": "code",
   "execution_count": 2,
   "metadata": {
    "collapsed": true
   },
   "outputs": [],
   "source": [
    "import plotly.plotly as py\n",
    "import plotly.graph_objs as go\n",
    "import pandas as pd\n",
    "import numpy as np\n",
    "import os\n",
    "\n",
    "HOME_PATH = os.path.expanduser('~')\n",
    "THETAS_PATH = '/Projects/tminm/heavy_pickles/thetas_over_time.pickle'"
   ]
  },
  {
   "cell_type": "code",
   "execution_count": 67,
   "metadata": {
    "collapsed": false
   },
   "outputs": [],
   "source": [
    "thetas = pd.read_pickle(HOME_PATH + THETAS_PATH)\n",
    "N = thetas.shape[0]\n",
    "K = 10\n",
    "\n",
    "error = []\n",
    "\n",
    "for iteration in xrange(N):\n",
    "    if iteration != 0:\n",
    "        error.append(abs(thetas[iteration, :, :] - thetas[iteration - 1, :, :]))\n",
    "\n",
    "        \n",
    "        \n",
    "for iteration in xrange(N-1):\n",
    "    error[iteration] = np.sum(error[iteration], axis=0)\n",
    "    \n",
    "abs_error = np.array(error)\n"
   ]
  },
  {
   "cell_type": "code",
   "execution_count": 68,
   "metadata": {
    "collapsed": false
   },
   "outputs": [
    {
     "ename": "SyntaxError",
     "evalue": "invalid syntax (<ipython-input-68-6f995d273f47>, line 7)",
     "output_type": "error",
     "traceback": [
      "\u001b[0;36m  File \u001b[0;32m\"<ipython-input-68-6f995d273f47>\"\u001b[0;36m, line \u001b[0;32m7\u001b[0m\n\u001b[0;31m    y = abs_error[:, topic]\u001b[0m\n\u001b[0m    ^\u001b[0m\n\u001b[0;31mSyntaxError\u001b[0m\u001b[0;31m:\u001b[0m invalid syntax\n"
     ]
    }
   ],
   "source": [
    "\n",
    "traces = []\n",
    "\n",
    "for topic in xrange(K):\n",
    "    trace = go.Scatter(\n",
    "        x = np.linspace(1, N-1, N-1),\n",
    "        y = abs_error[:, topic]\n",
    "    )\n",
    "    traces.append(trace)\n",
    "\n",
    "py.iplot(traces)"
   ]
  },
  {
   "cell_type": "code",
   "execution_count": null,
   "metadata": {
    "collapsed": true
   },
   "outputs": [],
   "source": []
  }
 ],
 "metadata": {
  "kernelspec": {
   "display_name": "Python 2",
   "language": "python",
   "name": "python2"
  },
  "language_info": {
   "codemirror_mode": {
    "name": "ipython",
    "version": 2
   },
   "file_extension": ".py",
   "mimetype": "text/x-python",
   "name": "python",
   "nbconvert_exporter": "python",
   "pygments_lexer": "ipython2",
   "version": "2.7.12"
  }
 },
 "nbformat": 4,
 "nbformat_minor": 1
}
