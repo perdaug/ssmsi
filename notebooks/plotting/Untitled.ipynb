{
 "cells": [
  {
   "cell_type": "code",
   "execution_count": 2,
   "metadata": {
    "collapsed": true
   },
   "outputs": [],
   "source": [
    "import os\n",
    "import plotly.plotly as py\n",
    "import plotly.graph_objs as go\n",
    "import pandas as pd\n",
    "import math\n",
    "import numpy as np\n",
    "\n",
    "HOME_PATH = os.path.expanduser('~')\n",
    "PICKLES_PATH = HOME_PATH + '/Projects/tminm/pickles/'\n",
    "HEAVY_PICKLES_PATH = HOME_PATH + '/Projects/tminm/heavy_pickles/'\n",
    "\n",
    "ROW_LENGTH = 62\n",
    "COLUMN_LENGTH = 1.25\n",
    "NUMBER_OF_ROWS = 8"
   ]
  },
  {
   "cell_type": "code",
   "execution_count": 3,
   "metadata": {
    "collapsed": false
   },
   "outputs": [
    {
     "name": "stdout",
     "output_type": "stream",
     "text": [
      "6327\n"
     ]
    }
   ],
   "source": [
    "docs = pd.read_pickle(HEAVY_PICKLES_PATH + 'corpus.pickle').to_dict()\n",
    "print(len(docs))"
   ]
  },
  {
   "cell_type": "code",
   "execution_count": null,
   "metadata": {
    "collapsed": true
   },
   "outputs": [],
   "source": []
  }
 ],
 "metadata": {
  "kernelspec": {
   "display_name": "Python 2",
   "language": "python",
   "name": "python2"
  },
  "language_info": {
   "codemirror_mode": {
    "name": "ipython",
    "version": 2
   },
   "file_extension": ".py",
   "mimetype": "text/x-python",
   "name": "python",
   "nbconvert_exporter": "python",
   "pygments_lexer": "ipython2",
   "version": "2.7.12"
  }
 },
 "nbformat": 4,
 "nbformat_minor": 2
}
