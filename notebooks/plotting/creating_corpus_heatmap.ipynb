{
 "cells": [
  {
   "cell_type": "code",
   "execution_count": 1,
   "metadata": {
    "collapsed": false
   },
   "outputs": [],
   "source": [
    "import plotly.plotly as py\n",
    "import plotly.graph_objs as go\n",
    "import pandas as pd\n",
    "import math\n",
    "import numpy as np\n",
    "\n",
    "ROW_LENGTH = 62\n",
    "COLUMN_LENGTH = 1.25\n",
    "NUMBER_OF_ROWS = 8"
   ]
  },
  {
   "cell_type": "code",
   "execution_count": 2,
   "metadata": {
    "collapsed": true
   },
   "outputs": [
    {
     "name": "stdout",
     "output_type": "stream",
     "text": [
      "[[  6.74811022e-03   1.07259449e-04   2.18496594e-04   1.91411539e-01\n",
      "    1.68854993e-01   2.80181040e-03   9.61263151e-02   3.99250789e-01\n",
      "    9.79277747e-02   3.65529127e-02]\n",
      " [  1.12104526e-02   5.07551087e-04   3.04275203e-04   2.07645102e-01\n",
      "    1.58832907e-01   4.27657681e-03   7.88493706e-02   3.89151335e-01\n",
      "    1.19839272e-01   2.93831574e-02]\n",
      " [  9.06054140e-03   6.00162603e-05   3.89587030e-04   1.07513241e-01\n",
      "    2.18925918e-01   1.56639539e-03   5.52335150e-02   3.99790306e-01\n",
      "    1.12697767e-01   9.47627133e-02]\n",
      " [  9.85114753e-03   5.44184934e-04   2.42266768e-04   1.40526191e-01\n",
      "    2.66197025e-01   9.88576697e-03   6.09143941e-02   3.39005910e-01\n",
      "    8.32210670e-02   8.96120457e-02]\n",
      " [  2.55858435e-02   2.84018060e-03   9.50423090e-03   1.20419344e-01\n",
      "    1.90182884e-01   3.74275323e-02   8.17770333e-02   3.36374025e-01\n",
      "    1.15433306e-01   8.04556207e-02]\n",
      " [  1.20876017e-02   2.66308958e-04   2.73553844e-03   1.30019784e-01\n",
      "    1.87174103e-01   6.05152184e-03   6.15144673e-02   3.52948101e-01\n",
      "    1.73819486e-01   7.33830878e-02]\n",
      " [  9.03463357e-03   4.51245050e-05   3.26472295e-04   1.95005847e-01\n",
      "    2.02233754e-01   5.57767643e-03   6.43373427e-02   3.69124623e-01\n",
      "    1.06013561e-01   4.83009650e-02]\n",
      " [  1.48530732e-02   4.57387596e-04   3.32461852e-05   1.68581881e-01\n",
      "    1.60273545e-01   6.39358910e-04   8.24306194e-02   4.20503976e-01\n",
      "    9.04386650e-02   6.17882482e-02]\n",
      " [  6.55194595e-03   1.79465798e-05   1.39604258e-03   1.61867486e-01\n",
      "    2.13434529e-01   9.60541359e-03   7.96600502e-02   3.19771297e-01\n",
      "    9.56812152e-02   1.12014073e-01]\n",
      " [  3.54943072e-02   1.33712737e-04   5.06301771e-04   2.23783055e-01\n",
      "    1.73368917e-01   2.47268348e-03   8.54652887e-02   3.29558351e-01\n",
      "    9.73215375e-02   5.18958460e-02]]\n"
     ]
    }
   ],
   "source": [
    "document_topic_probabilities = pd.read_pickle('../pickles/document_topic_probabilities.pickle')\n",
    "document_topic_probabilities = pd.read_pickle('../pickles/document_topic_probabilities_rogers_gibbs.pickle')\n",
    "document_topic_probabilities = pd.read_pickle('../pickles/document_topic_probabilities_python.pickle')\n",
    "document_topic_probabilities = pd.read_pickle('../pickles/document_topic_probabilities_ari_gibbs.pickle')\n",
    "document_topic_probabilities = pd.read_pickle('../pickles/document_topic_probabilities_temp.pickle')\n",
    "print document_topic_probabilities[0:10]\n",
    "document_ids_map = pd.read_pickle('../pickles/doc_id_mapping.pickle').to_dict()\n",
    "inverted_document_ids_map = {v: int(k) for k, v in document_ids_map.iteritems()}"
   ]
  },
  {
   "cell_type": "code",
   "execution_count": 3,
   "metadata": {
    "collapsed": true
   },
   "outputs": [],
   "source": [
    "def calculate_the_sizes(data, number_of_rows, row_length, column_length):\n",
    "    data_size = len(data)\n",
    "    single_scan_size = (data_size + 1) / number_of_rows\n",
    "    column_size = int(math.floor(single_scan_size \\\n",
    "    * (column_length / (row_length + column_length))))\n",
    "    row_size = single_scan_size - column_size \n",
    "    return data_size, single_scan_size, column_size, row_size"
   ]
  },
  {
   "cell_type": "code",
   "execution_count": 4,
   "metadata": {
    "collapsed": true
   },
   "outputs": [],
   "source": [
    "def generate_coordinates(data_size, column_size, row_size):    \n",
    "    x_coord = 0\n",
    "    y_coord = NUMBER_OF_ROWS - 1\n",
    "    row_scan = True\n",
    "    scanning_right = True\n",
    "    coordinates = {}\n",
    "    for j in range(0, NUMBER_OF_ROWS):\n",
    "        for i in range(0, row_size):\n",
    "            doc_id = i + column_size * j + row_size * j\n",
    "            coordinates[doc_id] = {'x': x_coord, 'y': y_coord}\n",
    "            # Switching horizontal scanning to vertical.\n",
    "            if (i % (row_size - 1) == 0 and i != 0):\n",
    "                y_coord -= 1\n",
    "                continue\n",
    "            if scanning_right:\n",
    "                x_coord += 1\n",
    "            else:\n",
    "                x_coord -= 1         \n",
    "        # Reversing the scanner's direction.\n",
    "        scanning_right = not scanning_right\n",
    "    return coordinates"
   ]
  },
  {
   "cell_type": "code",
   "execution_count": 5,
   "metadata": {
    "collapsed": false
   },
   "outputs": [],
   "source": [
    "data_size, single_scan_size, column_size, row_size = \\\n",
    "    calculate_the_sizes(inverted_document_ids_map, NUMBER_OF_ROWS, ROW_LENGTH, COLUMN_LENGTH)\n",
    "coordinates_mapping = generate_coordinates(data_size, column_size, row_size)"
   ]
  },
  {
   "cell_type": "code",
   "execution_count": 8,
   "metadata": {
    "collapsed": true
   },
   "outputs": [],
   "source": [
    "topic_id = 0\n",
    "\n",
    "probability_matrix = np.zeros(shape=(NUMBER_OF_ROWS, row_size))\n",
    "for i, doc in enumerate(document_topic_probabilities):\n",
    "    doc_id = inverted_document_ids_map[i]\n",
    "#     doc_id = i\n",
    "    if doc_id in coordinates_mapping:\n",
    "        doc_coord = coordinates_mapping[doc_id]\n",
    "        probability_matrix[doc_coord['y']][doc_coord['x']] = doc[topic_id]"
   ]
  },
  {
   "cell_type": "code",
   "execution_count": 9,
   "metadata": {
    "collapsed": false
   },
   "outputs": [
    {
     "data": {
      "text/html": [
       "<iframe id=\"igraph\" scrolling=\"no\" style=\"border:none;\" seamless=\"seamless\" src=\"https://plot.ly/~arip/10.embed\" height=\"350px\" width=\"100%\"></iframe>"
      ],
      "text/plain": [
       "<plotly.tools.PlotlyDisplay object>"
      ]
     },
     "execution_count": 9,
     "metadata": {},
     "output_type": "execute_result"
    }
   ],
   "source": [
    "import plotly.plotly as py\n",
    "import plotly.graph_objs as go\n",
    "\n",
    "x_vector = np.zeros(shape=(row_size, 1))\n",
    "for i in range(0, row_size):\n",
    "    x_vector[i] = i\n",
    "y_vector = np.zeros(shape=(NUMBER_OF_ROWS, 1))\n",
    "for i in range(0, NUMBER_OF_ROWS):\n",
    "    y_vector[i] = i\n",
    "\n",
    "layout = go.Layout(\n",
    "    title='\\'Topic %s\\' probability distribution.' % topic_id,\n",
    "    height=350,\n",
    "    xaxis=dict(title='x'),\n",
    "    yaxis=dict(title='y')\n",
    ")\n",
    "data = [\n",
    "    go.Heatmap(\n",
    "        z=probability_matrix,\n",
    "        x=x_vector,\n",
    "        y=y_vector,\n",
    "        colorscale='Electric',\n",
    "        colorbar=dict(title='Likelihood')\n",
    "    )\n",
    "]\n",
    "fig = go.Figure(data=data, layout=layout)\n",
    "\n",
    "py.iplot(fig, filename='topic_%s' % topic_id)"
   ]
  },
  {
   "cell_type": "code",
   "execution_count": null,
   "metadata": {
    "collapsed": true
   },
   "outputs": [],
   "source": []
  }
 ],
 "metadata": {
  "kernelspec": {
   "display_name": "Python 2",
   "language": "python",
   "name": "python2"
  },
  "language_info": {
   "codemirror_mode": {
    "name": "ipython",
    "version": 2
   },
   "file_extension": ".py",
   "mimetype": "text/x-python",
   "name": "python",
   "nbconvert_exporter": "python",
   "pygments_lexer": "ipython2",
   "version": "2.7.12"
  }
 },
 "nbformat": 4,
 "nbformat_minor": 1
}
