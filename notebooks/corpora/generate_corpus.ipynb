{
 "cells": [
  {
   "cell_type": "code",
   "execution_count": 3,
   "metadata": {
    "collapsed": false
   },
   "outputs": [],
   "source": [
    "import os\n",
    "import pandas as pd\n",
    "import numpy as np\n",
    "\n",
    "HOME_PATH = os.path.expanduser('~')\n",
    "DATA_PATH = HOME_PATH + '/Projects/ssmsi/pickles/corpora/a-to-h/'\n",
    "OUT_PATH = HOME_PATH + '/Projects/ssmsi/pickles/corpora/synthetic/'\n",
    "\n",
    "vocab_pickle = pd.read_pickle(DATA_PATH + 'a-to-h_vocab.pkl')\n",
    "vocab = vocab_pickle.tolist()"
   ]
  },
  {
   "cell_type": "code",
   "execution_count": 4,
   "metadata": {
    "collapsed": false
   },
   "outputs": [],
   "source": [
    "K = 10\n",
    "V = len(vocab)\n",
    "xi = 1000\n",
    "D = 50\n",
    "\n",
    "alpha = np.random.rand(K)\n",
    "beta = np.zeros((K, V))\n",
    "\n",
    "for r, row in enumerate(beta):\n",
    "    beta[r] = np.random.dirichlet(np.full(V, 1./V))"
   ]
  },
  {
   "cell_type": "code",
   "execution_count": 5,
   "metadata": {
    "collapsed": true
   },
   "outputs": [],
   "source": [
    "def mean_parameter(arr):\n",
    "    return np.exp(arr) / np.sum(np.exp(arr))"
   ]
  },
  {
   "cell_type": "markdown",
   "metadata": {},
   "source": [
    "### Option: Static Generative Process"
   ]
  },
  {
   "cell_type": "code",
   "execution_count": 7,
   "metadata": {
    "collapsed": false
   },
   "outputs": [],
   "source": [
    "theta = np.random.dirichlet(alpha)\n",
    "generated_corpus = {}\n",
    "for i in range(D):\n",
    "    generated_corpus[i] = {}\n",
    "    N = np.random.poisson(xi)\n",
    "    for j in range(N):\n",
    "        topic_distrib = np.random.multinomial(1, theta)\n",
    "        z = np.where(topic_distrib == 1)[0][0]\n",
    "        word_distrib = np.random.multinomial(1, beta[z])\n",
    "        w = np.where(word_distrib == 1)[0][0]\n",
    "        w_key = vocab[w]\n",
    "        if w_key not in generated_corpus[i]:\n",
    "            generated_corpus[i][w_key] = 0\n",
    "        generated_corpus[i][w_key] += 1"
   ]
  },
  {
   "cell_type": "markdown",
   "metadata": {},
   "source": [
    "### Option: Dynamic Generative Process"
   ]
  },
  {
   "cell_type": "code",
   "execution_count": 10,
   "metadata": {
    "collapsed": false
   },
   "outputs": [],
   "source": [
    "corpus_dyn = {}\n",
    "for i in range(D):\n",
    "    corpus_dyn[i] = {}\n",
    "    N = np.random.poisson(xi)\n",
    "    eta = np.random.normal(alpha)\n",
    "    for j in range(N):\n",
    "        mp_eta = mean_parameter(eta)\n",
    "        topic_distrib = np.random.multinomial(1, mp_eta)\n",
    "        z = np.where(topic_distrib == 1)[0][0]\n",
    "        mp_beta = mean_parameter(beta[z])\n",
    "        word_distrib = np.random.multinomial(1, mp_beta)\n",
    "        w = np.where(word_distrib == 1)[0][0]\n",
    "        w_key = vocab[w]\n",
    "        if w_key not in corpus_dyn[i]:\n",
    "            corpus_dyn[i][w_key] = 0\n",
    "        corpus_dyn[i][w_key] += 1\n",
    "    beta = np.random.normal(beta)\n",
    "    alpha = np.random.normal(alpha)"
   ]
  },
  {
   "cell_type": "markdown",
   "metadata": {},
   "source": [
    "### Dump the corpus"
   ]
  },
  {
   "cell_type": "code",
   "execution_count": 9,
   "metadata": {
    "collapsed": true
   },
   "outputs": [],
   "source": [
    "import pickle\n",
    "with open(OUT_PATH + 'd-corpus_' + str(D) + '.pkl', 'wb') as f_out:\n",
    "    pickle.dump(corpus_dyn, f_out)"
   ]
  }
 ],
 "metadata": {
  "anaconda-cloud": {},
  "kernelspec": {
   "display_name": "Python [conda env:py27]",
   "language": "python",
   "name": "conda-env-py27-py"
  },
  "language_info": {
   "codemirror_mode": {
    "name": "ipython",
    "version": 2
   },
   "file_extension": ".py",
   "mimetype": "text/x-python",
   "name": "python",
   "nbconvert_exporter": "python",
   "pygments_lexer": "ipython2",
   "version": "2.7.13"
  }
 },
 "nbformat": 4,
 "nbformat_minor": 1
}
