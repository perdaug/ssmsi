{
 "cells": [
  {
   "cell_type": "code",
   "execution_count": 11,
   "metadata": {
    "collapsed": false
   },
   "outputs": [],
   "source": [
    "import os\n",
    "import pandas as pd\n",
    "import numpy as np\n",
    "\n",
    "HOME_PATH = os.path.expanduser('~')\n",
    "DATA_PATH = HOME_PATH + '/Projects/ssmsi/pickles/corpora/a-to-h/'\n",
    "OUT_PATH = HOME_PATH + '/Projects/ssmsi/pickles/corpora/synthetic/'"
   ]
  },
  {
   "cell_type": "code",
   "execution_count": 2,
   "metadata": {
    "collapsed": false
   },
   "outputs": [],
   "source": [
    "vocab_pickle = pd.read_pickle(DATA_PATH + 'a-to-h_vocab.pickle')\n",
    "vocab = vocab_pickle.tolist()"
   ]
  },
  {
   "cell_type": "code",
   "execution_count": 3,
   "metadata": {
    "collapsed": false
   },
   "outputs": [],
   "source": [
    "K = 10\n",
    "V = len(vocab)\n",
    "xi = 500\n",
    "D = 500\n",
    "\n",
    "alpha = np.random.rand(K)\n",
    "beta = np.zeros((K, V))\n",
    "\n",
    "for r, row in enumerate(beta):\n",
    "    beta[r] = np.random.dirichlet(np.full(V, 1./V))"
   ]
  },
  {
   "cell_type": "code",
   "execution_count": 4,
   "metadata": {
    "collapsed": true
   },
   "outputs": [],
   "source": [
    "def mean_parameter(arr):\n",
    "    return np.exp(arr) / np.sum(np.exp(arr))"
   ]
  },
  {
   "cell_type": "markdown",
   "metadata": {},
   "source": [
    "### Option: Static Generative Process"
   ]
  },
  {
   "cell_type": "code",
   "execution_count": 5,
   "metadata": {
    "collapsed": false
   },
   "outputs": [],
   "source": [
    "theta = np.random.dirichlet(alpha)\n",
    "generated_corpus = {}\n",
    "for i in range(D):\n",
    "    generated_corpus[i] = {}\n",
    "    N = np.random.poisson(xi)\n",
    "    for j in range(N):\n",
    "        topic_distrib = np.random.multinomial(1, theta)\n",
    "        z = np.where(topic_distrib == 1)[0][0]\n",
    "        word_distrib = np.random.multinomial(1, beta[z])\n",
    "        w = np.where(word_distrib == 1)[0][0]\n",
    "        w_key = vocab[w]\n",
    "        if w_key not in generated_corpus[i]:\n",
    "            generated_corpus[i][w_key] = 0\n",
    "        generated_corpus[i][w_key] += 1\n",
    "        \n",
    "corpus_panda = pd.Series(generated_corpus)\n",
    "corpus_panda.to_pickle(OUT_PATH + 'naive_corpus.pickle')"
   ]
  },
  {
   "cell_type": "markdown",
   "metadata": {},
   "source": [
    "### Option: Dynamic Generative Process"
   ]
  },
  {
   "cell_type": "code",
   "execution_count": 5,
   "metadata": {
    "collapsed": false
   },
   "outputs": [],
   "source": [
    "seq_generated_corpus = {}\n",
    "for i in range(D):\n",
    "    seq_generated_corpus[i] = {}\n",
    "    N = np.random.poisson(xi)\n",
    "    eta = np.random.normal(alpha)\n",
    "    for j in range(N):\n",
    "        mp_eta = mean_parameter(eta)\n",
    "        topic_distrib = np.random.multinomial(1, mp_eta)\n",
    "        z = np.where(topic_distrib == 1)[0][0]\n",
    "        mp_beta = mean_parameter(beta[z])\n",
    "        word_distrib = np.random.multinomial(1, mp_beta)\n",
    "        w = np.where(word_distrib == 1)[0][0]\n",
    "        w_key = vocab[w]\n",
    "        if w_key not in seq_generated_corpus[i]:\n",
    "            seq_generated_corpus[i][w_key] = 0\n",
    "        seq_generated_corpus[i][w_key] += 1\n",
    "    beta = np.random.normal(beta)\n",
    "    alpha = np.random.normal(alpha)\n",
    "    \n",
    "# seq_corpus_panda = pd.Series(seq_generated_corpus)\n",
    "# seq_corpus_panda.to_pickle(OUT_PATH + 'seq_corpus.pickle')"
   ]
  },
  {
   "cell_type": "code",
   "execution_count": 20,
   "metadata": {
    "collapsed": false
   },
   "outputs": [],
   "source": [
    "# seq_corpus_panda = pd.Series(seq_generated_corpus)\n",
    "# seq_corpus_panda.to_pickle(OUT_PATH + 'seq-corpus_500docs.pickle', protocol=2)\n",
    "import pickle\n",
    "with open(OUT_PATH + 'seq-corpus_500docs.pickle', 'wb') as out_file:\n",
    "    pickle.dump(seq_generated_corpus, out_file, protocol=4)\n"
   ]
  },
  {
   "cell_type": "code",
   "execution_count": null,
   "metadata": {
    "collapsed": true
   },
   "outputs": [],
   "source": []
  }
 ],
 "metadata": {
  "anaconda-cloud": {},
  "kernelspec": {
   "display_name": "Python [conda root]",
   "language": "python",
   "name": "conda-root-py"
  },
  "language_info": {
   "codemirror_mode": {
    "name": "ipython",
    "version": 3
   },
   "file_extension": ".py",
   "mimetype": "text/x-python",
   "name": "python",
   "nbconvert_exporter": "python",
   "pygments_lexer": "ipython3",
   "version": "3.5.2"
  }
 },
 "nbformat": 4,
 "nbformat_minor": 1
}
