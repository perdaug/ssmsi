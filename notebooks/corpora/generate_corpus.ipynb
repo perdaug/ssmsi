{
 "cells": [
  {
   "cell_type": "code",
   "execution_count": 63,
   "metadata": {
    "collapsed": false
   },
   "outputs": [],
   "source": [
    "import os\n",
    "import pandas as pd\n",
    "import numpy as np\n",
    "\n",
    "HOME_PATH = os.path.expanduser('~')\n",
    "DATA_PATH = HOME_PATH + '/Projects/ssmsi/pickles/corpora/a-to-h/'\n",
    "OUT_PATH = HOME_PATH + '/Projects/ssmsi/pickles/corpora/synthetic/'\n",
    "\n",
    "vocab_pickle = pd.read_pickle(DATA_PATH + 'a-to-h_vocab.pkl')\n",
    "vocab = vocab_pickle.tolist()"
   ]
  },
  {
   "cell_type": "code",
   "execution_count": 64,
   "metadata": {
    "collapsed": true
   },
   "outputs": [],
   "source": [
    "def mean_parameter(arr):\n",
    "    return np.exp(arr) / np.sum(np.exp(arr))"
   ]
  },
  {
   "cell_type": "code",
   "execution_count": 65,
   "metadata": {
    "collapsed": false
   },
   "outputs": [],
   "source": [
    "K = 10\n",
    "V = len(vocab)\n",
    "xi = 1000\n",
    "T = 50\n",
    "\n",
    "alphas = np.zeros((T, K))\n",
    "betas = np.zeros((T, K, V))\n",
    "var_init = 2\n",
    "var_basic = 0.5\n",
    "\n",
    "beta_0 = np.zeros((K, V))\n",
    "for k, beta_0_k in enumerate(beta_0):\n",
    "    beta_0[k] = np.random.normal(beta_0_k, var_init)\n",
    "\n",
    "betas[0] = beta_0\n",
    "for t in xrange (1, T):\n",
    "    betas[t] = np.random.normal(betas[t-1], var_basic)\n",
    "    \n",
    "alphas[0] = np.random.normal(alphas[0], var_init)\n",
    "for t in xrange (1, T):\n",
    "    alphas[t] = np.random.normal(alphas[t-1], var_basic)"
   ]
  },
  {
   "cell_type": "markdown",
   "metadata": {},
   "source": [
    "### Option: Dynamic Generative Process"
   ]
  },
  {
   "cell_type": "code",
   "execution_count": 66,
   "metadata": {
    "collapsed": true
   },
   "outputs": [],
   "source": [
    "corpus_dyn = {}\n",
    "for d in range(T):\n",
    "    corpus_dyn[d] = {}\n",
    "    N = np.random.poisson(xi)\n",
    "    for w in range(N):\n",
    "        eta = mean_parameter(alphas[d])\n",
    "        topic_distrib = np.random.multinomial(1, eta)\n",
    "        z = np.where(topic_distrib == 1)[0][0]\n",
    "        beta_mp = mean_parameter(betas[d][z])\n",
    "        word_distrib = np.random.multinomial(1, beta_mp)\n",
    "        w = np.where(word_distrib == 1)[0][0]\n",
    "        w_key = vocab[w]\n",
    "        if w_key not in corpus_dyn[d]:\n",
    "            corpus_dyn[d][w_key] = 0\n",
    "        corpus_dyn[d][w_key] += 1"
   ]
  },
  {
   "cell_type": "markdown",
   "metadata": {},
   "source": [
    "### Dump the corpus"
   ]
  },
  {
   "cell_type": "code",
   "execution_count": 68,
   "metadata": {
    "collapsed": false
   },
   "outputs": [],
   "source": [
    "import pickle\n",
    "with open(OUT_PATH + 'd-corpus_' + str(T) + '.pkl', 'wb') as f_out:\n",
    "    pickle.dump(corpus_dyn, f_out)"
   ]
  },
  {
   "cell_type": "markdown",
   "metadata": {},
   "source": [
    "### Option: Static Generative Process"
   ]
  },
  {
   "cell_type": "code",
   "execution_count": 7,
   "metadata": {
    "collapsed": false
   },
   "outputs": [],
   "source": [
    "theta = np.random.dirichlet(alpha)\n",
    "generated_corpus = {}\n",
    "for i in range(D):\n",
    "    generated_corpus[i] = {}\n",
    "    N = np.random.poisson(xi)\n",
    "    for j in range(N):\n",
    "        topic_distrib = np.random.multinomial(1, theta)\n",
    "        z = np.where(topic_distrib == 1)[0][0]\n",
    "        word_distrib = np.random.multinomial(1, beta[z])\n",
    "        w = np.where(word_distrib == 1)[0][0]\n",
    "        w_key = vocab[w]\n",
    "        if w_key not in generated_corpus[i]:\n",
    "            generated_corpus[i][w_key] = 0\n",
    "        generated_corpus[i][w_key] += 1"
   ]
  }
 ],
 "metadata": {
  "anaconda-cloud": {},
  "kernelspec": {
   "display_name": "Python [conda env:py27]",
   "language": "python",
   "name": "conda-env-py27-py"
  },
  "language_info": {
   "codemirror_mode": {
    "name": "ipython",
    "version": 2
   },
   "file_extension": ".py",
   "mimetype": "text/x-python",
   "name": "python",
   "nbconvert_exporter": "python",
   "pygments_lexer": "ipython2",
   "version": "2.7.13"
  }
 },
 "nbformat": 4,
 "nbformat_minor": 1
}
