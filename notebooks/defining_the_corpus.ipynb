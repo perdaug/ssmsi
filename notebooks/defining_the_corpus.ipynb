{
 "cells": [
  {
   "cell_type": "markdown",
   "metadata": {},
   "source": [
    "## Preliminaries"
   ]
  },
  {
   "cell_type": "markdown",
   "metadata": {},
   "source": [
    "Setting the classification tolerance in ppm; dismissing entities below the intensity floor in <?>."
   ]
  },
  {
   "cell_type": "code",
   "execution_count": 1,
   "metadata": {
    "collapsed": false
   },
   "outputs": [],
   "source": [
    "import os\n",
    "import json\n",
    "import pymzml\n",
    "import numpy as np\n",
    "import pandas as pd\n",
    "\n",
    "INTENSITY_FLOOR = 10\n",
    "TOLERANCE_FACTOR = 7\n",
    "\n",
    "HOME_PATH = os.path.expanduser('~')\n",
    "DATA_PATH = HOME_PATH + '/Projects/mlinb/data/'\n",
    "DATA_FILENAME = \"abcdefgh_1.mzML\""
   ]
  },
  {
   "cell_type": "markdown",
   "metadata": {},
   "source": [
    "Downloading the data."
   ]
  },
  {
   "cell_type": "code",
   "execution_count": 2,
   "metadata": {
    "collapsed": false
   },
   "outputs": [],
   "source": [
    "import urllib\n",
    "\n",
    "URL = \"https://www.dropbox.com/s/h89znvb6okbfebb/abcdefgh_1.mzML?dl=1\"\n",
    "\n",
    "if not os.path.exists(DATA_PATH):\n",
    "    os.makedirs(DATA_PATH)\n",
    "\n",
    "if not os.path.exists(DATA_PATH + DATA_FILENAME):\n",
    "    urllib.urlretrieve(URL, DATA_PATH + DATA_FILENAME)"
   ]
  },
  {
   "cell_type": "markdown",
   "metadata": {},
   "source": [
    "## Initialisation"
   ]
  },
  {
   "cell_type": "markdown",
   "metadata": {},
   "source": [
    "Running the data."
   ]
  },
  {
   "cell_type": "code",
   "execution_count": 3,
   "metadata": {
    "collapsed": false,
    "scrolled": true
   },
   "outputs": [],
   "source": [
    "run = pymzml.run.Reader(DATA_PATH + DATA_FILENAME)"
   ]
  },
  {
   "cell_type": "markdown",
   "metadata": {},
   "source": [
    "Reading entities in the form of (mass, intensity) tuples."
   ]
  },
  {
   "cell_type": "code",
   "execution_count": 4,
   "metadata": {
    "collapsed": false
   },
   "outputs": [],
   "source": [
    "preprocessed_mnis = []  \n",
    "for spectrum in run:\n",
    "    for mass, intensity in spectrum.peaks:\n",
    "        if intensity > INTENSITY_FLOOR:\n",
    "            preprocessed_mnis.append((mass, intensity, spectrum['id']))"
   ]
  },
  {
   "cell_type": "markdown",
   "metadata": {},
   "source": [
    "Using numpy to sort the tuples in ascending mass order."
   ]
  },
  {
   "cell_type": "code",
   "execution_count": 5,
   "metadata": {
    "collapsed": true
   },
   "outputs": [],
   "source": [
    "mnis_dtype = [('mass', float), ('intensity', float), ('id', int)]\n",
    "mnis = np.array(preprocessed_mnis,dtype = mnis_dtype)\n",
    "mnis.sort(order = 'mass') "
   ]
  },
  {
   "cell_type": "markdown",
   "metadata": {},
   "source": [
    "## Classification"
   ]
  },
  {
   "cell_type": "markdown",
   "metadata": {},
   "source": [
    "Extracting the words."
   ]
  },
  {
   "cell_type": "code",
   "execution_count": 8,
   "metadata": {
    "collapsed": false
   },
   "outputs": [],
   "source": [
    "words = []\n",
    "starting_class_mass = mnis[0][0]\n",
    "previous_mass = mnis[0][0]\n",
    "for entity in mnis:\n",
    "    mass = entity[0]\n",
    "    tolerance = (previous_mass / 1000000) * TOLERANCE_FACTOR\n",
    "    if mass - previous_mass > tolerance:\n",
    "        words.append({'start': starting_class_mass, 'end': previous_mass})\n",
    "        starting_class_mass = mass\n",
    "    previous_mass = mass \n",
    "words.append({'start': starting_class_mass, 'end': previous_mass})"
   ]
  },
  {
   "cell_type": "markdown",
   "metadata": {
    "collapsed": true
   },
   "source": [
    "#### Optional: Pickling the words."
   ]
  },
  {
   "cell_type": "code",
   "execution_count": 10,
   "metadata": {
    "collapsed": false
   },
   "outputs": [],
   "source": [
    "words_series = pd.Series(words)\n",
    "words_series.to_pickle('../heavy_pickles/words.pickle')"
   ]
  },
  {
   "cell_type": "markdown",
   "metadata": {},
   "source": [
    "#### Shortcut: Loading the words pickle."
   ]
  },
  {
   "cell_type": "code",
   "execution_count": 8,
   "metadata": {
    "collapsed": true
   },
   "outputs": [],
   "source": [
    "words = pd.read_pickle('../heavy_pickles/words.pickle')"
   ]
  },
  {
   "cell_type": "markdown",
   "metadata": {},
   "source": [
    "An auxiliary method for classification within a certain range."
   ]
  },
  {
   "cell_type": "code",
   "execution_count": 13,
   "metadata": {
    "collapsed": true
   },
   "outputs": [],
   "source": [
    "def classify(classes, feature):\n",
    "    for class_ in classes:\n",
    "        if feature >= class_['start'] and feature <= class_['end']:\n",
    "            return str(class_)"
   ]
  },
  {
   "cell_type": "markdown",
   "metadata": {},
   "source": [
    "Building the corpus."
   ]
  },
  {
   "cell_type": "code",
   "execution_count": null,
   "metadata": {
    "collapsed": false
   },
   "outputs": [],
   "source": [
    "corpus = {}\n",
    "for entity in mnis:\n",
    "    key = str(entity[2])\n",
    "    if key not in corpus:\n",
    "        corpus[key] = {}\n",
    "    class_ = classify(words, entity[0])\n",
    "    if class_ not in corpus[key]:\n",
    "        corpus[key][class_] = 0\n",
    "    corpus[key][class_] += entity[1]"
   ]
  },
  {
   "cell_type": "markdown",
   "metadata": {},
   "source": [
    "#### Optional: Pickling the corpus."
   ]
  },
  {
   "cell_type": "code",
   "execution_count": 11,
   "metadata": {
    "collapsed": false
   },
   "outputs": [],
   "source": [
    "corpus_series = pd.Series(corpus)\n",
    "corpus_series.to_pickle('../pickles/corpus.pickle')"
   ]
  }
 ],
 "metadata": {
  "kernelspec": {
   "display_name": "Python 2",
   "language": "python",
   "name": "python2"
  },
  "language_info": {
   "codemirror_mode": {
    "name": "ipython",
    "version": 2
   },
   "file_extension": ".py",
   "mimetype": "text/x-python",
   "name": "python",
   "nbconvert_exporter": "python",
   "pygments_lexer": "ipython2",
   "version": "2.7.12"
  }
 },
 "nbformat": 4,
 "nbformat_minor": 1
}
