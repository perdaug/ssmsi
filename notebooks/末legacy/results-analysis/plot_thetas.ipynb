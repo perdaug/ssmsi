{
 "cells": [
  {
   "cell_type": "code",
   "execution_count": 4,
   "metadata": {
    "collapsed": false
   },
   "outputs": [],
   "source": [
    "import pandas as pd\n",
    "import numpy as np\n",
    "import os\n",
    "\n",
    "HOME_PATH = os.path.expanduser('~') + '/Projects/ssmsi/'\n",
    "DATA_PATH = HOME_PATH + 'pickles/topics/'\n",
    "AUX_DATA_PATH = HOME_PATH + 'pickles/corpora/a-to-h/'\n",
    "\n",
    "coordinates_mapping = pd.read_pickle(AUX_DATA_PATH + 'a-to-h_coord-map.pickle').to_dict()"
   ]
  },
  {
   "cell_type": "markdown",
   "metadata": {},
   "source": [
    "### Option: Rogers LDA"
   ]
  },
  {
   "cell_type": "code",
   "execution_count": 2,
   "metadata": {
    "collapsed": false
   },
   "outputs": [],
   "source": [
    "document_ids_map = pd.read_pickle(AUX_DATA_PATH + 'a-to-h_id-map.pickle').to_dict()\n",
    "inverted_document_ids_map = {v: int(k) for k, v in document_ids_map.iteritems()}\n",
    "thetas = pd.read_pickle(DATA_PATH + 'lda_rogers/rogers_thetas.pickle')"
   ]
  },
  {
   "cell_type": "markdown",
   "metadata": {},
   "source": [
    "### Option: Gibbs LDA"
   ]
  },
  {
   "cell_type": "code",
   "execution_count": 6,
   "metadata": {
    "collapsed": false
   },
   "outputs": [],
   "source": [
    "# file_name = 'g_thetas_a-to-h_r.pickle'\n",
    "file_name = 'g_thetas_synthetic_seq.pickle'\n",
    "\n",
    "thetas_all = pd.read_pickle(DATA_PATH + 'lda_gibbs/' + file_name)\n",
    "thetas = thetas_all[-1,:,:]"
   ]
  },
  {
   "cell_type": "markdown",
   "metadata": {},
   "source": [
    "### Mapping the documents to the coordinates\n"
   ]
  },
  {
   "cell_type": "code",
   "execution_count": 11,
   "metadata": {
    "collapsed": false
   },
   "outputs": [],
   "source": [
    "NUMBER_OF_COLUMNS = 776\n",
    "NUMBER_OF_ROWS = 8\n",
    "\n",
    "TOPIC_ID = 1\n",
    "\n",
    "# Mapping to the z values.\n",
    "z_matrix = np.zeros(shape=(NUMBER_OF_ROWS, NUMBER_OF_COLUMNS))\n",
    "for i, doc in enumerate(thetas):\n",
    "    doc_id = i  \n",
    "#     doc_id = inverted_document_ids_map[i] #TOGGLE FOR ROGERS LDA \n",
    "    if doc_id in coordinates_mapping:\n",
    "        doc_coord = coordinates_mapping[doc_id]\n",
    "        z_matrix[doc_coord['y']][doc_coord['x']] = doc[TOPIC_ID]\n",
    "\n",
    "# Creating the x and y axes.         \n",
    "x_vector = np.zeros(shape=(NUMBER_OF_COLUMNS, 1))\n",
    "for i in range(0, NUMBER_OF_COLUMNS):\n",
    "    x_vector[i] = i\n",
    "y_vector = np.zeros(shape=(NUMBER_OF_ROWS, 1))\n",
    "for i in range(0, NUMBER_OF_ROWS):\n",
    "    y_vector[i] = i"
   ]
  },
  {
   "cell_type": "code",
   "execution_count": 12,
   "metadata": {
    "collapsed": false
   },
   "outputs": [
    {
     "data": {
      "text/html": [
       "<iframe id=\"igraph\" scrolling=\"no\" style=\"border:none;\" seamless=\"seamless\" src=\"https://plot.ly/~perdaugmazas/144.embed\" height=\"350px\" width=\"100%\"></iframe>"
      ],
      "text/plain": [
       "<plotly.tools.PlotlyDisplay object>"
      ]
     },
     "execution_count": 12,
     "metadata": {},
     "output_type": "execute_result"
    }
   ],
   "source": [
    "import plotly.plotly as py\n",
    "import plotly.graph_objs as go\n",
    "\n",
    "layout = go.Layout(title='\\'Topic %s\\' probability distribution.' % TOPIC_ID,\n",
    "                   height=350,\n",
    "                   xaxis=dict(title='x'),\n",
    "                   yaxis=dict(title='y'))\n",
    "data = [go.Heatmap(z=z_matrix,\n",
    "                   x=x_vector,\n",
    "                   y=y_vector,\n",
    "                   colorscale='Electric',\n",
    "                   colorbar=dict(title='Likelihood'))]\n",
    "fig = go.Figure(data=data, layout=layout)\n",
    "\n",
    "py.iplot(fig, filename='topic_%s' % TOPIC_ID)"
   ]
  },
  {
   "cell_type": "code",
   "execution_count": null,
   "metadata": {
    "collapsed": true
   },
   "outputs": [],
   "source": []
  }
 ],
 "metadata": {
  "kernelspec": {
   "display_name": "Python 2",
   "language": "python",
   "name": "python2"
  },
  "language_info": {
   "codemirror_mode": {
    "name": "ipython",
    "version": 2
   },
   "file_extension": ".py",
   "mimetype": "text/x-python",
   "name": "python",
   "nbconvert_exporter": "python",
   "pygments_lexer": "ipython2",
   "version": "2.7.13"
  }
 },
 "nbformat": 4,
 "nbformat_minor": 1
}
